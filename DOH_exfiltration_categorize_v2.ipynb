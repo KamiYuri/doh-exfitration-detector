{
 "cells": [
  {
   "cell_type": "code",
   "id": "2c8532279be5d20f",
   "metadata": {
    "ExecuteTime": {
     "end_time": "2024-05-16T08:04:49.513245Z",
     "start_time": "2024-05-16T08:04:37.929730Z"
    }
   },
   "source": [
    "from time import time\n",
    "from enum import Enum\n",
    "\n",
    "import nest_asyncio\n",
    "import pandas as pd\n",
    "import numpy as np\n",
    "import tensorflow as tf\n",
    "from pathlib import Path\n",
    "\n",
    "from keras.layers import Flatten, Dense, Dropout, Conv2D, \\\n",
    "    MaxPool2D\n",
    "from keras.models import Sequential\n",
    "\n",
    "nest_asyncio.apply()\n",
    "SEED = 1337\n",
    "tf.random.set_seed(SEED)\n",
    "import gc\n",
    "\n",
    "gc.collect()\n"
   ],
   "outputs": [
    {
     "name": "stderr",
     "output_type": "stream",
     "text": [
      "2024-05-16 15:04:40.874112: I external/local_tsl/tsl/cuda/cudart_stub.cc:32] Could not find cuda drivers on your machine, GPU will not be used.\n",
      "2024-05-16 15:04:41.607937: I external/local_tsl/tsl/cuda/cudart_stub.cc:32] Could not find cuda drivers on your machine, GPU will not be used.\n",
      "2024-05-16 15:04:43.183847: I tensorflow/core/platform/cpu_feature_guard.cc:210] This TensorFlow binary is optimized to use available CPU instructions in performance-critical operations.\n",
      "To enable the following instructions: AVX2 FMA, in other operations, rebuild TensorFlow with the appropriate compiler flags.\n",
      "2024-05-16 15:04:47.204805: W tensorflow/compiler/tf2tensorrt/utils/py_utils.cc:38] TF-TRT Warning: Could not find TensorRT\n"
     ]
    },
    {
     "data": {
      "text/plain": [
       "0"
      ]
     },
     "execution_count": 1,
     "metadata": {},
     "output_type": "execute_result"
    }
   ],
   "execution_count": 1
  },
  {
   "metadata": {
    "ExecuteTime": {
     "end_time": "2024-05-16T10:38:58.491374Z",
     "start_time": "2024-05-16T10:38:58.479583Z"
    }
   },
   "cell_type": "code",
   "source": [
    "class Label(Enum):\n",
    "    BENIGN = 0\n",
    "    DNSCAT2 = 1\n",
    "    # DNS2TCP = 2\n",
    "    IODINE = 3\n",
    "\n",
    "NUM_FEATURE = 512\n",
    "NUM_CLASSES = len(Label)\n",
    "NUM_PACKETS_PER_FLOW = 10"
   ],
   "id": "c05b9680a7a97c65",
   "outputs": [],
   "execution_count": 11
  },
  {
   "cell_type": "code",
   "id": "3faf91d5820d8813",
   "metadata": {
    "ExecuteTime": {
     "end_time": "2024-05-16T10:39:00.993694Z",
     "start_time": "2024-05-16T10:39:00.987950Z"
    }
   },
   "source": [
    "EXPERIMENT_NAME = \"DOH-Exfiltration-detection\"\n",
    "this_dir = Path.cwd()\n",
    "print(this_dir)"
   ],
   "outputs": [
    {
     "name": "stdout",
     "output_type": "stream",
     "text": [
      "/home/bkcs/Documents/doh/doh-exfiltration-detector\n"
     ]
    }
   ],
   "execution_count": 12
  },
  {
   "cell_type": "markdown",
   "id": "63f886de72dc4c5f",
   "metadata": {},
   "source": "# Get dataset files"
  },
  {
   "cell_type": "code",
   "id": "4c2275836e299872",
   "metadata": {
    "ExecuteTime": {
     "end_time": "2024-05-16T10:39:57.068712Z",
     "start_time": "2024-05-16T10:39:57.054927Z"
    }
   },
   "source": [
    "data_dir = this_dir / \"split_dataset\"\n",
    "\n",
    "csv_list = ['iodine', 'dnscat2', 'benign_firefox_google', 'benign_chrome_adguard']\n",
    "\n",
    "# train_csv = sorted([file for file in data_dir.glob('*_train.csv')])\n",
    "# validate_csv = sorted([file for file in data_dir.glob('*_validate.csv')])\n",
    "# test_csv = sorted([file for file in data_dir.glob('*_test.csv')])\n",
    "train_csv = [data_dir / f'{file}_train.csv' for file in csv_list]\n",
    "validate_csv = [data_dir / f'{file}_val.csv' for file in csv_list]\n",
    "test_csv = [data_dir / f'{file}_test.csv' for file in csv_list]"
   ],
   "outputs": [],
   "execution_count": 21
  },
  {
   "metadata": {
    "ExecuteTime": {
     "end_time": "2024-05-16T10:39:59.191775Z",
     "start_time": "2024-05-16T10:39:59.187824Z"
    }
   },
   "cell_type": "code",
   "source": [
    "def most_frequent(flow):\n",
    "    return max(set(flow), key=flow.count)"
   ],
   "id": "e4b10a58665255bc",
   "outputs": [],
   "execution_count": 22
  },
  {
   "metadata": {
    "ExecuteTime": {
     "end_time": "2024-05-16T10:40:00.099614Z",
     "start_time": "2024-05-16T10:40:00.095459Z"
    }
   },
   "cell_type": "code",
   "source": [
    "def get_label(data):\n",
    "    grouped = data.groupby('flow_id')['label'].apply(list).to_dict()\n",
    "    label = []\n",
    "    for flow in grouped:\n",
    "        label.append(most_frequent(grouped[flow]))\n",
    "\n",
    "    return np.array(label)"
   ],
   "id": "3e683967aad8bca5",
   "outputs": [],
   "execution_count": 23
  },
  {
   "metadata": {
    "ExecuteTime": {
     "end_time": "2024-05-16T10:40:01.389303Z",
     "start_time": "2024-05-16T10:40:01.385400Z"
    }
   },
   "cell_type": "code",
   "source": [
    "def reshape_data(data):\n",
    "    data_without_flow = data.drop('flow_id', axis=1)\n",
    "    return np.array(\n",
    "        (data_without_flow.drop('label', axis=1).to_numpy() / 255).reshape(-1, NUM_PACKETS_PER_FLOW, NUM_FEATURE))"
   ],
   "id": "49f90e3eab9787e1",
   "outputs": [],
   "execution_count": 24
  },
  {
   "metadata": {
    "ExecuteTime": {
     "end_time": "2024-05-16T10:47:43.026915Z",
     "start_time": "2024-05-16T10:47:43.023896Z"
    }
   },
   "cell_type": "code",
   "source": [
    "def get_xy(data):\n",
    "    y = get_label(data)\n",
    "    x = reshape_data(data)\n",
    "    return x, y"
   ],
   "id": "dd60fddcabe77039",
   "outputs": [],
   "execution_count": 30
  },
  {
   "metadata": {},
   "cell_type": "markdown",
   "source": "# Init model",
   "id": "dc10a32b03329be3"
  },
  {
   "cell_type": "code",
   "id": "f630a008b393c78b",
   "metadata": {
    "ExecuteTime": {
     "end_time": "2024-05-16T10:40:04.162880Z",
     "start_time": "2024-05-16T10:40:04.156252Z"
    }
   },
   "source": [
    "def create_keras_model(num_packet_per_flow, num_features, num_classes):\n",
    "    model = Sequential()\n",
    "\n",
    "    model.add(Conv2D(filters=32, kernel_size=(5, 5), padding='Same',\n",
    "                     activation='relu', input_shape=(num_packet_per_flow, num_features, 1)))\n",
    "    model.add(Conv2D(filters=32, kernel_size=(5, 5), padding='Same',\n",
    "                     activation='relu'))\n",
    "    model.add(MaxPool2D(pool_size=(2, 2)))\n",
    "    model.add(Dropout(0.25))\n",
    "\n",
    "    model.add(Conv2D(filters=64, kernel_size=(3, 3), padding='Same',\n",
    "                     activation='relu'))\n",
    "    model.add(Conv2D(filters=64, kernel_size=(3, 3), padding='Same',\n",
    "                     activation='relu'))\n",
    "    model.add(MaxPool2D(pool_size=(2, 2), strides=(2, 2)))\n",
    "    model.add(Dropout(0.25))\n",
    "    model.add(Flatten())\n",
    "    model.add(Dense(256, activation=\"relu\"))\n",
    "    model.add(Dropout(0.5))\n",
    "    model.add(Dense(num_classes, activation=\"softmax\"))\n",
    "    return model"
   ],
   "outputs": [],
   "execution_count": 26
  },
  {
   "cell_type": "code",
   "id": "fde12118b8a6f73c",
   "metadata": {
    "ExecuteTime": {
     "end_time": "2024-05-16T10:40:06.754907Z",
     "start_time": "2024-05-16T10:40:06.596584Z"
    }
   },
   "source": [
    "# Initialize the model\n",
    "client_lr = 3e-4\n",
    "NUM_ROUNDS = 300\n",
    "BATCH_SIZE = 4\n",
    "\n",
    "model = create_keras_model(NUM_PACKETS_PER_FLOW, NUM_FEATURE, NUM_CLASSES)\n",
    "model.summary()\n",
    "\n",
    "model.compile(optimizer=tf.keras.optimizers.Adam(\n",
    "    learning_rate=client_lr), loss=tf.keras.losses.SparseCategoricalCrossentropy(),\n",
    "    metrics=['sparse_categorical_accuracy'])"
   ],
   "outputs": [
    {
     "name": "stderr",
     "output_type": "stream",
     "text": [
      "/home/bkcs/Documents/doh/doh-exfiltration-detector/.venv/lib/python3.9/site-packages/keras/src/layers/convolutional/base_conv.py:99: UserWarning: Do not pass an `input_shape`/`input_dim` argument to a layer. When using Sequential models, prefer using an `Input(shape)` object as the first layer in the model instead.\n",
      "  super().__init__(\n"
     ]
    },
    {
     "data": {
      "text/plain": [
       "\u001B[1mModel: \"sequential_1\"\u001B[0m\n"
      ],
      "text/html": [
       "<pre style=\"white-space:pre;overflow-x:auto;line-height:normal;font-family:Menlo,'DejaVu Sans Mono',consolas,'Courier New',monospace\"><span style=\"font-weight: bold\">Model: \"sequential_1\"</span>\n",
       "</pre>\n"
      ]
     },
     "metadata": {},
     "output_type": "display_data"
    },
    {
     "data": {
      "text/plain": [
       "┏━━━━━━━━━━━━━━━━━━━━━━━━━━━━━━━━━┳━━━━━━━━━━━━━━━━━━━━━━━━┳━━━━━━━━━━━━━━━┓\n",
       "┃\u001B[1m \u001B[0m\u001B[1mLayer (type)                   \u001B[0m\u001B[1m \u001B[0m┃\u001B[1m \u001B[0m\u001B[1mOutput Shape          \u001B[0m\u001B[1m \u001B[0m┃\u001B[1m \u001B[0m\u001B[1m      Param #\u001B[0m\u001B[1m \u001B[0m┃\n",
       "┡━━━━━━━━━━━━━━━━━━━━━━━━━━━━━━━━━╇━━━━━━━━━━━━━━━━━━━━━━━━╇━━━━━━━━━━━━━━━┩\n",
       "│ conv2d_4 (\u001B[38;5;33mConv2D\u001B[0m)               │ (\u001B[38;5;45mNone\u001B[0m, \u001B[38;5;34m10\u001B[0m, \u001B[38;5;34m512\u001B[0m, \u001B[38;5;34m32\u001B[0m)    │           \u001B[38;5;34m832\u001B[0m │\n",
       "├─────────────────────────────────┼────────────────────────┼───────────────┤\n",
       "│ conv2d_5 (\u001B[38;5;33mConv2D\u001B[0m)               │ (\u001B[38;5;45mNone\u001B[0m, \u001B[38;5;34m10\u001B[0m, \u001B[38;5;34m512\u001B[0m, \u001B[38;5;34m32\u001B[0m)    │        \u001B[38;5;34m25,632\u001B[0m │\n",
       "├─────────────────────────────────┼────────────────────────┼───────────────┤\n",
       "│ max_pooling2d_2 (\u001B[38;5;33mMaxPooling2D\u001B[0m)  │ (\u001B[38;5;45mNone\u001B[0m, \u001B[38;5;34m5\u001B[0m, \u001B[38;5;34m256\u001B[0m, \u001B[38;5;34m32\u001B[0m)     │             \u001B[38;5;34m0\u001B[0m │\n",
       "├─────────────────────────────────┼────────────────────────┼───────────────┤\n",
       "│ dropout_3 (\u001B[38;5;33mDropout\u001B[0m)             │ (\u001B[38;5;45mNone\u001B[0m, \u001B[38;5;34m5\u001B[0m, \u001B[38;5;34m256\u001B[0m, \u001B[38;5;34m32\u001B[0m)     │             \u001B[38;5;34m0\u001B[0m │\n",
       "├─────────────────────────────────┼────────────────────────┼───────────────┤\n",
       "│ conv2d_6 (\u001B[38;5;33mConv2D\u001B[0m)               │ (\u001B[38;5;45mNone\u001B[0m, \u001B[38;5;34m5\u001B[0m, \u001B[38;5;34m256\u001B[0m, \u001B[38;5;34m64\u001B[0m)     │        \u001B[38;5;34m18,496\u001B[0m │\n",
       "├─────────────────────────────────┼────────────────────────┼───────────────┤\n",
       "│ conv2d_7 (\u001B[38;5;33mConv2D\u001B[0m)               │ (\u001B[38;5;45mNone\u001B[0m, \u001B[38;5;34m5\u001B[0m, \u001B[38;5;34m256\u001B[0m, \u001B[38;5;34m64\u001B[0m)     │        \u001B[38;5;34m36,928\u001B[0m │\n",
       "├─────────────────────────────────┼────────────────────────┼───────────────┤\n",
       "│ max_pooling2d_3 (\u001B[38;5;33mMaxPooling2D\u001B[0m)  │ (\u001B[38;5;45mNone\u001B[0m, \u001B[38;5;34m2\u001B[0m, \u001B[38;5;34m128\u001B[0m, \u001B[38;5;34m64\u001B[0m)     │             \u001B[38;5;34m0\u001B[0m │\n",
       "├─────────────────────────────────┼────────────────────────┼───────────────┤\n",
       "│ dropout_4 (\u001B[38;5;33mDropout\u001B[0m)             │ (\u001B[38;5;45mNone\u001B[0m, \u001B[38;5;34m2\u001B[0m, \u001B[38;5;34m128\u001B[0m, \u001B[38;5;34m64\u001B[0m)     │             \u001B[38;5;34m0\u001B[0m │\n",
       "├─────────────────────────────────┼────────────────────────┼───────────────┤\n",
       "│ flatten_1 (\u001B[38;5;33mFlatten\u001B[0m)             │ (\u001B[38;5;45mNone\u001B[0m, \u001B[38;5;34m16384\u001B[0m)          │             \u001B[38;5;34m0\u001B[0m │\n",
       "├─────────────────────────────────┼────────────────────────┼───────────────┤\n",
       "│ dense_2 (\u001B[38;5;33mDense\u001B[0m)                 │ (\u001B[38;5;45mNone\u001B[0m, \u001B[38;5;34m256\u001B[0m)            │     \u001B[38;5;34m4,194,560\u001B[0m │\n",
       "├─────────────────────────────────┼────────────────────────┼───────────────┤\n",
       "│ dropout_5 (\u001B[38;5;33mDropout\u001B[0m)             │ (\u001B[38;5;45mNone\u001B[0m, \u001B[38;5;34m256\u001B[0m)            │             \u001B[38;5;34m0\u001B[0m │\n",
       "├─────────────────────────────────┼────────────────────────┼───────────────┤\n",
       "│ dense_3 (\u001B[38;5;33mDense\u001B[0m)                 │ (\u001B[38;5;45mNone\u001B[0m, \u001B[38;5;34m3\u001B[0m)              │           \u001B[38;5;34m771\u001B[0m │\n",
       "└─────────────────────────────────┴────────────────────────┴───────────────┘\n"
      ],
      "text/html": [
       "<pre style=\"white-space:pre;overflow-x:auto;line-height:normal;font-family:Menlo,'DejaVu Sans Mono',consolas,'Courier New',monospace\">┏━━━━━━━━━━━━━━━━━━━━━━━━━━━━━━━━━┳━━━━━━━━━━━━━━━━━━━━━━━━┳━━━━━━━━━━━━━━━┓\n",
       "┃<span style=\"font-weight: bold\"> Layer (type)                    </span>┃<span style=\"font-weight: bold\"> Output Shape           </span>┃<span style=\"font-weight: bold\">       Param # </span>┃\n",
       "┡━━━━━━━━━━━━━━━━━━━━━━━━━━━━━━━━━╇━━━━━━━━━━━━━━━━━━━━━━━━╇━━━━━━━━━━━━━━━┩\n",
       "│ conv2d_4 (<span style=\"color: #0087ff; text-decoration-color: #0087ff\">Conv2D</span>)               │ (<span style=\"color: #00d7ff; text-decoration-color: #00d7ff\">None</span>, <span style=\"color: #00af00; text-decoration-color: #00af00\">10</span>, <span style=\"color: #00af00; text-decoration-color: #00af00\">512</span>, <span style=\"color: #00af00; text-decoration-color: #00af00\">32</span>)    │           <span style=\"color: #00af00; text-decoration-color: #00af00\">832</span> │\n",
       "├─────────────────────────────────┼────────────────────────┼───────────────┤\n",
       "│ conv2d_5 (<span style=\"color: #0087ff; text-decoration-color: #0087ff\">Conv2D</span>)               │ (<span style=\"color: #00d7ff; text-decoration-color: #00d7ff\">None</span>, <span style=\"color: #00af00; text-decoration-color: #00af00\">10</span>, <span style=\"color: #00af00; text-decoration-color: #00af00\">512</span>, <span style=\"color: #00af00; text-decoration-color: #00af00\">32</span>)    │        <span style=\"color: #00af00; text-decoration-color: #00af00\">25,632</span> │\n",
       "├─────────────────────────────────┼────────────────────────┼───────────────┤\n",
       "│ max_pooling2d_2 (<span style=\"color: #0087ff; text-decoration-color: #0087ff\">MaxPooling2D</span>)  │ (<span style=\"color: #00d7ff; text-decoration-color: #00d7ff\">None</span>, <span style=\"color: #00af00; text-decoration-color: #00af00\">5</span>, <span style=\"color: #00af00; text-decoration-color: #00af00\">256</span>, <span style=\"color: #00af00; text-decoration-color: #00af00\">32</span>)     │             <span style=\"color: #00af00; text-decoration-color: #00af00\">0</span> │\n",
       "├─────────────────────────────────┼────────────────────────┼───────────────┤\n",
       "│ dropout_3 (<span style=\"color: #0087ff; text-decoration-color: #0087ff\">Dropout</span>)             │ (<span style=\"color: #00d7ff; text-decoration-color: #00d7ff\">None</span>, <span style=\"color: #00af00; text-decoration-color: #00af00\">5</span>, <span style=\"color: #00af00; text-decoration-color: #00af00\">256</span>, <span style=\"color: #00af00; text-decoration-color: #00af00\">32</span>)     │             <span style=\"color: #00af00; text-decoration-color: #00af00\">0</span> │\n",
       "├─────────────────────────────────┼────────────────────────┼───────────────┤\n",
       "│ conv2d_6 (<span style=\"color: #0087ff; text-decoration-color: #0087ff\">Conv2D</span>)               │ (<span style=\"color: #00d7ff; text-decoration-color: #00d7ff\">None</span>, <span style=\"color: #00af00; text-decoration-color: #00af00\">5</span>, <span style=\"color: #00af00; text-decoration-color: #00af00\">256</span>, <span style=\"color: #00af00; text-decoration-color: #00af00\">64</span>)     │        <span style=\"color: #00af00; text-decoration-color: #00af00\">18,496</span> │\n",
       "├─────────────────────────────────┼────────────────────────┼───────────────┤\n",
       "│ conv2d_7 (<span style=\"color: #0087ff; text-decoration-color: #0087ff\">Conv2D</span>)               │ (<span style=\"color: #00d7ff; text-decoration-color: #00d7ff\">None</span>, <span style=\"color: #00af00; text-decoration-color: #00af00\">5</span>, <span style=\"color: #00af00; text-decoration-color: #00af00\">256</span>, <span style=\"color: #00af00; text-decoration-color: #00af00\">64</span>)     │        <span style=\"color: #00af00; text-decoration-color: #00af00\">36,928</span> │\n",
       "├─────────────────────────────────┼────────────────────────┼───────────────┤\n",
       "│ max_pooling2d_3 (<span style=\"color: #0087ff; text-decoration-color: #0087ff\">MaxPooling2D</span>)  │ (<span style=\"color: #00d7ff; text-decoration-color: #00d7ff\">None</span>, <span style=\"color: #00af00; text-decoration-color: #00af00\">2</span>, <span style=\"color: #00af00; text-decoration-color: #00af00\">128</span>, <span style=\"color: #00af00; text-decoration-color: #00af00\">64</span>)     │             <span style=\"color: #00af00; text-decoration-color: #00af00\">0</span> │\n",
       "├─────────────────────────────────┼────────────────────────┼───────────────┤\n",
       "│ dropout_4 (<span style=\"color: #0087ff; text-decoration-color: #0087ff\">Dropout</span>)             │ (<span style=\"color: #00d7ff; text-decoration-color: #00d7ff\">None</span>, <span style=\"color: #00af00; text-decoration-color: #00af00\">2</span>, <span style=\"color: #00af00; text-decoration-color: #00af00\">128</span>, <span style=\"color: #00af00; text-decoration-color: #00af00\">64</span>)     │             <span style=\"color: #00af00; text-decoration-color: #00af00\">0</span> │\n",
       "├─────────────────────────────────┼────────────────────────┼───────────────┤\n",
       "│ flatten_1 (<span style=\"color: #0087ff; text-decoration-color: #0087ff\">Flatten</span>)             │ (<span style=\"color: #00d7ff; text-decoration-color: #00d7ff\">None</span>, <span style=\"color: #00af00; text-decoration-color: #00af00\">16384</span>)          │             <span style=\"color: #00af00; text-decoration-color: #00af00\">0</span> │\n",
       "├─────────────────────────────────┼────────────────────────┼───────────────┤\n",
       "│ dense_2 (<span style=\"color: #0087ff; text-decoration-color: #0087ff\">Dense</span>)                 │ (<span style=\"color: #00d7ff; text-decoration-color: #00d7ff\">None</span>, <span style=\"color: #00af00; text-decoration-color: #00af00\">256</span>)            │     <span style=\"color: #00af00; text-decoration-color: #00af00\">4,194,560</span> │\n",
       "├─────────────────────────────────┼────────────────────────┼───────────────┤\n",
       "│ dropout_5 (<span style=\"color: #0087ff; text-decoration-color: #0087ff\">Dropout</span>)             │ (<span style=\"color: #00d7ff; text-decoration-color: #00d7ff\">None</span>, <span style=\"color: #00af00; text-decoration-color: #00af00\">256</span>)            │             <span style=\"color: #00af00; text-decoration-color: #00af00\">0</span> │\n",
       "├─────────────────────────────────┼────────────────────────┼───────────────┤\n",
       "│ dense_3 (<span style=\"color: #0087ff; text-decoration-color: #0087ff\">Dense</span>)                 │ (<span style=\"color: #00d7ff; text-decoration-color: #00d7ff\">None</span>, <span style=\"color: #00af00; text-decoration-color: #00af00\">3</span>)              │           <span style=\"color: #00af00; text-decoration-color: #00af00\">771</span> │\n",
       "└─────────────────────────────────┴────────────────────────┴───────────────┘\n",
       "</pre>\n"
      ]
     },
     "metadata": {},
     "output_type": "display_data"
    },
    {
     "data": {
      "text/plain": [
       "\u001B[1m Total params: \u001B[0m\u001B[38;5;34m4,277,219\u001B[0m (16.32 MB)\n"
      ],
      "text/html": [
       "<pre style=\"white-space:pre;overflow-x:auto;line-height:normal;font-family:Menlo,'DejaVu Sans Mono',consolas,'Courier New',monospace\"><span style=\"font-weight: bold\"> Total params: </span><span style=\"color: #00af00; text-decoration-color: #00af00\">4,277,219</span> (16.32 MB)\n",
       "</pre>\n"
      ]
     },
     "metadata": {},
     "output_type": "display_data"
    },
    {
     "data": {
      "text/plain": [
       "\u001B[1m Trainable params: \u001B[0m\u001B[38;5;34m4,277,219\u001B[0m (16.32 MB)\n"
      ],
      "text/html": [
       "<pre style=\"white-space:pre;overflow-x:auto;line-height:normal;font-family:Menlo,'DejaVu Sans Mono',consolas,'Courier New',monospace\"><span style=\"font-weight: bold\"> Trainable params: </span><span style=\"color: #00af00; text-decoration-color: #00af00\">4,277,219</span> (16.32 MB)\n",
       "</pre>\n"
      ]
     },
     "metadata": {},
     "output_type": "display_data"
    },
    {
     "data": {
      "text/plain": [
       "\u001B[1m Non-trainable params: \u001B[0m\u001B[38;5;34m0\u001B[0m (0.00 B)\n"
      ],
      "text/html": [
       "<pre style=\"white-space:pre;overflow-x:auto;line-height:normal;font-family:Menlo,'DejaVu Sans Mono',consolas,'Courier New',monospace\"><span style=\"font-weight: bold\"> Non-trainable params: </span><span style=\"color: #00af00; text-decoration-color: #00af00\">0</span> (0.00 B)\n",
       "</pre>\n"
      ]
     },
     "metadata": {},
     "output_type": "display_data"
    }
   ],
   "execution_count": 27
  },
  {
   "metadata": {},
   "cell_type": "markdown",
   "source": "### Load the dataset",
   "id": "3cc05282f40f878"
  },
  {
   "metadata": {
    "ExecuteTime": {
     "end_time": "2024-05-16T10:52:45.130365Z",
     "start_time": "2024-05-16T10:52:11.832886Z"
    }
   },
   "cell_type": "code",
   "source": [
    "train_df = pd.concat([pd.read_csv(file) for file in train_csv])\n",
    "# validate_df = pd.concat([pd.read_csv(file) for file in validate_csv])"
   ],
   "id": "c17b8d1d28b2ef8c",
   "outputs": [],
   "execution_count": 39
  },
  {
   "metadata": {
    "ExecuteTime": {
     "end_time": "2024-05-16T10:55:51.023090Z",
     "start_time": "2024-05-16T10:55:51.000688Z"
    }
   },
   "cell_type": "code",
   "source": "train_df['flow_id']",
   "id": "d54a4ce90468f3a1",
   "outputs": [
    {
     "data": {
      "text/plain": [
       "0             3\n",
       "1             3\n",
       "2             3\n",
       "3             3\n",
       "4             3\n",
       "          ...  \n",
       "156135    29365\n",
       "156136    29365\n",
       "156137    29365\n",
       "156138    29365\n",
       "156139    29365\n",
       "Name: flow_id, Length: 326050, dtype: int64"
      ]
     },
     "execution_count": 47,
     "metadata": {},
     "output_type": "execute_result"
    }
   ],
   "execution_count": 47
  },
  {
   "metadata": {
    "ExecuteTime": {
     "end_time": "2024-05-16T10:56:13.141556Z",
     "start_time": "2024-05-16T10:56:13.134803Z"
    }
   },
   "cell_type": "code",
   "source": "train_df['label']",
   "id": "e28c1810a8e81179",
   "outputs": [
    {
     "data": {
      "text/plain": [
       "0         iodine\n",
       "1         iodine\n",
       "2         iodine\n",
       "3         iodine\n",
       "4         iodine\n",
       "           ...  \n",
       "156135    benign\n",
       "156136    benign\n",
       "156137    benign\n",
       "156138    benign\n",
       "156139    benign\n",
       "Name: label, Length: 326050, dtype: object"
      ]
     },
     "execution_count": 48,
     "metadata": {},
     "output_type": "execute_result"
    }
   ],
   "execution_count": 48
  },
  {
   "metadata": {
    "ExecuteTime": {
     "end_time": "2024-05-16T10:53:48.749511Z",
     "start_time": "2024-05-16T10:53:48.005367Z"
    }
   },
   "cell_type": "code",
   "source": "get_label(train_df)",
   "id": "ba36206c309ae622",
   "outputs": [
    {
     "data": {
      "text/plain": [
       "array(['benign', 'dnscat2', 'benign', ..., 'benign', 'benign', 'benign'],\n",
       "      dtype='<U7')"
      ]
     },
     "execution_count": 42,
     "metadata": {},
     "output_type": "execute_result"
    }
   ],
   "execution_count": 42
  },
  {
   "metadata": {
    "ExecuteTime": {
     "end_time": "2024-05-16T10:50:51.531192Z",
     "start_time": "2024-05-16T10:49:57.001890Z"
    }
   },
   "cell_type": "code",
   "source": [
    "x_train, y_train = get_xy(train_df)\n",
    "# x_validate, y_validate = get_xy(validate_df)"
   ],
   "id": "2618339447ee6657",
   "outputs": [],
   "execution_count": 36
  },
  {
   "metadata": {
    "ExecuteTime": {
     "end_time": "2024-05-16T10:51:47.196147Z",
     "start_time": "2024-05-16T10:51:13.725019Z"
    }
   },
   "cell_type": "code",
   "source": [
    "# Collect garbage\n",
    "del train_df\n",
    "gc.collect()"
   ],
   "id": "21867246c737c9c4",
   "outputs": [
    {
     "data": {
      "text/plain": [
       "659"
      ]
     },
     "execution_count": 37,
     "metadata": {},
     "output_type": "execute_result"
    }
   ],
   "execution_count": 37
  },
  {
   "metadata": {
    "ExecuteTime": {
     "end_time": "2024-05-16T10:51:51.267390Z",
     "start_time": "2024-05-16T10:51:51.248784Z"
    }
   },
   "cell_type": "code",
   "source": "print(x_train.shape, y_train.shape)",
   "id": "d729fbd989cb0b1",
   "outputs": [
    {
     "name": "stdout",
     "output_type": "stream",
     "text": [
      "(32605, 10, 512) (20514,)\n"
     ]
    }
   ],
   "execution_count": 38
  },
  {
   "metadata": {
    "ExecuteTime": {
     "end_time": "2024-05-16T10:48:18.308820Z",
     "start_time": "2024-05-16T10:48:17.958478Z"
    }
   },
   "cell_type": "code",
   "source": [
    "start = time()\n",
    "\n",
    "history = model.fit(x_train, y_train, epochs=5, batch_size=BATCH_SIZE, shuffle=True,\n",
    "                    validation_data=(x_validate, y_validate))\n",
    "\n",
    "end = time() - start\n",
    "print(f'Training time: {end} seconds')"
   ],
   "id": "68aceb3ee7c7e8fe",
   "outputs": [
    {
     "ename": "ValueError",
     "evalue": "Data cardinality is ambiguous. Make sure all arrays contain the same number of samples.'x' sizes: 32605\n'y' sizes: 20514\n",
     "output_type": "error",
     "traceback": [
      "\u001B[0;31m---------------------------------------------------------------------------\u001B[0m",
      "\u001B[0;31mValueError\u001B[0m                                Traceback (most recent call last)",
      "Cell \u001B[0;32mIn[33], line 3\u001B[0m\n\u001B[1;32m      1\u001B[0m start \u001B[38;5;241m=\u001B[39m time()\n\u001B[0;32m----> 3\u001B[0m history \u001B[38;5;241m=\u001B[39m \u001B[43mmodel\u001B[49m\u001B[38;5;241;43m.\u001B[39;49m\u001B[43mfit\u001B[49m\u001B[43m(\u001B[49m\u001B[43mx_train\u001B[49m\u001B[43m,\u001B[49m\u001B[43m \u001B[49m\u001B[43my_train\u001B[49m\u001B[43m,\u001B[49m\u001B[43m \u001B[49m\u001B[43mepochs\u001B[49m\u001B[38;5;241;43m=\u001B[39;49m\u001B[38;5;241;43m5\u001B[39;49m\u001B[43m,\u001B[49m\u001B[43m \u001B[49m\u001B[43mbatch_size\u001B[49m\u001B[38;5;241;43m=\u001B[39;49m\u001B[43mBATCH_SIZE\u001B[49m\u001B[43m,\u001B[49m\u001B[43m \u001B[49m\u001B[43mshuffle\u001B[49m\u001B[38;5;241;43m=\u001B[39;49m\u001B[38;5;28;43;01mTrue\u001B[39;49;00m\u001B[43m,\u001B[49m\n\u001B[1;32m      4\u001B[0m \u001B[43m                    \u001B[49m\u001B[43mvalidation_data\u001B[49m\u001B[38;5;241;43m=\u001B[39;49m\u001B[43m(\u001B[49m\u001B[43mx_validate\u001B[49m\u001B[43m,\u001B[49m\u001B[43m \u001B[49m\u001B[43my_validate\u001B[49m\u001B[43m)\u001B[49m\u001B[43m)\u001B[49m\n\u001B[1;32m      6\u001B[0m end \u001B[38;5;241m=\u001B[39m time() \u001B[38;5;241m-\u001B[39m start\n\u001B[1;32m      7\u001B[0m \u001B[38;5;28mprint\u001B[39m(\u001B[38;5;124mf\u001B[39m\u001B[38;5;124m'\u001B[39m\u001B[38;5;124mTraining time: \u001B[39m\u001B[38;5;132;01m{\u001B[39;00mend\u001B[38;5;132;01m}\u001B[39;00m\u001B[38;5;124m seconds\u001B[39m\u001B[38;5;124m'\u001B[39m)\n",
      "File \u001B[0;32m~/Documents/doh/doh-exfiltration-detector/.venv/lib/python3.9/site-packages/keras/src/utils/traceback_utils.py:122\u001B[0m, in \u001B[0;36mfilter_traceback.<locals>.error_handler\u001B[0;34m(*args, **kwargs)\u001B[0m\n\u001B[1;32m    119\u001B[0m     filtered_tb \u001B[38;5;241m=\u001B[39m _process_traceback_frames(e\u001B[38;5;241m.\u001B[39m__traceback__)\n\u001B[1;32m    120\u001B[0m     \u001B[38;5;66;03m# To get the full stack trace, call:\u001B[39;00m\n\u001B[1;32m    121\u001B[0m     \u001B[38;5;66;03m# `keras.config.disable_traceback_filtering()`\u001B[39;00m\n\u001B[0;32m--> 122\u001B[0m     \u001B[38;5;28;01mraise\u001B[39;00m e\u001B[38;5;241m.\u001B[39mwith_traceback(filtered_tb) \u001B[38;5;28;01mfrom\u001B[39;00m \u001B[38;5;28;01mNone\u001B[39;00m\n\u001B[1;32m    123\u001B[0m \u001B[38;5;28;01mfinally\u001B[39;00m:\n\u001B[1;32m    124\u001B[0m     \u001B[38;5;28;01mdel\u001B[39;00m filtered_tb\n",
      "File \u001B[0;32m~/Documents/doh/doh-exfiltration-detector/.venv/lib/python3.9/site-packages/keras/src/trainers/data_adapters/data_adapter_utils.py:114\u001B[0m, in \u001B[0;36mcheck_data_cardinality\u001B[0;34m(data)\u001B[0m\n\u001B[1;32m    110\u001B[0m     sizes \u001B[38;5;241m=\u001B[39m \u001B[38;5;124m\"\u001B[39m\u001B[38;5;124m, \u001B[39m\u001B[38;5;124m\"\u001B[39m\u001B[38;5;241m.\u001B[39mjoin(\n\u001B[1;32m    111\u001B[0m         \u001B[38;5;28mstr\u001B[39m(i\u001B[38;5;241m.\u001B[39mshape[\u001B[38;5;241m0\u001B[39m]) \u001B[38;5;28;01mfor\u001B[39;00m i \u001B[38;5;129;01min\u001B[39;00m tree\u001B[38;5;241m.\u001B[39mflatten(single_data)\n\u001B[1;32m    112\u001B[0m     )\n\u001B[1;32m    113\u001B[0m     msg \u001B[38;5;241m+\u001B[39m\u001B[38;5;241m=\u001B[39m \u001B[38;5;124mf\u001B[39m\u001B[38;5;124m\"\u001B[39m\u001B[38;5;124m'\u001B[39m\u001B[38;5;132;01m{\u001B[39;00mlabel\u001B[38;5;132;01m}\u001B[39;00m\u001B[38;5;124m'\u001B[39m\u001B[38;5;124m sizes: \u001B[39m\u001B[38;5;132;01m{\u001B[39;00msizes\u001B[38;5;132;01m}\u001B[39;00m\u001B[38;5;130;01m\\n\u001B[39;00m\u001B[38;5;124m\"\u001B[39m\n\u001B[0;32m--> 114\u001B[0m \u001B[38;5;28;01mraise\u001B[39;00m \u001B[38;5;167;01mValueError\u001B[39;00m(msg)\n",
      "\u001B[0;31mValueError\u001B[0m: Data cardinality is ambiguous. Make sure all arrays contain the same number of samples.'x' sizes: 32605\n'y' sizes: 20514\n"
     ]
    }
   ],
   "execution_count": 33
  },
  {
   "metadata": {},
   "cell_type": "markdown",
   "source": "# Evaluate the model",
   "id": "b57e97b0d38b0078"
  },
  {
   "cell_type": "code",
   "execution_count": null,
   "id": "13f98f3b",
   "metadata": {
    "ExecuteTime": {
     "end_time": "2024-04-26T21:38:46.395604Z",
     "start_time": "2024-04-26T21:38:44.664191Z"
    }
   },
   "source": [
    "import os\n",
    "\n",
    "result_dir = this_dir / 'results'\n",
    "output_dir = result_dir / EXPERIMENT_NAME\n",
    "\n",
    "if not os.path.exists(output_dir):\n",
    "    os.makedirs(output_dir)"
   ],
   "outputs": []
  },
  {
   "metadata": {},
   "cell_type": "code",
   "outputs": [],
   "execution_count": null,
   "source": [
    "test_df = pd.concat([pd.read_csv(file) for file in test_csv])\n",
    "x_test, y_test = get_data(test_df)"
   ],
   "id": "5bf3ff389c51370d"
  },
  {
   "metadata": {},
   "cell_type": "code",
   "outputs": [],
   "execution_count": null,
   "source": [
    "# Collect garbage\n",
    "del train_df, validate_df\n",
    "gc.collect()"
   ],
   "id": "33255a155766c024"
  },
  {
   "cell_type": "code",
   "execution_count": null,
   "id": "700afefd",
   "metadata": {
    "ExecuteTime": {
     "end_time": "2024-04-26T21:38:47.110893Z",
     "start_time": "2024-04-26T21:38:46.396614Z"
    }
   },
   "source": [
    "best_model_accuracy = history.history['sparse_categorical_accuracy'][np.argmin(history.history['loss'])]\n",
    "_, test_acc = model.evaluate(x_test, y_test, verbose=2, batch_size=BATCH_SIZE)\n",
    "train_val = str(round(best_model_accuracy * 100)) + \"_\" + str(round(test_acc * 100))\n",
    "\n",
    "print(train_val)"
   ],
   "outputs": []
  },
  {
   "cell_type": "code",
   "execution_count": null,
   "id": "4f8b09f5",
   "metadata": {
    "ExecuteTime": {
     "end_time": "2024-04-26T21:38:47.118807Z",
     "start_time": "2024-04-26T21:38:47.112912Z"
    }
   },
   "source": [
    "import keras\n",
    "\n",
    "keras.saving.save_model(model, output_dir / 'model.keras')"
   ],
   "outputs": []
  },
  {
   "cell_type": "code",
   "execution_count": null,
   "id": "135804b7",
   "metadata": {
    "ExecuteTime": {
     "end_time": "2024-04-26T21:38:47.128152Z",
     "start_time": "2024-04-26T21:38:47.120815Z"
    }
   },
   "source": [
    "with open(output_dir / 'parameters.txt', 'w') as f:\n",
    "    print('client_lr: {}\\nEpochs: {}\\nBATCH_SIZE: {}'.format(\n",
    "        client_lr, NUM_ROUNDS, BATCH_SIZE), file=f)\n",
    "    f.close()"
   ],
   "outputs": []
  },
  {
   "cell_type": "code",
   "execution_count": null,
   "id": "47498c23",
   "metadata": {
    "ExecuteTime": {
     "end_time": "2024-04-26T21:38:49.074566Z",
     "start_time": "2024-04-26T21:38:47.130174Z"
    }
   },
   "source": [
    "def sec_to_hours(seconds):\n",
    "    a = seconds // 3600\n",
    "    b = (seconds % 3600) // 60\n",
    "    c = (seconds % 3600) % 60\n",
    "    d = \"{:.0f} hours {:.0f} mins {:.0f} seconds\".format(a, b, c)\n",
    "    return d\n",
    "\n",
    "\n",
    "total_time = \"Time: {}\".format(sec_to_hours(end))\n",
    "\n",
    "text_file = open(output_dir / \"time.txt\", \"w\")\n",
    "n = text_file.write(total_time)\n",
    "text_file.close()"
   ],
   "outputs": []
  },
  {
   "cell_type": "code",
   "execution_count": null,
   "id": "85053eb6",
   "metadata": {
    "ExecuteTime": {
     "end_time": "2024-04-26T21:38:49.081341Z",
     "start_time": "2024-04-26T21:38:49.075617Z"
    }
   },
   "source": [
    "start = time()\n",
    "predictions = model.predict(\n",
    "    x_test, verbose=2, batch_size=BATCH_SIZE)\n",
    "end = time() - start\n",
    "text_file = open(output_dir / \"time.txt\", \"a\")\n",
    "text_file.write(f'\\nPredict time: {sec_to_hours(end)}')\n",
    "text_file.close()"
   ],
   "outputs": []
  },
  {
   "cell_type": "code",
   "execution_count": null,
   "id": "94d5d7ed",
   "metadata": {
    "ExecuteTime": {
     "end_time": "2024-04-26T21:38:49.259360Z",
     "start_time": "2024-04-26T21:38:49.082355Z"
    }
   },
   "source": "flow_pred = np.argmax(predictions, axis=-1)",
   "outputs": []
  },
  {
   "cell_type": "code",
   "execution_count": null,
   "id": "4b0e4a6b",
   "metadata": {
    "ExecuteTime": {
     "end_time": "2024-04-26T21:38:49.884531Z",
     "start_time": "2024-04-26T21:38:49.263366Z"
    }
   },
   "source": [
    "from sklearn.metrics import ConfusionMatrixDisplay\n",
    "from sklearn.metrics import accuracy_score, precision_score, recall_score, f1_score\n",
    "from sklearn.metrics import classification_report\n",
    "\n",
    "CLASSES_LIST = ['Benign', 'DNSCat2', 'DNS2TCP', 'Iodine']\n",
    "\n",
    "with open(output_dir / 'metrics.txt', 'w') as f:\n",
    "    # importing accuracy_score, precision_score, recall_score, f1_score\n",
    "    print('\\nAccuracy: {:.2f}\\n'.format(\n",
    "        accuracy_score(y_test, flow_pred)), file=f)\n",
    "\n",
    "    print('Micro Precision: {:.2f}'.format(\n",
    "        precision_score(y_test, flow_pred, average='micro')), file=f)\n",
    "    print('Micro Recall: {:.2f}'.format(\n",
    "        recall_score(y_test, flow_pred, average='micro')), file=f)\n",
    "    print(\n",
    "        'Micro F1-score: {:.2f}\\n'.format(f1_score(y_test, flow_pred, average='micro')), file=f)\n",
    "\n",
    "    print('Macro Precision: {:.2f}'.format(\n",
    "        precision_score(y_test, flow_pred, average='macro')), file=f)\n",
    "    print('Macro Recall: {:.2f}'.format(\n",
    "        recall_score(y_test, flow_pred, average='macro')), file=f)\n",
    "    print(\n",
    "        'Macro F1-score: {:.2f}\\n'.format(f1_score(y_test, flow_pred, average='macro')), file=f)\n",
    "\n",
    "    print('Weighted Precision: {:.2f}'.format(\n",
    "        precision_score(y_test, flow_pred, average='weighted')), file=f)\n",
    "    print('Weighted Recall: {:.2f}'.format(\n",
    "        recall_score(y_test, flow_pred, average='weighted')), file=f)\n",
    "    print(\n",
    "        'Weighted F1-score: {:.2f}'.format(f1_score(y_test, flow_pred, average='weighted')), file=f)\n",
    "\n",
    "    print('\\nClassification Report\\n', file=f)\n",
    "    print(classification_report(y_test, flow_pred, target_names=CLASSES_LIST), file=f)\n",
    "    f.close()\n"
   ],
   "outputs": []
  },
  {
   "cell_type": "code",
   "execution_count": null,
   "id": "40bbe13c",
   "metadata": {
    "ExecuteTime": {
     "end_time": "2024-04-26T21:38:50.522523Z",
     "start_time": "2024-04-26T21:38:49.886536Z"
    }
   },
   "source": [
    "import matplotlib.pyplot as plt\n",
    "\n",
    "fig, ax = plt.subplots(figsize=(10, 10))\n",
    "ConfusionMatrixDisplay.from_predictions(y_test, flow_pred, display_labels=CLASSES_LIST, xticks_rotation='vertical',\n",
    "                                        ax=ax, colorbar=False)\n",
    "plt.savefig(output_dir / 'ConfusionMatrix.pdf', bbox_inches=\"tight\")"
   ],
   "outputs": []
  },
  {
   "cell_type": "code",
   "execution_count": null,
   "id": "5af49d41",
   "metadata": {
    "ExecuteTime": {
     "end_time": "2024-04-26T21:38:50.945783Z",
     "start_time": "2024-04-26T21:38:50.524536Z"
    }
   },
   "source": [
    "from matplotlib.ticker import PercentFormatter\n",
    "import matplotlib.pyplot as plt\n",
    "import seaborn as sns\n",
    "from sklearn.metrics import confusion_matrix\n",
    "\n",
    "\n",
    "def cm_analysis(y_true, y_pred, filename, labels, classes, ymap=None, figsize=(17, 17)):\n",
    "    \"\"\"\n",
    "    Generate matrix plot of confusion matrix with pretty annotations.\n",
    "    The plot image is saved to disk.\n",
    "    args: \n",
    "      y_true:    true label of the data, with shape (nsamples,)\n",
    "      y_pred:    prediction of the data, with shape (nsamples,)\n",
    "      filename:  filename of figure file to save\n",
    "      labels:    string array, name the order of class labels in the confusion matrix.\n",
    "                 use `clf.classes_` if using scikit-learn models.\n",
    "                 with shape (nclass,).\n",
    "      classes:   aliases for the labels. String array to be shown in the cm plot.\n",
    "      ymap:      dict: any -> string, length == nclass.\n",
    "                 if not None, map the labels & ys to more understandable strings.\n",
    "                 Caution: original y_true, y_pred and labels must align.\n",
    "      figsize:   the size of the figure plotted.\n",
    "    \"\"\"\n",
    "    sns.set(font_scale=1)\n",
    "\n",
    "    if ymap is not None:\n",
    "        y_pred = [ymap[yi] for yi in y_pred]\n",
    "        y_true = [ymap[yi] for yi in y_true]\n",
    "        labels = [ymap[yi] for yi in labels]\n",
    "    cm = confusion_matrix(y_true, y_pred, labels=labels)\n",
    "    cm_sum = np.sum(cm, axis=1, keepdims=True)\n",
    "    cm_perc = cm / cm_sum.astype(float) * 100\n",
    "    annot = np.empty_like(cm).astype(str)\n",
    "    nrows, ncols = cm.shape\n",
    "    for i in range(nrows):\n",
    "        for j in range(ncols):\n",
    "            c = cm[i, j]\n",
    "            p = cm_perc[i, j]\n",
    "            if i == j:\n",
    "                s = cm_sum[i]\n",
    "                annot[i, j] = '%.2f%%\\n%d/%d' % (p, c, s[0])\n",
    "            #elif c == 0:\n",
    "            #    annot[i, j] = ''\n",
    "            else:\n",
    "                annot[i, j] = '%.2f%%\\n%d' % (p, c)\n",
    "    cm = confusion_matrix(y_true, y_pred, labels=labels, normalize='true')\n",
    "    cm = pd.DataFrame(cm, index=labels, columns=labels)\n",
    "    cm = cm * 100\n",
    "    cm.index.name = 'True Label'\n",
    "    cm.columns.name = 'Predicted Label'\n",
    "    fig, ax = plt.subplots(figsize=figsize)\n",
    "    plt.yticks(va='center')\n",
    "\n",
    "    sns.heatmap(cm, annot=annot, fmt='', ax=ax, xticklabels=classes, cbar=True, cbar_kws={'format': PercentFormatter()},\n",
    "                yticklabels=classes, cmap=\"Blues\")\n",
    "    plt.savefig(filename, bbox_inches='tight')\n",
    "\n",
    "\n",
    "cm_analysis(y_true=y_test, y_pred=flow_pred, filename=output_dir / 'ConfusionMatrix_nom.pdf', labels=[0, 1, 2, 3],\n",
    "            classes=CLASSES_LIST, figsize=(12, 10))"
   ],
   "outputs": []
  },
  {
   "cell_type": "code",
   "execution_count": null,
   "id": "4d574c91",
   "metadata": {
    "ExecuteTime": {
     "end_time": "2024-04-26T21:38:51.303791Z",
     "start_time": "2024-04-26T21:38:50.947790Z"
    }
   },
   "source": [
    "plt.figure(figsize=(10, 6))\n",
    "plt.plot(history.history['sparse_categorical_accuracy'], label='accuracy')\n",
    "plt.plot(\n",
    "    history.history['val_sparse_categorical_accuracy'], label='val_accuracy')\n",
    "plt.legend()\n",
    "plt.xlabel('Epoch')\n",
    "plt.ylabel('Accuracy')\n",
    "plt.ylim([0, 1])\n",
    "plt.savefig(output_dir / \"normal_model_Accuracy.pdf\")"
   ],
   "outputs": []
  },
  {
   "metadata": {},
   "cell_type": "code",
   "execution_count": null,
   "source": [
    "plt.figure(figsize=(10, 6))\n",
    "plt.plot(history.history['loss'], label='loss')\n",
    "plt.plot(history.history['val_loss'], label='val_loss')\n",
    "plt.legend()\n",
    "plt.xlabel('Epoch')\n",
    "plt.ylabel('Loss')\n",
    "plt.savefig(output_dir / \"normal_model_Loss.pdf\")\n"
   ],
   "id": "d8aa5873a5a165aa",
   "outputs": []
  }
 ],
 "metadata": {
  "kernelspec": {
   "display_name": "Python 3 (ipykernel)",
   "language": "python",
   "name": "python3"
  },
  "language_info": {
   "codemirror_mode": {
    "name": "ipython",
    "version": 3
   },
   "file_extension": ".py",
   "mimetype": "text/x-python",
   "name": "python",
   "nbconvert_exporter": "python",
   "pygments_lexer": "ipython3",
   "version": "3.9.19"
  }
 },
 "nbformat": 4,
 "nbformat_minor": 5
}
