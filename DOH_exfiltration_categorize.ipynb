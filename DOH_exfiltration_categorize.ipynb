{
 "cells": [
  {
   "metadata": {
    "ExecuteTime": {
     "end_time": "2024-04-26T10:46:31.761889Z",
     "start_time": "2024-04-26T10:45:14.182907Z"
    }
   },
   "cell_type": "code",
   "source": [
    "from time import time\n",
    "\n",
    "import nest_asyncio\n",
    "import pyarrow.feather as feather\n",
    "import pandas as pd\n",
    "import os\n",
    "import numpy as np\n",
    "import tensorflow as tf\n",
    "from models.CNN_2D import create_keras_model\n",
    "from pathlib import Path\n",
    "\n",
    "nest_asyncio.apply()\n",
    "SEED = 1337\n",
    "tf.random.set_seed(SEED)\n",
    "import gc\n",
    "\n",
    "gc.collect()\n"
   ],
   "id": "2c8532279be5d20f",
   "outputs": [
    {
     "data": {
      "text/plain": [
       "919"
      ]
     },
     "execution_count": 50,
     "metadata": {},
     "output_type": "execute_result"
    }
   ],
   "execution_count": 50
  },
  {
   "metadata": {
    "ExecuteTime": {
     "end_time": "2024-04-26T10:46:31.818812Z",
     "start_time": "2024-04-26T10:46:31.767161Z"
    }
   },
   "cell_type": "code",
   "source": [
    "EXPERIMENT_NAME = \"merge\"\n",
    "this_dir = Path.cwd()\n",
    "print(this_dir)"
   ],
   "id": "3faf91d5820d8813",
   "outputs": [
    {
     "name": "stdout",
     "output_type": "stream",
     "text": [
      "/home/bkcs/Documents/doh/doh-exfiltration-detector\n"
     ]
    }
   ],
   "execution_count": 51
  },
  {
   "metadata": {},
   "cell_type": "markdown",
   "source": "# Load data",
   "id": "63f886de72dc4c5f"
  },
  {
   "metadata": {
    "ExecuteTime": {
     "end_time": "2024-04-26T10:46:32.199729Z",
     "start_time": "2024-04-26T10:46:31.820999Z"
    }
   },
   "cell_type": "code",
   "source": [
    "data_dir = this_dir / \"datasets\" / \"csvs\"\n",
    "\n",
    "# benign_data = pd.read_csv(data_dir / \"benign.csv\")\n",
    "# dnscat2_data = pd.read_csv(data_dir / \"dnscat2.csv\")\n",
    "# Đường dẫn tới thư mục chứa dữ liệu CSV\n",
    "# data_dir =\n",
    "\n",
    "# Đọc các file CSV và nối chúng lại\n",
    "# Get all file in this directory\n",
    "# benign_files = [child for child in (data_dir / \"CSVs\").iterdir() if child.is_file()]\n",
    "\n",
    "# benign_data = null\n",
    "# benign_data = pd.concat([pd.read_csv(file, ) for file in benign_files])\n",
    "benign_data = pd.read_csv(data_dir / \"CSVs/benign_chrome_adguard.csv\", nrows=100)\n",
    "\n",
    "# Đọc các file CSV khác\n",
    "dnscat2_data = pd.read_csv(data_dir / \"dnscat2.csv\", nrows=100)\n",
    "dns2tcp_data = pd.read_csv(data_dir / \"dns2tcp.csv\", nrows=100)\n",
    "iodine_data = pd.read_csv(data_dir / \"iodine.csv\", nrows=100)\n",
    "\n",
    "# dnscat2_data = dnscat2_data.drop(\"type\", axis=1)\n",
    "# dnscat2_data['label'] = dnscat2_data['type']"
   ],
   "id": "4c2275836e299872",
   "outputs": [],
   "execution_count": 52
  },
  {
   "metadata": {
    "ExecuteTime": {
     "end_time": "2024-04-26T10:46:35.199988Z",
     "start_time": "2024-04-26T10:46:35.137529Z"
    }
   },
   "cell_type": "code",
   "source": "benign_data.groupby('flow_id').size().count()",
   "id": "f561394deacef707",
   "outputs": [
    {
     "data": {
      "text/plain": [
       "10"
      ]
     },
     "execution_count": 57,
     "metadata": {},
     "output_type": "execute_result"
    }
   ],
   "execution_count": 57
  },
  {
   "metadata": {
    "ExecuteTime": {
     "end_time": "2024-04-26T10:46:35.251098Z",
     "start_time": "2024-04-26T10:46:35.201480Z"
    }
   },
   "cell_type": "code",
   "source": "dnscat2_data.groupby('flow_id').size().count()",
   "id": "e57d9d2ea80a7387",
   "outputs": [
    {
     "data": {
      "text/plain": [
       "10"
      ]
     },
     "execution_count": 58,
     "metadata": {},
     "output_type": "execute_result"
    }
   ],
   "execution_count": 58
  },
  {
   "metadata": {
    "ExecuteTime": {
     "end_time": "2024-04-26T10:46:35.289473Z",
     "start_time": "2024-04-26T10:46:35.255362Z"
    }
   },
   "cell_type": "code",
   "source": "dns2tcp_data.groupby('flow_id').size().count()",
   "id": "600b23999032734a",
   "outputs": [
    {
     "data": {
      "text/plain": [
       "10"
      ]
     },
     "execution_count": 59,
     "metadata": {},
     "output_type": "execute_result"
    }
   ],
   "execution_count": 59
  },
  {
   "metadata": {
    "ExecuteTime": {
     "end_time": "2024-04-26T10:48:08.453371Z",
     "start_time": "2024-04-26T10:48:08.040540Z"
    }
   },
   "cell_type": "code",
   "source": "iodine_data.groupby('flow_id').size().count()",
   "id": "733a56959ecffe50",
   "outputs": [
    {
     "ename": "KeyError",
     "evalue": "'Column not found: 0'",
     "output_type": "error",
     "traceback": [
      "\u001B[0;31m---------------------------------------------------------------------------\u001B[0m",
      "\u001B[0;31mKeyError\u001B[0m                                  Traceback (most recent call last)",
      "Cell \u001B[0;32mIn[98], line 1\u001B[0m\n\u001B[0;32m----> 1\u001B[0m \u001B[43miodine_data\u001B[49m\u001B[38;5;241;43m.\u001B[39;49m\u001B[43mgroupby\u001B[49m\u001B[43m(\u001B[49m\u001B[38;5;124;43m'\u001B[39;49m\u001B[38;5;124;43mflow_id\u001B[39;49m\u001B[38;5;124;43m'\u001B[39;49m\u001B[43m)\u001B[49m\u001B[43m[\u001B[49m\u001B[38;5;241;43m0\u001B[39;49m\u001B[43m]\u001B[49m\u001B[38;5;241m.\u001B[39msize()\u001B[38;5;241m.\u001B[39mcount()\n",
      "File \u001B[0;32m~/Documents/doh/doh-exfiltration-detector/.venv/lib/python3.9/site-packages/pandas/core/groupby/generic.py:1951\u001B[0m, in \u001B[0;36mDataFrameGroupBy.__getitem__\u001B[0;34m(self, key)\u001B[0m\n\u001B[1;32m   1944\u001B[0m \u001B[38;5;28;01mif\u001B[39;00m \u001B[38;5;28misinstance\u001B[39m(key, \u001B[38;5;28mtuple\u001B[39m) \u001B[38;5;129;01mand\u001B[39;00m \u001B[38;5;28mlen\u001B[39m(key) \u001B[38;5;241m>\u001B[39m \u001B[38;5;241m1\u001B[39m:\n\u001B[1;32m   1945\u001B[0m     \u001B[38;5;66;03m# if len == 1, then it becomes a SeriesGroupBy and this is actually\u001B[39;00m\n\u001B[1;32m   1946\u001B[0m     \u001B[38;5;66;03m# valid syntax, so don't raise\u001B[39;00m\n\u001B[1;32m   1947\u001B[0m     \u001B[38;5;28;01mraise\u001B[39;00m \u001B[38;5;167;01mValueError\u001B[39;00m(\n\u001B[1;32m   1948\u001B[0m         \u001B[38;5;124m\"\u001B[39m\u001B[38;5;124mCannot subset columns with a tuple with more than one element. \u001B[39m\u001B[38;5;124m\"\u001B[39m\n\u001B[1;32m   1949\u001B[0m         \u001B[38;5;124m\"\u001B[39m\u001B[38;5;124mUse a list instead.\u001B[39m\u001B[38;5;124m\"\u001B[39m\n\u001B[1;32m   1950\u001B[0m     )\n\u001B[0;32m-> 1951\u001B[0m \u001B[38;5;28;01mreturn\u001B[39;00m \u001B[38;5;28;43msuper\u001B[39;49m\u001B[43m(\u001B[49m\u001B[43m)\u001B[49m\u001B[38;5;241;43m.\u001B[39;49m\u001B[38;5;21;43m__getitem__\u001B[39;49m\u001B[43m(\u001B[49m\u001B[43mkey\u001B[49m\u001B[43m)\u001B[49m\n",
      "File \u001B[0;32m~/Documents/doh/doh-exfiltration-detector/.venv/lib/python3.9/site-packages/pandas/core/base.py:244\u001B[0m, in \u001B[0;36mSelectionMixin.__getitem__\u001B[0;34m(self, key)\u001B[0m\n\u001B[1;32m    242\u001B[0m \u001B[38;5;28;01melse\u001B[39;00m:\n\u001B[1;32m    243\u001B[0m     \u001B[38;5;28;01mif\u001B[39;00m key \u001B[38;5;129;01mnot\u001B[39;00m \u001B[38;5;129;01min\u001B[39;00m \u001B[38;5;28mself\u001B[39m\u001B[38;5;241m.\u001B[39mobj:\n\u001B[0;32m--> 244\u001B[0m         \u001B[38;5;28;01mraise\u001B[39;00m \u001B[38;5;167;01mKeyError\u001B[39;00m(\u001B[38;5;124mf\u001B[39m\u001B[38;5;124m\"\u001B[39m\u001B[38;5;124mColumn not found: \u001B[39m\u001B[38;5;132;01m{\u001B[39;00mkey\u001B[38;5;132;01m}\u001B[39;00m\u001B[38;5;124m\"\u001B[39m)\n\u001B[1;32m    245\u001B[0m     ndim \u001B[38;5;241m=\u001B[39m \u001B[38;5;28mself\u001B[39m\u001B[38;5;241m.\u001B[39mobj[key]\u001B[38;5;241m.\u001B[39mndim\n\u001B[1;32m    246\u001B[0m     \u001B[38;5;28;01mreturn\u001B[39;00m \u001B[38;5;28mself\u001B[39m\u001B[38;5;241m.\u001B[39m_gotitem(key, ndim\u001B[38;5;241m=\u001B[39mndim)\n",
      "\u001B[0;31mKeyError\u001B[0m: 'Column not found: 0'"
     ]
    }
   ],
   "execution_count": 98
  },
  {
   "metadata": {},
   "cell_type": "markdown",
   "source": "# Split data",
   "id": "85dd10fa8cab22c8"
  },
  {
   "metadata": {},
   "cell_type": "markdown",
   "source": "### Split benign data into 80% train and 20% test",
   "id": "db0fc96d7c3ef9b7"
  },
  {
   "metadata": {
    "ExecuteTime": {
     "end_time": "2024-04-26T10:49:58.772637Z",
     "start_time": "2024-04-26T10:49:58.760382Z"
    }
   },
   "cell_type": "code",
   "source": [
    "# Split benign data into train and test\n",
    "grouped = benign_data.groupby('flow_id')\n",
    "arranged = np.arange(grouped.ngroups)\n",
    "np.random.shuffle(arranged)\n",
    "\n",
    "train_benign = benign_data[grouped.ngroup().isin(arranged[:int(len(arranged) * 0.8)])]\n",
    "\n",
    "test_benign = benign_data.drop(train_benign.index)\n",
    "test_benign.reset_index(drop=True, inplace=True)\n",
    "\n",
    "print('train_benign: ' + str(train_benign.groupby('flow_id').size().count()), ', test_benign: ' + str(test_benign.groupby('flow_id').size().count()))"
   ],
   "id": "9f608827059bdff4",
   "outputs": [
    {
     "name": "stdout",
     "output_type": "stream",
     "text": [
      "train_benign: 8 , test_benign: 2\n"
     ]
    }
   ],
   "execution_count": 101
  },
  {
   "metadata": {
    "ExecuteTime": {
     "end_time": "2024-04-26T10:46:35.423137Z",
     "start_time": "2024-04-26T10:46:35.407410Z"
    }
   },
   "cell_type": "code",
   "source": "train_benign.groupby('flow_id').size().count()",
   "id": "de0573a3e2762073",
   "outputs": [
    {
     "data": {
      "text/plain": [
       "8"
      ]
     },
     "execution_count": 62,
     "metadata": {},
     "output_type": "execute_result"
    }
   ],
   "execution_count": 62
  },
  {
   "metadata": {
    "ExecuteTime": {
     "end_time": "2024-04-26T10:46:35.492033Z",
     "start_time": "2024-04-26T10:46:35.425387Z"
    }
   },
   "cell_type": "code",
   "source": "test_benign.groupby('flow_id').size().count()",
   "id": "36ffb586a726de2e",
   "outputs": [
    {
     "data": {
      "text/plain": [
       "2"
      ]
     },
     "execution_count": 63,
     "metadata": {},
     "output_type": "execute_result"
    }
   ],
   "execution_count": 63
  },
  {
   "metadata": {
    "ExecuteTime": {
     "end_time": "2024-04-26T10:46:35.503205Z",
     "start_time": "2024-04-26T10:46:35.494003Z"
    }
   },
   "cell_type": "code",
   "source": [
    "# Split dnscat2 data into train and test\n",
    "grouped = dnscat2_data.groupby('flow_id')\n",
    "arranged = np.arange(grouped.ngroups)\n",
    "np.random.shuffle(arranged)\n",
    "\n",
    "train_dnscat2 = dnscat2_data[grouped.ngroup().isin(arranged[:int(len(arranged) * 0.8)])]\n",
    "\n",
    "test_dnscat2 = dnscat2_data.drop(train_dnscat2.index)\n",
    "test_dnscat2.reset_index(drop=True, inplace=True)"
   ],
   "id": "308eb2add4cfdc3a",
   "outputs": [],
   "execution_count": 64
  },
  {
   "metadata": {
    "ExecuteTime": {
     "end_time": "2024-04-26T10:46:35.597544Z",
     "start_time": "2024-04-26T10:46:35.505163Z"
    }
   },
   "cell_type": "code",
   "source": [
    "# Split dns2tcp data into train and test\n",
    "grouped = dns2tcp_data.groupby('flow_id')\n",
    "arranged = np.arange(grouped.ngroups)\n",
    "np.random.shuffle(arranged)\n",
    "\n",
    "train_dns2tcp = dns2tcp_data[grouped.ngroup().isin(arranged[:int(len(arranged) * 0.8)])]\n",
    "\n",
    "test_dns2tcp = dns2tcp_data.drop(train_dns2tcp.index)\n",
    "test_dns2tcp.reset_index(drop=True, inplace=True)"
   ],
   "id": "3f39dcf8ae60f708",
   "outputs": [],
   "execution_count": 65
  },
  {
   "metadata": {
    "ExecuteTime": {
     "end_time": "2024-04-26T10:46:35.691647Z",
     "start_time": "2024-04-26T10:46:35.599327Z"
    }
   },
   "cell_type": "code",
   "source": [
    "# Split iodine data into train and test\n",
    "grouped = iodine_data.groupby('flow_id')\n",
    "arranged = np.arange(grouped.ngroups)\n",
    "np.random.shuffle(arranged)\n",
    "\n",
    "train_iodine = iodine_data[grouped.ngroup().isin(arranged[:int(len(arranged) * 0.8)])]\n",
    "\n",
    "test_iodine = iodine_data.drop(train_iodine.index)\n",
    "test_iodine.reset_index(drop=True, inplace=True)"
   ],
   "id": "bb2d473ce3f532b0",
   "outputs": [],
   "execution_count": 66
  },
  {
   "metadata": {
    "ExecuteTime": {
     "end_time": "2024-04-26T10:46:35.701802Z",
     "start_time": "2024-04-26T10:46:35.693234Z"
    }
   },
   "cell_type": "code",
   "source": [
    "# Split benign train data into train and validation\n",
    "temp = train_benign\n",
    "grouped = temp.groupby('flow_id')\n",
    "arranged = np.arange(grouped.ngroups)\n",
    "np.random.shuffle(arranged)\n",
    "\n",
    "train_benign = temp[grouped.ngroup().isin(arranged[:int(len(arranged) * 0.8)])]\n",
    "\n",
    "validate_benign = temp.drop(train_benign.index)\n",
    "validate_benign.reset_index(drop=True, inplace=True)"
   ],
   "id": "c0ed6a4b751187e2",
   "outputs": [],
   "execution_count": 67
  },
  {
   "metadata": {
    "ExecuteTime": {
     "end_time": "2024-04-26T10:46:35.768448Z",
     "start_time": "2024-04-26T10:46:35.703396Z"
    }
   },
   "cell_type": "code",
   "source": "train_benign.groupby('flow_id').size().count()",
   "id": "9b7b0f63ca38eedb",
   "outputs": [
    {
     "data": {
      "text/plain": [
       "6"
      ]
     },
     "execution_count": 68,
     "metadata": {},
     "output_type": "execute_result"
    }
   ],
   "execution_count": 68
  },
  {
   "metadata": {
    "ExecuteTime": {
     "end_time": "2024-04-26T10:46:35.777505Z",
     "start_time": "2024-04-26T10:46:35.770811Z"
    }
   },
   "cell_type": "code",
   "source": "validate_benign.groupby('flow_id').size().count()",
   "id": "48067a61f375ce33",
   "outputs": [
    {
     "data": {
      "text/plain": [
       "2"
      ]
     },
     "execution_count": 69,
     "metadata": {},
     "output_type": "execute_result"
    }
   ],
   "execution_count": 69
  },
  {
   "metadata": {
    "ExecuteTime": {
     "end_time": "2024-04-26T10:46:35.858642Z",
     "start_time": "2024-04-26T10:46:35.779673Z"
    }
   },
   "cell_type": "code",
   "source": [
    "# Split dnscat2 train data into train and validation\n",
    "temp = train_dnscat2\n",
    "grouped = temp.groupby('flow_id')\n",
    "arranged = np.arange(grouped.ngroups)\n",
    "np.random.shuffle(arranged)\n",
    "\n",
    "train_dnscat2 = temp[grouped.ngroup().isin(arranged[:int(len(arranged) * 0.8)])]\n",
    "\n",
    "validate_dnscat2 = temp.drop(train_dnscat2.index)\n",
    "validate_dnscat2.reset_index(drop=True, inplace=True)"
   ],
   "id": "b2502915fb5a1616",
   "outputs": [],
   "execution_count": 70
  },
  {
   "metadata": {
    "ExecuteTime": {
     "end_time": "2024-04-26T10:46:35.866961Z",
     "start_time": "2024-04-26T10:46:35.859944Z"
    }
   },
   "cell_type": "code",
   "source": [
    "# Split dns2tcp train data into train and validation\n",
    "temp = train_dns2tcp\n",
    "grouped = temp.groupby('flow_id')\n",
    "arranged = np.arange(grouped.ngroups)\n",
    "np.random.shuffle(arranged)\n",
    "\n",
    "train_dns2tcp = temp[grouped.ngroup().isin(arranged[:int(len(arranged) * 0.8)])]\n",
    "\n",
    "validate_dns2tcp = temp.drop(train_dns2tcp.index)\n",
    "validate_dns2tcp.reset_index(drop=True, inplace=True)"
   ],
   "id": "4d74d7b0bc7439ad",
   "outputs": [],
   "execution_count": 71
  },
  {
   "metadata": {
    "ExecuteTime": {
     "end_time": "2024-04-26T10:46:35.949751Z",
     "start_time": "2024-04-26T10:46:35.868551Z"
    }
   },
   "cell_type": "code",
   "source": [
    "# Split iodine train data into train and validation\n",
    "temp = train_iodine\n",
    "grouped = temp.groupby('flow_id')\n",
    "arranged = np.arange(grouped.ngroups)\n",
    "np.random.shuffle(arranged)\n",
    "\n",
    "train_iodine = temp[grouped.ngroup().isin(arranged[:int(len(arranged) * 0.8)])]\n",
    "\n",
    "validate_iodine = temp.drop(train_iodine.index)\n",
    "validate_iodine.reset_index(drop=True, inplace=True)"
   ],
   "id": "b077616edf8c1960",
   "outputs": [],
   "execution_count": 72
  },
  {
   "metadata": {
    "ExecuteTime": {
     "end_time": "2024-04-26T10:46:35.956682Z",
     "start_time": "2024-04-26T10:46:35.951016Z"
    }
   },
   "cell_type": "code",
   "source": [
    "print(train_benign.groupby('flow_id').size().count(), validate_benign.groupby('flow_id').size().count(),\n",
    "      test_benign.groupby('flow_id').size().count())"
   ],
   "id": "ad41680b63693f80",
   "outputs": [
    {
     "name": "stdout",
     "output_type": "stream",
     "text": [
      "6 2 2\n"
     ]
    }
   ],
   "execution_count": 73
  },
  {
   "metadata": {
    "ExecuteTime": {
     "end_time": "2024-04-26T10:46:36.044903Z",
     "start_time": "2024-04-26T10:46:35.957939Z"
    }
   },
   "cell_type": "code",
   "source": [
    "print(train_dns2tcp.groupby('flow_id').size().count(), validate_dns2tcp.groupby('flow_id').size().count(),\n",
    "      test_dns2tcp.groupby('flow_id').size().count())\n"
   ],
   "id": "2c2a3dc7bd68cdf4",
   "outputs": [
    {
     "name": "stdout",
     "output_type": "stream",
     "text": [
      "6 2 2\n"
     ]
    }
   ],
   "execution_count": 74
  },
  {
   "metadata": {
    "ExecuteTime": {
     "end_time": "2024-04-26T10:46:36.054371Z",
     "start_time": "2024-04-26T10:46:36.046490Z"
    }
   },
   "cell_type": "code",
   "source": [
    "print(train_dnscat2.groupby('flow_id').size().count(), validate_dnscat2.groupby('flow_id').size().count(),\n",
    "      test_dnscat2.groupby('flow_id').size().count())\n"
   ],
   "id": "45925370aca5dd72",
   "outputs": [
    {
     "name": "stdout",
     "output_type": "stream",
     "text": [
      "6 2 2\n"
     ]
    }
   ],
   "execution_count": 75
  },
  {
   "metadata": {
    "ExecuteTime": {
     "end_time": "2024-04-26T10:46:36.132558Z",
     "start_time": "2024-04-26T10:46:36.055772Z"
    }
   },
   "cell_type": "code",
   "source": [
    "print(train_iodine.groupby('flow_id').size().count(), validate_iodine.groupby('flow_id').size().count(),\n",
    "      test_iodine.groupby('flow_id').size().count())\n"
   ],
   "id": "1f025f8181efa135",
   "outputs": [
    {
     "name": "stdout",
     "output_type": "stream",
     "text": [
      "6 2 2\n"
     ]
    }
   ],
   "execution_count": 76
  },
  {
   "metadata": {},
   "cell_type": "markdown",
   "source": "# Merge data",
   "id": "be94895e7fcd0691"
  },
  {
   "metadata": {},
   "cell_type": "markdown",
   "source": "### Ghep tap train cua benign va dnscat2 -> new train = 1280",
   "id": "54eccac6109c5920"
  },
  {
   "metadata": {
    "ExecuteTime": {
     "end_time": "2024-04-26T10:46:36.147770Z",
     "start_time": "2024-04-26T10:46:36.141463Z"
    }
   },
   "cell_type": "code",
   "source": [
    "# Get the last flow_id of train_dnscat2\n",
    "max_flow = train_dnscat2['flow_id'].iloc[-1]\n",
    "# Modify the flow_id of train_benign\n",
    "train_benign['flow_id'] = train_benign['flow_id'] + max_flow\n",
    "# Merge the two dataframes\n",
    "data_train = pd.concat([train_dnscat2, train_benign])"
   ],
   "id": "f1bd8526c52ccc59",
   "outputs": [],
   "execution_count": 77
  },
  {
   "metadata": {
    "ExecuteTime": {
     "end_time": "2024-04-26T10:46:36.281713Z",
     "start_time": "2024-04-26T10:46:36.149568Z"
    }
   },
   "cell_type": "code",
   "source": [
    "data_train.groupby('flow_id').size().count()\n",
    "print(data_train)"
   ],
   "id": "a9cc4f084a92e0dd",
   "outputs": [
    {
     "name": "stdout",
     "output_type": "stream",
     "text": [
      "    flow_id  byte_1  byte_2  byte_3  byte_4  byte_5  byte_6  byte_7  byte_8  \\\n",
      "10        2     178     249     168      95      22     125      30     208   \n",
      "11        2     215     220       7     190     200      54     183      91   \n",
      "12        2      92     179     249      91      37      34     109     239   \n",
      "13        2     139      77      65     166     100      58     137     127   \n",
      "14        2     212     155      87     143     112     163     137     177   \n",
      "..      ...     ...     ...     ...     ...     ...     ...     ...     ...   \n",
      "75       18       0       0       0       0       0       0       0       3   \n",
      "76       18      63     232      36     106      29     213      36     231   \n",
      "77       18      63     232      36     106      29     213      36     233   \n",
      "78       18      63     232      36     106      29     213      36     236   \n",
      "79       18      63     232      36     106      29     213      36     231   \n",
      "\n",
      "    byte_9  ...  byte_504  byte_505  byte_506  byte_507  byte_508  byte_509  \\\n",
      "10      58  ...         0         0         0         0         0         0   \n",
      "11      33  ...         0         0         0         0         0         0   \n",
      "12      99  ...         0         0         0         0         0         0   \n",
      "13     186  ...         0         0         0         0         0         0   \n",
      "14      43  ...         0         0         0         0         0         0   \n",
      "..     ...  ...       ...       ...       ...       ...       ...       ...   \n",
      "75      19  ...        29       211        27        95        10       168   \n",
      "76     208  ...       232       195       140       114        82       181   \n",
      "77     163  ...       177        10        64       165        77       163   \n",
      "78       2  ...       174         7       107       140        95       198   \n",
      "79     208  ...       232       195       140       114        82       181   \n",
      "\n",
      "    byte_510  byte_511  byte_512    label  \n",
      "10         0         0         0  dnscat2  \n",
      "11         0         0         0  dnscat2  \n",
      "12         0         0         0  dnscat2  \n",
      "13         0         0         0  dnscat2  \n",
      "14         0         0         0  dnscat2  \n",
      "..       ...       ...       ...      ...  \n",
      "75        44       202       169   benign  \n",
      "76       136       194        88   benign  \n",
      "77       155        91        84   benign  \n",
      "78        91       254       188   benign  \n",
      "79       136       194        88   benign  \n",
      "\n",
      "[120 rows x 514 columns]\n"
     ]
    }
   ],
   "execution_count": 78
  },
  {
   "metadata": {},
   "cell_type": "markdown",
   "source": "### Ghep them iodine -> train 1920",
   "id": "f403b87cf21b0e32"
  },
  {
   "metadata": {
    "ExecuteTime": {
     "end_time": "2024-04-26T10:46:36.290378Z",
     "start_time": "2024-04-26T10:46:36.283704Z"
    }
   },
   "cell_type": "code",
   "source": [
    "# Get the last flow_id of train_iodine\n",
    "max_flow = data_train['flow_id'].iloc[-1]\n",
    "# Modify the flow_id of train_benign\n",
    "train_iodine.loc[:, 'flow_id'] += max_flow\n",
    "# Merge the two dataframes\n",
    "temp = pd.concat([train_iodine, data_train])\n",
    "data_train = temp"
   ],
   "id": "208da168e1525f78",
   "outputs": [],
   "execution_count": 79
  },
  {
   "metadata": {
    "ExecuteTime": {
     "end_time": "2024-04-26T10:46:36.338131Z",
     "start_time": "2024-04-26T10:46:36.292628Z"
    }
   },
   "cell_type": "code",
   "source": "data_train.groupby('flow_id').size().count()",
   "id": "43f20ed6c8792174",
   "outputs": [
    {
     "data": {
      "text/plain": [
       "18"
      ]
     },
     "execution_count": 80,
     "metadata": {},
     "output_type": "execute_result"
    }
   ],
   "execution_count": 80
  },
  {
   "metadata": {},
   "cell_type": "markdown",
   "source": "### Ghep them dns2tcp -> train 2560",
   "id": "b6b82d1af8e94502"
  },
  {
   "metadata": {
    "ExecuteTime": {
     "end_time": "2024-04-26T10:46:36.344055Z",
     "start_time": "2024-04-26T10:46:36.340123Z"
    }
   },
   "cell_type": "code",
   "source": [
    "# # Get the last flow_id of train_dns2tcp\n",
    "# max_flow = data_train['flow_id'].iloc[-1]\n",
    "# # Modify the flow_id of train_benign\n",
    "# train_dns2tcp['flow_id'] = train_dns2tcp['flow_id'] + max_flow\n",
    "# # Merge the two dataframes\n",
    "# temp = pd.concat([train_dns2tcp, data_train])\n",
    "# data_train= temp"
   ],
   "id": "d2d22f47d7f64f0b",
   "outputs": [],
   "execution_count": 81
  },
  {
   "metadata": {
    "ExecuteTime": {
     "end_time": "2024-04-26T10:46:36.420074Z",
     "start_time": "2024-04-26T10:46:36.345596Z"
    }
   },
   "cell_type": "code",
   "source": "print(data_train)\n",
   "id": "cab1da040e8679d2",
   "outputs": [
    {
     "name": "stdout",
     "output_type": "stream",
     "text": [
      "    flow_id  byte_1  byte_2  byte_3  byte_4  byte_5  byte_6  byte_7  byte_8  \\\n",
      "0        19      79     218      76      90     205      29     223     141   \n",
      "1        19     234     245     195     100     208      59     209      63   \n",
      "2        19      54     102     131     107     178     220     137     221   \n",
      "3        19     204     241     104     204     167      32       8     127   \n",
      "4        19      16     206      50     147     241     114     131     126   \n",
      "..      ...     ...     ...     ...     ...     ...     ...     ...     ...   \n",
      "75       18       0       0       0       0       0       0       0       3   \n",
      "76       18      63     232      36     106      29     213      36     231   \n",
      "77       18      63     232      36     106      29     213      36     233   \n",
      "78       18      63     232      36     106      29     213      36     236   \n",
      "79       18      63     232      36     106      29     213      36     231   \n",
      "\n",
      "    byte_9  ...  byte_504  byte_505  byte_506  byte_507  byte_508  byte_509  \\\n",
      "0      102  ...         0         0         0         0         0         0   \n",
      "1      216  ...         0         0         0         0         0         0   \n",
      "2       70  ...         0         0         0         0         0         0   \n",
      "3      222  ...         0         0         0         0         0         0   \n",
      "4        5  ...         0         0         0         0         0         0   \n",
      "..     ...  ...       ...       ...       ...       ...       ...       ...   \n",
      "75      19  ...        29       211        27        95        10       168   \n",
      "76     208  ...       232       195       140       114        82       181   \n",
      "77     163  ...       177        10        64       165        77       163   \n",
      "78       2  ...       174         7       107       140        95       198   \n",
      "79     208  ...       232       195       140       114        82       181   \n",
      "\n",
      "    byte_510  byte_511  byte_512   label  \n",
      "0          0         0         0  iodine  \n",
      "1          0         0         0  iodine  \n",
      "2          0         0         0  iodine  \n",
      "3          0         0         0  iodine  \n",
      "4          0         0         0  iodine  \n",
      "..       ...       ...       ...     ...  \n",
      "75        44       202       169  benign  \n",
      "76       136       194        88  benign  \n",
      "77       155        91        84  benign  \n",
      "78        91       254       188  benign  \n",
      "79       136       194        88  benign  \n",
      "\n",
      "[180 rows x 514 columns]\n"
     ]
    }
   ],
   "execution_count": 82
  },
  {
   "metadata": {
    "ExecuteTime": {
     "end_time": "2024-04-26T10:46:36.470950Z",
     "start_time": "2024-04-26T10:46:36.421970Z"
    }
   },
   "cell_type": "code",
   "source": "train_dns2tcp.groupby('flow_id').size().count()\n",
   "id": "5de2c272b64aeb05",
   "outputs": [
    {
     "data": {
      "text/plain": [
       "6"
      ]
     },
     "execution_count": 83,
     "metadata": {},
     "output_type": "execute_result"
    }
   ],
   "execution_count": 83
  },
  {
   "metadata": {
    "ExecuteTime": {
     "end_time": "2024-04-26T10:46:36.478861Z",
     "start_time": "2024-04-26T10:46:36.472512Z"
    }
   },
   "cell_type": "code",
   "source": "data_train.groupby('flow_id').size().count()",
   "id": "74ba50f2b5817d0",
   "outputs": [
    {
     "data": {
      "text/plain": [
       "18"
      ]
     },
     "execution_count": 84,
     "metadata": {},
     "output_type": "execute_result"
    }
   ],
   "execution_count": 84
  },
  {
   "metadata": {
    "ExecuteTime": {
     "end_time": "2024-04-26T10:46:36.547376Z",
     "start_time": "2024-04-26T10:46:36.480940Z"
    }
   },
   "cell_type": "code",
   "source": "data_train.groupby('flow_id').size().count()",
   "id": "3ca6007ecf91b8cf",
   "outputs": [
    {
     "data": {
      "text/plain": [
       "18"
      ]
     },
     "execution_count": 85,
     "metadata": {},
     "output_type": "execute_result"
    }
   ],
   "execution_count": 85
  },
  {
   "metadata": {
    "ExecuteTime": {
     "end_time": "2024-04-26T10:46:36.555868Z",
     "start_time": "2024-04-26T10:46:36.549464Z"
    }
   },
   "cell_type": "code",
   "source": [
    "# Get the last flow_id of test_dnscat2\n",
    "max_flow = test_dnscat2['flow_id'].iloc[-1]\n",
    "# Modify the flow_id of test_benign\n",
    "test_benign['flow_id'] = test_benign['flow_id'] + max_flow\n",
    "# Merge the two dataframes\n",
    "data_test = pd.concat([test_dnscat2, test_benign])"
   ],
   "id": "db5407c659acc1b6",
   "outputs": [],
   "execution_count": 86
  },
  {
   "metadata": {
    "ExecuteTime": {
     "end_time": "2024-04-26T10:46:36.623026Z",
     "start_time": "2024-04-26T10:46:36.557799Z"
    }
   },
   "cell_type": "code",
   "source": "data_test.groupby('flow_id').size().count()",
   "id": "6c5f70bf52957fde",
   "outputs": [
    {
     "data": {
      "text/plain": [
       "4"
      ]
     },
     "execution_count": 87,
     "metadata": {},
     "output_type": "execute_result"
    }
   ],
   "execution_count": 87
  },
  {
   "metadata": {
    "ExecuteTime": {
     "end_time": "2024-04-26T10:46:36.629851Z",
     "start_time": "2024-04-26T10:46:36.624665Z"
    }
   },
   "cell_type": "code",
   "source": [
    "# Get the last flow_id of test_dns2tcp\n",
    "max_flow = data_test['flow_id'].iloc[-1]\n",
    "# Modify the flow_id of test_benign\n",
    "test_dns2tcp['flow_id'] = test_dns2tcp['flow_id'] + max_flow\n",
    "# Merge the two dataframes\n",
    "data_test = pd.concat([test_dns2tcp, data_test])"
   ],
   "id": "49676823a5317f55",
   "outputs": [],
   "execution_count": 88
  },
  {
   "metadata": {
    "ExecuteTime": {
     "end_time": "2024-04-26T10:46:36.712701Z",
     "start_time": "2024-04-26T10:46:36.631406Z"
    }
   },
   "cell_type": "code",
   "source": "data_test.groupby('flow_id').size().count()",
   "id": "bcfe2be489b8b90a",
   "outputs": [
    {
     "data": {
      "text/plain": [
       "6"
      ]
     },
     "execution_count": 89,
     "metadata": {},
     "output_type": "execute_result"
    }
   ],
   "execution_count": 89
  },
  {
   "metadata": {
    "ExecuteTime": {
     "end_time": "2024-04-26T10:46:36.720899Z",
     "start_time": "2024-04-26T10:46:36.714658Z"
    }
   },
   "cell_type": "code",
   "source": [
    "# Get the last flow_id of test_iodine\n",
    "max_flow = data_test['flow_id'].iloc[-1]\n",
    "# Modify the flow_id of test_benign\n",
    "test_iodine['flow_id'] = test_iodine['flow_id'] + max_flow\n",
    "# Merge the two dataframes\n",
    "data_test = pd.concat([test_iodine, data_test])"
   ],
   "id": "190501bfa202dd03",
   "outputs": [],
   "execution_count": 90
  },
  {
   "metadata": {
    "ExecuteTime": {
     "end_time": "2024-04-26T10:46:36.798436Z",
     "start_time": "2024-04-26T10:46:36.722155Z"
    }
   },
   "cell_type": "code",
   "source": "data_test.groupby('flow_id').size().count()",
   "id": "965db46bd2bbf2f1",
   "outputs": [
    {
     "data": {
      "text/plain": [
       "7"
      ]
     },
     "execution_count": 91,
     "metadata": {},
     "output_type": "execute_result"
    }
   ],
   "execution_count": 91
  },
  {
   "metadata": {
    "ExecuteTime": {
     "end_time": "2024-04-26T10:46:36.805377Z",
     "start_time": "2024-04-26T10:46:36.799882Z"
    }
   },
   "cell_type": "code",
   "source": [
    "# Get the last flow_id of validate_dnscat2\n",
    "max_flow = validate_dnscat2['flow_id'].iloc[-1]\n",
    "# Modify the flow_id of validate_benign\n",
    "validate_benign['flow_id'] = validate_benign['flow_id'] + max_flow\n",
    "# Merge the two dataframes\n",
    "data_validate = pd.concat([validate_dnscat2, validate_benign])"
   ],
   "id": "e9ad0dd54ad9280f",
   "outputs": [],
   "execution_count": 92
  },
  {
   "metadata": {
    "ExecuteTime": {
     "end_time": "2024-04-26T10:46:36.888477Z",
     "start_time": "2024-04-26T10:46:36.807251Z"
    }
   },
   "cell_type": "code",
   "source": "data_validate.groupby('flow_id').size().count()",
   "id": "65ab015dd8c6d025",
   "outputs": [
    {
     "data": {
      "text/plain": [
       "4"
      ]
     },
     "execution_count": 93,
     "metadata": {},
     "output_type": "execute_result"
    }
   ],
   "execution_count": 93
  },
  {
   "metadata": {
    "ExecuteTime": {
     "end_time": "2024-04-26T10:46:36.895004Z",
     "start_time": "2024-04-26T10:46:36.889631Z"
    }
   },
   "cell_type": "code",
   "source": [
    "# Get the last flow_id of validate_dns2tcp\n",
    "max_flow = validate_dns2tcp['flow_id'].iloc[-1]\n",
    "# Modify the flow_id of validate_benign\n",
    "validate_dns2tcp['flow_id'] = validate_dns2tcp['flow_id'] + max_flow\n",
    "# Merge the two dataframes\n",
    "data_validate = pd.concat([validate_dns2tcp, validate_benign])"
   ],
   "id": "c8bb6da0d911410d",
   "outputs": [],
   "execution_count": 94
  },
  {
   "metadata": {
    "ExecuteTime": {
     "end_time": "2024-04-26T10:46:36.994360Z",
     "start_time": "2024-04-26T10:46:36.896446Z"
    }
   },
   "cell_type": "code",
   "source": "data_validate.groupby('flow_id').size().count()",
   "id": "b296b661aba22a11",
   "outputs": [
    {
     "data": {
      "text/plain": [
       "4"
      ]
     },
     "execution_count": 95,
     "metadata": {},
     "output_type": "execute_result"
    }
   ],
   "execution_count": 95
  },
  {
   "metadata": {
    "ExecuteTime": {
     "end_time": "2024-04-26T10:46:37.051515Z",
     "start_time": "2024-04-26T10:46:36.996436Z"
    }
   },
   "cell_type": "code",
   "source": [
    "# Get the last flow_id of validate_iodine\n",
    "max_flow = validate_iodine['flow_id'].iloc[-1]\n",
    "# Modify the flow_id of validate_benign\n",
    "validate_iodine['flow_id'] = validate_iodine['flow_id'] + max_flow\n",
    "# Merge the two dataframes\n",
    "data_validate = pd.concat([validate_iodine, validate_benign])"
   ],
   "id": "b1e414e168990670",
   "outputs": [],
   "execution_count": 96
  },
  {
   "metadata": {
    "ExecuteTime": {
     "end_time": "2024-04-26T10:46:37.061074Z",
     "start_time": "2024-04-26T10:46:37.053465Z"
    }
   },
   "cell_type": "code",
   "source": "data_validate.groupby('flow_id').size().count()",
   "id": "75bfcab38cf09aa4",
   "outputs": [
    {
     "data": {
      "text/plain": [
       "4"
      ]
     },
     "execution_count": 97,
     "metadata": {},
     "output_type": "execute_result"
    }
   ],
   "execution_count": 97
  },
  {
   "metadata": {},
   "cell_type": "markdown",
   "source": "# Get label",
   "id": "b545fe26a7eb1ceb"
  },
  {
   "metadata": {},
   "cell_type": "code",
   "outputs": [],
   "execution_count": null,
   "source": [
    "def most_frequent(List):\n",
    "    return max(set(List), key=List.count)"
   ],
   "id": "4f4b515c296985af"
  },
  {
   "metadata": {},
   "cell_type": "code",
   "outputs": [],
   "execution_count": null,
   "source": [
    "grouped = data_train.groupby('flow_id')['label'].apply(list).to_dict()\n",
    "\n",
    "label_train = []\n",
    "for flow in grouped:\n",
    "    label_train.append(most_frequent(grouped[flow]))"
   ],
   "id": "3e683967aad8bca5"
  },
  {
   "metadata": {},
   "cell_type": "code",
   "outputs": [],
   "execution_count": null,
   "source": "data_train.groupby('flow_id').size().count()",
   "id": "a718bc69d4937d56"
  },
  {
   "metadata": {},
   "cell_type": "code",
   "outputs": [],
   "execution_count": null,
   "source": [
    "grouped = data_validate.groupby('flow_id')['label'].apply(list).to_dict()\n",
    "\n",
    "label_validate = []\n",
    "for flow in grouped:\n",
    "    label_validate.append(most_frequent(grouped[flow]))"
   ],
   "id": "28c799112c710589"
  },
  {
   "metadata": {},
   "cell_type": "code",
   "outputs": [],
   "execution_count": null,
   "source": [
    "grouped = data_test.groupby('flow_id')['label'].apply(list).to_dict()\n",
    "\n",
    "label_test = []\n",
    "for flow in grouped:\n",
    "    label_test.append(most_frequent(grouped[flow]))"
   ],
   "id": "a65067639acd97e2"
  },
  {
   "metadata": {},
   "cell_type": "code",
   "outputs": [],
   "execution_count": null,
   "source": [
    "label_train = np.array(label_train)\n",
    "label_validate = np.array(label_validate)\n",
    "label_test = np.array(label_test)"
   ],
   "id": "349291e30df015fd"
  },
  {
   "metadata": {},
   "cell_type": "code",
   "outputs": [],
   "execution_count": null,
   "source": "len(label_train), len(label_validate), len(label_test)",
   "id": "fa3d873e533249d6"
  },
  {
   "metadata": {},
   "cell_type": "code",
   "outputs": [],
   "execution_count": null,
   "source": "data_train.describe()",
   "id": "e6d3a24c0d15e16d"
  },
  {
   "metadata": {},
   "cell_type": "code",
   "outputs": [],
   "execution_count": null,
   "source": [
    "data_train_without_flow = data_train.drop('flow_id', axis=1)\n",
    "data_validate_without_flow = data_validate.drop('flow_id', axis=1)\n",
    "data_test_without_flow = data_test.drop('flow_id', axis=1)"
   ],
   "id": "b196b19444d13c79"
  },
  {
   "metadata": {},
   "cell_type": "code",
   "outputs": [],
   "execution_count": null,
   "source": [
    "NUM_FEATURE = len(data_test_without_flow.columns) - 1\n",
    "NUM_CLASSES = len(np.unique(data_test_without_flow['label']))\n",
    "print(NUM_FEATURE, NUM_CLASSES)"
   ],
   "id": "61fc0dbd455de603"
  },
  {
   "metadata": {},
   "cell_type": "code",
   "outputs": [],
   "execution_count": null,
   "source": "data_train_without_flow.describe()",
   "id": "5e7b87b78449d225"
  },
  {
   "metadata": {},
   "cell_type": "code",
   "outputs": [],
   "execution_count": null,
   "source": "168560 / 20",
   "id": "bf1bdea635537887"
  },
  {
   "metadata": {},
   "cell_type": "code",
   "outputs": [],
   "execution_count": null,
   "source": [
    "x_train = (data_train_without_flow.drop('label', axis=1).to_numpy() / 255).reshape(-1, 20, NUM_FEATURE)\n",
    "x_validate = np.expand_dims(\n",
    "    (data_validate_without_flow.drop('label', axis=1).to_numpy() / 255).reshape(-1, 20, NUM_FEATURE), axis=-1)\n",
    "x_test = np.expand_dims((data_test_without_flow.drop('label', axis=1).to_numpy() / 255).reshape(-1, 20, NUM_FEATURE),\n",
    "                        axis=-1)"
   ],
   "id": "93ba87f58f784c67"
  },
  {
   "metadata": {},
   "cell_type": "code",
   "outputs": [],
   "execution_count": null,
   "source": "x_train = np.array(x_train)",
   "id": "7384f5c93fa0436b"
  },
  {
   "metadata": {},
   "cell_type": "code",
   "outputs": [],
   "execution_count": null,
   "source": "x_train.shape",
   "id": "41ac926d0d624f73"
  },
  {
   "metadata": {},
   "cell_type": "markdown",
   "source": "# Model training",
   "id": "2acda6877031670c"
  },
  {
   "metadata": {},
   "cell_type": "code",
   "outputs": [],
   "execution_count": null,
   "source": [
    "# Initialize the model\n",
    "client_lr = 3e-4\n",
    "NUM_ROUNDS = 300\n",
    "BATCH_SIZE = 4\n",
    "\n",
    "model = create_keras_model(NUM_FEATURE, NUM_CLASSES)\n",
    "model.summary()"
   ],
   "id": "f630a008b393c78b"
  },
  {
   "cell_type": "code",
   "execution_count": 34,
   "id": "fde12118b8a6f73c",
   "metadata": {
    "ExecuteTime": {
     "end_time": "2024-04-16T09:50:07.582300Z",
     "start_time": "2024-04-16T09:23:34.675204Z"
    }
   },
   "outputs": [
    {
     "name": "stderr",
     "output_type": "stream",
     "text": [
      "2024-04-17 13:35:02.237332: W tensorflow/tsl/framework/cpu_allocator_impl.cc:82] Allocation of 345210880 exceeds 10% of free system memory.\n",
      "2024-04-17 13:35:02.475731: W tensorflow/tsl/framework/cpu_allocator_impl.cc:82] Allocation of 345210880 exceeds 10% of free system memory.\n"
     ]
    },
    {
     "name": "stdout",
     "output_type": "stream",
     "text": [
      "Epoch 1/5\n"
     ]
    },
    {
     "name": "stderr",
     "output_type": "stream",
     "text": [
      "2024-04-17 13:35:03.319972: E tensorflow/core/grappler/optimizers/meta_optimizer.cc:954] layout failed: INVALID_ARGUMENT: Size of values 0 does not match size of permutation 4 @ fanin shape insequential/dropout/dropout/SelectV2-2-TransposeNHWCToNCHW-LayoutOptimizer\n",
      "2024-04-17 13:35:03.581732: I tensorflow/compiler/xla/stream_executor/cuda/cuda_dnn.cc:428] Loaded cuDNN version 8800\n",
      "2024-04-17 13:35:04.076134: I tensorflow/compiler/xla/service/service.cc:173] XLA service 0x7b7bd8021470 initialized for platform CUDA (this does not guarantee that XLA will be used). Devices:\n",
      "2024-04-17 13:35:04.076164: I tensorflow/compiler/xla/service/service.cc:181]   StreamExecutor device (0): NVIDIA GeForce GTX 1080 Ti, Compute Capability 6.1\n",
      "2024-04-17 13:35:04.081690: I tensorflow/compiler/mlir/tensorflow/utils/dump_mlir_util.cc:268] disabling MLIR crash reproducer, set env var `MLIR_CRASH_REPRODUCER_DIRECTORY` to enable.\n",
      "2024-04-17 13:35:04.188029: I tensorflow/compiler/jit/xla_compilation_cache.cc:477] Compiled cluster using XLA!  This line is logged at most once for the lifetime of the process.\n"
     ]
    },
    {
     "name": "stdout",
     "output_type": "stream",
     "text": [
      "1054/1054 [==============================] - 13s 10ms/step - loss: 0.1229 - sparse_categorical_accuracy: 0.9555 - val_loss: 0.0194 - val_sparse_categorical_accuracy: 0.9910\n",
      "Epoch 2/5\n",
      "1054/1054 [==============================] - 10s 10ms/step - loss: 0.0225 - sparse_categorical_accuracy: 0.9926 - val_loss: 0.0147 - val_sparse_categorical_accuracy: 0.9948\n",
      "Epoch 3/5\n",
      "1054/1054 [==============================] - 10s 10ms/step - loss: 0.0152 - sparse_categorical_accuracy: 0.9943 - val_loss: 0.0073 - val_sparse_categorical_accuracy: 0.9981\n",
      "Epoch 4/5\n",
      "1054/1054 [==============================] - 10s 10ms/step - loss: 0.0095 - sparse_categorical_accuracy: 0.9969 - val_loss: 0.0084 - val_sparse_categorical_accuracy: 0.9967\n",
      "Epoch 5/5\n",
      "1054/1054 [==============================] - 10s 10ms/step - loss: 0.0111 - sparse_categorical_accuracy: 0.9962 - val_loss: 0.0078 - val_sparse_categorical_accuracy: 0.9981\n"
     ]
    }
   ],
   "source": [
    "model.compile(optimizer=tf.keras.optimizers.Adam(\n",
    "    learning_rate=client_lr), loss=tf.keras.losses.SparseCategoricalCrossentropy(),\n",
    "    metrics=[tf.keras.metrics.SparseCategoricalAccuracy()])\n",
    "start = time()\n",
    "\n",
    "history = model.fit(x_train, label_train, epochs=5, batch_size=BATCH_SIZE, shuffle=True,\n",
    "                    validation_data=(x_validate, label_validate))\n",
    "end = time() - start"
   ]
  },
  {
   "cell_type": "code",
   "execution_count": 35,
   "id": "1520241f5b85c32a",
   "metadata": {
    "ExecuteTime": {
     "end_time": "2024-04-16T09:51:06.240644Z",
     "start_time": "2024-04-16T09:51:06.224624Z"
    }
   },
   "outputs": [
    {
     "name": "stdout",
     "output_type": "stream",
     "text": [
      "Training time: 55.62347078323364 seconds\n"
     ]
    }
   ],
   "source": [
    "print(f'Training time: {end} seconds')"
   ]
  },
  {
   "cell_type": "markdown",
   "id": "1efd48fb0378069d",
   "metadata": {},
   "source": [
    "# Evaluate the model"
   ]
  },
  {
   "cell_type": "code",
   "execution_count": 36,
   "id": "7e3c2fa3b7374b61",
   "metadata": {
    "ExecuteTime": {
     "end_time": "2024-04-16T09:51:52.826558Z",
     "start_time": "2024-04-16T09:51:52.784120Z"
    }
   },
   "outputs": [],
   "source": [
    "best_model_accuracy = history.history['sparse_categorical_accuracy'][np.argmin(history.history['loss'])]"
   ]
  },
  {
   "cell_type": "code",
   "execution_count": 37,
   "id": "556672cbeeeaa9da",
   "metadata": {
    "ExecuteTime": {
     "end_time": "2024-04-16T09:54:32.191676Z",
     "start_time": "2024-04-16T09:54:29.820454Z"
    }
   },
   "outputs": [
    {
     "name": "stdout",
     "output_type": "stream",
     "text": [
      "330/330 - 1s - loss: 0.0103 - sparse_categorical_accuracy: 0.9966 - 894ms/epoch - 3ms/step\n"
     ]
    }
   ],
   "source": [
    "_, test_acc = model.evaluate(x_test, label_test, verbose=2, batch_size=BATCH_SIZE, use_multiprocessing=True)"
   ]
  },
  {
   "cell_type": "code",
   "execution_count": 38,
   "id": "13f98f3b",
   "metadata": {},
   "outputs": [
    {
     "data": {
      "text/plain": [
       "'100_100'"
      ]
     },
     "execution_count": 38,
     "metadata": {},
     "output_type": "execute_result"
    }
   ],
   "source": [
    "train_val = str(round(best_model_accuracy * 100)) + \"_\" + str(round(test_acc * 100))\n",
    "train_val"
   ]
  },
  {
   "cell_type": "code",
   "execution_count": 39,
   "id": "e036fc3d",
   "metadata": {},
   "outputs": [],
   "source": [
    "import os\n",
    "\n",
    "model_dir = this_dir / 'saved_models' / EXPERIMENT_NAME\n",
    "output_dir = this_dir / 'results' / EXPERIMENT_NAME\n",
    "\n",
    "if not os.path.exists(model_dir):\n",
    "    os.makedirs(model_dir)\n",
    "\n",
    "if not os.path.exists(output_dir):\n",
    "    os.makedirs(output_dir)"
   ]
  },
  {
   "cell_type": "code",
   "execution_count": 40,
   "id": "700afefd",
   "metadata": {},
   "outputs": [],
   "source": [
    "model.save(model_dir / 'model.h5')"
   ]
  },
  {
   "cell_type": "code",
   "execution_count": 41,
   "id": "4f8b09f5",
   "metadata": {},
   "outputs": [],
   "source": [
    "with open(output_dir / 'parameters.txt', 'w') as f:\n",
    "    print('client_lr: {}\\nEpochs: {}\\nBATCH_SIZE: {}'.format(\n",
    "        client_lr, NUM_ROUNDS, BATCH_SIZE), file=f)\n",
    "    f.close()"
   ]
  },
  {
   "cell_type": "code",
   "execution_count": 42,
   "id": "135804b7",
   "metadata": {},
   "outputs": [],
   "source": [
    "def sec_to_hours(seconds):\n",
    "    a = seconds // 3600\n",
    "    b = (seconds % 3600) // 60\n",
    "    c = (seconds % 3600) % 60\n",
    "    d = \"{:.0f} hours {:.0f} mins {:.0f} seconds\".format(a, b, c)\n",
    "    return d\n",
    "\n",
    "\n",
    "total_time = \"Time: {}\".format(sec_to_hours(end))\n",
    "\n",
    "text_file = open(output_dir / \"time.txt\", \"w\")\n",
    "n = text_file.write(total_time)\n",
    "text_file.close()"
   ]
  },
  {
   "cell_type": "code",
   "execution_count": 43,
   "id": "47498c23",
   "metadata": {},
   "outputs": [
    {
     "name": "stdout",
     "output_type": "stream",
     "text": [
      "330/330 - 1s - 758ms/epoch - 2ms/step\n"
     ]
    }
   ],
   "source": [
    "start = time()\n",
    "predictions = model.predict(\n",
    "    x_test, verbose=2, use_multiprocessing=True, batch_size=BATCH_SIZE)\n",
    "end = time() - start\n",
    "text_file = open(output_dir / \"time.txt\", \"a\")\n",
    "text_file.write(f'\\nPredict time: {sec_to_hours(end)}')\n",
    "text_file.close()"
   ]
  },
  {
   "cell_type": "code",
   "execution_count": 44,
   "id": "85053eb6",
   "metadata": {},
   "outputs": [],
   "source": [
    "flow_pred = np.argmax(predictions, axis=-1)"
   ]
  },
  {
   "cell_type": "code",
   "execution_count": 45,
   "id": "94d5d7ed",
   "metadata": {},
   "outputs": [],
   "source": [
    "from sklearn.metrics import ConfusionMatrixDisplay\n",
    "from sklearn.metrics import accuracy_score, precision_score, recall_score, f1_score\n",
    "from sklearn.metrics import classification_report\n",
    "\n",
    "# Class_mapping = {'FileTransfer': 0, 'Music': 1, 'VoIP': 2, 'youtube': 3}\n",
    "# Class_mapping = {'FileTransfer': 0, 'Music': 1, 'VoIP': 2, 'Youtube': 3, 'alibaba': 4, 'amazon': 5, 'docs': 6, 'drive': 7, 'ebay': 8, 'facebook': 9, 'photo': 10, 'shopee': 11, 'thegioididong': 12, 'tiki': 13, 'tiktok': 14, 'youtube': 15, 'youtubelive': 16}\n",
    "# Class_list = list(Class_mapping.keys())\n",
    "Class_list = ['Benign', 'DoH']\n",
    "\n",
    "with open(output_dir / 'metrics.txt', 'w') as f:\n",
    "    # importing accuracy_score, precision_score, recall_score, f1_score\n",
    "    print('\\nAccuracy: {:.2f}\\n'.format(\n",
    "        accuracy_score(label_test, flow_pred)), file=f)\n",
    "\n",
    "    print('Micro Precision: {:.2f}'.format(\n",
    "        precision_score(label_test, flow_pred, average='micro')), file=f)\n",
    "    print('Micro Recall: {:.2f}'.format(\n",
    "        recall_score(label_test, flow_pred, average='micro')), file=f)\n",
    "    print(\n",
    "        'Micro F1-score: {:.2f}\\n'.format(f1_score(label_test, flow_pred, average='micro')), file=f)\n",
    "\n",
    "    print('Macro Precision: {:.2f}'.format(\n",
    "        precision_score(label_test, flow_pred, average='macro')), file=f)\n",
    "    print('Macro Recall: {:.2f}'.format(\n",
    "        recall_score(label_test, flow_pred, average='macro')), file=f)\n",
    "    print(\n",
    "        'Macro F1-score: {:.2f}\\n'.format(f1_score(label_test, flow_pred, average='macro')), file=f)\n",
    "\n",
    "    print('Weighted Precision: {:.2f}'.format(\n",
    "        precision_score(label_test, flow_pred, average='weighted')), file=f)\n",
    "    print('Weighted Recall: {:.2f}'.format(\n",
    "        recall_score(label_test, flow_pred, average='weighted')), file=f)\n",
    "    print(\n",
    "        'Weighted F1-score: {:.2f}'.format(f1_score(label_test, flow_pred, average='weighted')), file=f)\n",
    "\n",
    "    print('\\nClassification Report\\n', file=f)\n",
    "    print(classification_report(label_test, flow_pred, target_names=Class_list), file=f)\n",
    "    f.close()\n"
   ]
  },
  {
   "cell_type": "code",
   "execution_count": 46,
   "id": "4b0e4a6b",
   "metadata": {},
   "outputs": [
    {
     "data": {
      "image/png": "[encoded data removed]",
      "text/plain": [
       "<Figure size 1000x1000 with 1 Axes>"
      ]
     },
     "metadata": {},
     "output_type": "display_data"
    }
   ],
   "source": [
    "import matplotlib.pyplot as plt\n",
    "\n",
    "fig, ax = plt.subplots(figsize=(10, 10))\n",
    "ConfusionMatrixDisplay.from_predictions(label_test, flow_pred, display_labels=Class_list, xticks_rotation='vertical',\n",
    "                                        ax=ax, colorbar=False)\n",
    "plt.savefig(output_dir / 'ConfusionMatrix.pdf', bbox_inches=\"tight\")"
   ]
  },
  {
   "cell_type": "code",
   "execution_count": 47,
   "id": "40bbe13c",
   "metadata": {},
   "outputs": [],
   "source": [
    "from matplotlib.ticker import PercentFormatter\n",
    "import matplotlib.pyplot as plt\n",
    "import seaborn as sns\n",
    "from sklearn.metrics import confusion_matrix\n",
    "\n",
    "\n",
    "def cm_analysis(y_true, y_pred, filename, labels, classes, ymap=None, figsize=(17, 17)):\n",
    "    \"\"\"\n",
    "    Generate matrix plot of confusion matrix with pretty annotations.\n",
    "    The plot image is saved to disk.\n",
    "    args: \n",
    "      y_true:    true label of the data, with shape (nsamples,)\n",
    "      y_pred:    prediction of the data, with shape (nsamples,)\n",
    "      filename:  filename of figure file to save\n",
    "      labels:    string array, name the order of class labels in the confusion matrix.\n",
    "                 use `clf.classes_` if using scikit-learn models.\n",
    "                 with shape (nclass,).\n",
    "      classes:   aliases for the labels. String array to be shown in the cm plot.\n",
    "      ymap:      dict: any -> string, length == nclass.\n",
    "                 if not None, map the labels & ys to more understandable strings.\n",
    "                 Caution: original y_true, y_pred and labels must align.\n",
    "      figsize:   the size of the figure plotted.\n",
    "    \"\"\"\n",
    "    sns.set(font_scale=1)\n",
    "\n",
    "    if ymap is not None:\n",
    "        y_pred = [ymap[yi] for yi in y_pred]\n",
    "        y_true = [ymap[yi] for yi in y_true]\n",
    "        labels = [ymap[yi] for yi in labels]\n",
    "    cm = confusion_matrix(y_true, y_pred, labels=labels)\n",
    "    cm_sum = np.sum(cm, axis=1, keepdims=True)\n",
    "    cm_perc = cm / cm_sum.astype(float) * 100\n",
    "    annot = np.empty_like(cm).astype(str)\n",
    "    nrows, ncols = cm.shape\n",
    "    for i in range(nrows):\n",
    "        for j in range(ncols):\n",
    "            c = cm[i, j]\n",
    "            p = cm_perc[i, j]\n",
    "            if i == j:\n",
    "                s = cm_sum[i]\n",
    "                annot[i, j] = '%.2f%%\\n%d/%d' % (p, c, s)\n",
    "            #elif c == 0:\n",
    "            #    annot[i, j] = ''\n",
    "            else:\n",
    "                annot[i, j] = '%.2f%%\\n%d' % (p, c)\n",
    "    cm = confusion_matrix(y_true, y_pred, labels=labels, normalize='true')\n",
    "    cm = pd.DataFrame(cm, index=labels, columns=labels)\n",
    "    cm = cm * 100\n",
    "    cm.index.name = 'True Label'\n",
    "    cm.columns.name = 'Predicted Label'\n",
    "    fig, ax = plt.subplots(figsize=figsize)\n",
    "    plt.yticks(va='center')\n",
    "\n",
    "    sns.heatmap(cm, annot=annot, fmt='', ax=ax, xticklabels=classes, cbar=True, cbar_kws={'format': PercentFormatter()},\n",
    "                yticklabels=classes, cmap=\"Blues\")\n",
    "    plt.savefig(filename, bbox_inches='tight')"
   ]
  },
  {
   "cell_type": "code",
   "execution_count": 48,
   "id": "284a479b",
   "metadata": {},
   "outputs": [
    {
     "data": {
      "image/png": "[encoded data removed]",
      "text/plain": [
       "<Figure size 1200x1000 with 2 Axes>"
      ]
     },
     "metadata": {},
     "output_type": "display_data"
    }
   ],
   "source": [
    "cm_analysis(y_true=label_test, y_pred=flow_pred, filename=output_dir / 'ConfusionMatrix_nom.pdf', labels=[0, 1],\n",
    "            classes=Class_list, figsize=(12, 10))"
   ]
  },
  {
   "cell_type": "code",
   "execution_count": 49,
   "id": "5af49d41",
   "metadata": {},
   "outputs": [
    {
     "data": {
      "image/png": "[encoded data removed]",
      "text/plain": [
       "<Figure size 1000x600 with 1 Axes>"
      ]
     },
     "metadata": {},
     "output_type": "display_data"
    }
   ],
   "source": [
    "plt.figure(figsize=(10, 6))\n",
    "plt.plot(history.history['sparse_categorical_accuracy'], label='accuracy')\n",
    "plt.plot(\n",
    "    history.history['val_sparse_categorical_accuracy'], label='val_accuracy')\n",
    "plt.legend()\n",
    "plt.xlabel('Epoch')\n",
    "plt.ylabel('Accuracy')\n",
    "plt.ylim([0, 1])\n",
    "plt.savefig(output_dir / \"normal_model_Accuracy.pdf\")"
   ]
  },
  {
   "cell_type": "code",
   "execution_count": 50,
   "id": "4d574c91",
   "metadata": {},
   "outputs": [
    {
     "data": {
      "image/png": "[encoded data removed]",
      "text/plain": [
       "<Figure size 1000x600 with 1 Axes>"
      ]
     },
     "metadata": {},
     "output_type": "display_data"
    }
   ],
   "source": [
    "plt.figure(figsize=(10, 6))\n",
    "plt.plot(history.history['loss'], label='loss')\n",
    "plt.plot(history.history['val_loss'], label='val_loss')\n",
    "plt.xlabel('Epoch')\n",
    "plt.ylabel('Loss')\n",
    "plt.savefig(output_dir / \"normal_model_Loss.pdf\")\n"
   ]
  }
 ],
 "metadata": {
  "kernelspec": {
   "display_name": "Python 3 (ipykernel)",
   "language": "python",
   "name": "python3"
  },
  "language_info": {
   "codemirror_mode": {
    "name": "ipython",
    "version": 3
   },
   "file_extension": ".py",
   "mimetype": "text/x-python",
   "name": "python",
   "nbconvert_exporter": "python",
   "pygments_lexer": "ipython3",
   "version": "3.12.2"
  }
 },
 "nbformat": 4,
 "nbformat_minor": 5
}
