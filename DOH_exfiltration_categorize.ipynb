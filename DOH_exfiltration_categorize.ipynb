{
 "cells": [
  {
   "cell_type": "code",
   "execution_count": 4,
   "id": "initial_id",
   "metadata": {
    "ExecuteTime": {
     "end_time": "2024-04-16T09:02:37.589175Z",
     "start_time": "2024-04-16T09:02:36.811770Z"
    },
    "collapsed": true
   },
   "outputs": [
    {
     "data": {
      "text/plain": [
       "20"
      ]
     },
     "execution_count": 4,
     "metadata": {},
     "output_type": "execute_result"
    }
   ],
   "source": [
    "from time import time\n",
    "\n",
    "import nest_asyncio\n",
    "import pyarrow.feather as feather\n",
    "import pandas as pd\n",
    "import numpy as np\n",
    "import tensorflow as tf\n",
    "from models.CNN_2D import create_keras_model\n",
    "from pathlib import Path\n",
    "\n",
    "nest_asyncio.apply()\n",
    "SEED = 1337\n",
    "tf.random.set_seed(SEED)\n",
    "import gc\n",
    "\n",
    "gc.collect()\n"
   ]
  },
  {
   "cell_type": "code",
   "execution_count": 5,
   "id": "1c6a1a48",
   "metadata": {},
   "outputs": [],
   "source": [
    "EXPERIMENT_NAME = \"merge\"\n",
    "this_dir = Path.cwd()"
   ]
  },
  {
   "cell_type": "markdown",
   "id": "a004930f656efb52",
   "metadata": {},
   "source": [
    "# Load data"
   ]
  },
  {
   "cell_type": "code",
   "execution_count": 6,
   "id": "7f5d488851af91f",
   "metadata": {
    "ExecuteTime": {
     "end_time": "2024-04-16T09:03:18.472736Z",
     "start_time": "2024-04-16T09:02:37.590965Z"
    }
   },
   "outputs": [],
   "source": [
    "data_dir = this_dir / \"datasets/csvs\"\n",
    "\n",
    "benign_data = pd.read_csv(data_dir / \"benign.csv\")\n",
    "dnscat2_data = pd.read_csv(data_dir / \"dnscat2.csv\")\n",
    "\n",
    "dnscat2_data = dnscat2_data.drop(\"type\", axis=1)\n",
    "# dnscat2_data['label'] = dnscat2_data['type']"
   ]
  },
  {
   "cell_type": "code",
   "execution_count": 7,
   "id": "af014d1000a9a092",
   "metadata": {
    "ExecuteTime": {
     "end_time": "2024-04-16T09:03:26.391570Z",
     "start_time": "2024-04-16T09:03:18.820804Z"
    }
   },
   "outputs": [
    {
     "data": {
      "text/html": [
       "<div>\n",
       "<style scoped>\n",
       "    .dataframe tbody tr th:only-of-type {\n",
       "        vertical-align: middle;\n",
       "    }\n",
       "\n",
       "    .dataframe tbody tr th {\n",
       "        vertical-align: top;\n",
       "    }\n",
       "\n",
       "    .dataframe thead th {\n",
       "        text-align: right;\n",
       "    }\n",
       "</style>\n",
       "<table border=\"1\" class=\"dataframe\">\n",
       "  <thead>\n",
       "    <tr style=\"text-align: right;\">\n",
       "      <th></th>\n",
       "      <th>flow_id</th>\n",
       "      <th>byte_1</th>\n",
       "      <th>byte_2</th>\n",
       "      <th>byte_3</th>\n",
       "      <th>byte_4</th>\n",
       "      <th>byte_5</th>\n",
       "      <th>byte_6</th>\n",
       "      <th>byte_7</th>\n",
       "      <th>byte_8</th>\n",
       "      <th>byte_9</th>\n",
       "      <th>...</th>\n",
       "      <th>byte_504</th>\n",
       "      <th>byte_505</th>\n",
       "      <th>byte_506</th>\n",
       "      <th>byte_507</th>\n",
       "      <th>byte_508</th>\n",
       "      <th>byte_509</th>\n",
       "      <th>byte_510</th>\n",
       "      <th>byte_511</th>\n",
       "      <th>byte_512</th>\n",
       "      <th>label</th>\n",
       "    </tr>\n",
       "  </thead>\n",
       "  <tbody>\n",
       "    <tr>\n",
       "      <th>count</th>\n",
       "      <td>67660.000000</td>\n",
       "      <td>67660.000000</td>\n",
       "      <td>67660.000000</td>\n",
       "      <td>67660.000000</td>\n",
       "      <td>67660.000000</td>\n",
       "      <td>67660.000000</td>\n",
       "      <td>67660.000000</td>\n",
       "      <td>67660.000000</td>\n",
       "      <td>67660.000000</td>\n",
       "      <td>67660.000000</td>\n",
       "      <td>...</td>\n",
       "      <td>67660.000000</td>\n",
       "      <td>67660.000000</td>\n",
       "      <td>67660.000000</td>\n",
       "      <td>67660.000000</td>\n",
       "      <td>67660.000000</td>\n",
       "      <td>67660.000000</td>\n",
       "      <td>67660.000000</td>\n",
       "      <td>67660.000000</td>\n",
       "      <td>67660.000000</td>\n",
       "      <td>67660.0</td>\n",
       "    </tr>\n",
       "    <tr>\n",
       "      <th>mean</th>\n",
       "      <td>1692.000000</td>\n",
       "      <td>99.604286</td>\n",
       "      <td>100.760745</td>\n",
       "      <td>99.120160</td>\n",
       "      <td>100.603429</td>\n",
       "      <td>99.594916</td>\n",
       "      <td>99.821135</td>\n",
       "      <td>99.193763</td>\n",
       "      <td>101.406828</td>\n",
       "      <td>127.885619</td>\n",
       "      <td>...</td>\n",
       "      <td>81.558971</td>\n",
       "      <td>80.845862</td>\n",
       "      <td>80.837895</td>\n",
       "      <td>80.540866</td>\n",
       "      <td>80.327594</td>\n",
       "      <td>79.852616</td>\n",
       "      <td>80.177195</td>\n",
       "      <td>79.518785</td>\n",
       "      <td>79.307080</td>\n",
       "      <td>0.0</td>\n",
       "    </tr>\n",
       "    <tr>\n",
       "      <th>std</th>\n",
       "      <td>976.595155</td>\n",
       "      <td>83.957594</td>\n",
       "      <td>84.446257</td>\n",
       "      <td>83.418713</td>\n",
       "      <td>84.375383</td>\n",
       "      <td>84.510162</td>\n",
       "      <td>84.185546</td>\n",
       "      <td>84.237239</td>\n",
       "      <td>81.720739</td>\n",
       "      <td>73.813978</td>\n",
       "      <td>...</td>\n",
       "      <td>85.257821</td>\n",
       "      <td>85.216818</td>\n",
       "      <td>85.111495</td>\n",
       "      <td>85.070814</td>\n",
       "      <td>85.029723</td>\n",
       "      <td>85.013899</td>\n",
       "      <td>85.097603</td>\n",
       "      <td>84.928552</td>\n",
       "      <td>84.932114</td>\n",
       "      <td>0.0</td>\n",
       "    </tr>\n",
       "    <tr>\n",
       "      <th>min</th>\n",
       "      <td>1.000000</td>\n",
       "      <td>0.000000</td>\n",
       "      <td>0.000000</td>\n",
       "      <td>0.000000</td>\n",
       "      <td>0.000000</td>\n",
       "      <td>0.000000</td>\n",
       "      <td>0.000000</td>\n",
       "      <td>0.000000</td>\n",
       "      <td>0.000000</td>\n",
       "      <td>0.000000</td>\n",
       "      <td>...</td>\n",
       "      <td>0.000000</td>\n",
       "      <td>0.000000</td>\n",
       "      <td>0.000000</td>\n",
       "      <td>0.000000</td>\n",
       "      <td>0.000000</td>\n",
       "      <td>0.000000</td>\n",
       "      <td>0.000000</td>\n",
       "      <td>0.000000</td>\n",
       "      <td>0.000000</td>\n",
       "      <td>0.0</td>\n",
       "    </tr>\n",
       "    <tr>\n",
       "      <th>25%</th>\n",
       "      <td>846.000000</td>\n",
       "      <td>10.000000</td>\n",
       "      <td>10.000000</td>\n",
       "      <td>10.000000</td>\n",
       "      <td>10.000000</td>\n",
       "      <td>9.000000</td>\n",
       "      <td>10.000000</td>\n",
       "      <td>9.000000</td>\n",
       "      <td>19.000000</td>\n",
       "      <td>64.000000</td>\n",
       "      <td>...</td>\n",
       "      <td>0.000000</td>\n",
       "      <td>0.000000</td>\n",
       "      <td>0.000000</td>\n",
       "      <td>0.000000</td>\n",
       "      <td>0.000000</td>\n",
       "      <td>0.000000</td>\n",
       "      <td>0.000000</td>\n",
       "      <td>0.000000</td>\n",
       "      <td>0.000000</td>\n",
       "      <td>0.0</td>\n",
       "    </tr>\n",
       "    <tr>\n",
       "      <th>50%</th>\n",
       "      <td>1692.000000</td>\n",
       "      <td>91.000000</td>\n",
       "      <td>93.000000</td>\n",
       "      <td>91.000000</td>\n",
       "      <td>92.000000</td>\n",
       "      <td>92.000000</td>\n",
       "      <td>92.000000</td>\n",
       "      <td>91.000000</td>\n",
       "      <td>91.000000</td>\n",
       "      <td>128.000000</td>\n",
       "      <td>...</td>\n",
       "      <td>54.000000</td>\n",
       "      <td>53.000000</td>\n",
       "      <td>53.000000</td>\n",
       "      <td>53.000000</td>\n",
       "      <td>52.000000</td>\n",
       "      <td>51.000000</td>\n",
       "      <td>52.000000</td>\n",
       "      <td>50.000000</td>\n",
       "      <td>50.000000</td>\n",
       "      <td>0.0</td>\n",
       "    </tr>\n",
       "    <tr>\n",
       "      <th>75%</th>\n",
       "      <td>2538.000000</td>\n",
       "      <td>174.000000</td>\n",
       "      <td>175.000000</td>\n",
       "      <td>172.000000</td>\n",
       "      <td>176.000000</td>\n",
       "      <td>175.000000</td>\n",
       "      <td>175.000000</td>\n",
       "      <td>174.000000</td>\n",
       "      <td>173.000000</td>\n",
       "      <td>192.000000</td>\n",
       "      <td>...</td>\n",
       "      <td>156.000000</td>\n",
       "      <td>155.000000</td>\n",
       "      <td>155.000000</td>\n",
       "      <td>155.000000</td>\n",
       "      <td>154.000000</td>\n",
       "      <td>153.000000</td>\n",
       "      <td>154.000000</td>\n",
       "      <td>153.000000</td>\n",
       "      <td>153.000000</td>\n",
       "      <td>0.0</td>\n",
       "    </tr>\n",
       "    <tr>\n",
       "      <th>max</th>\n",
       "      <td>3383.000000</td>\n",
       "      <td>255.000000</td>\n",
       "      <td>255.000000</td>\n",
       "      <td>255.000000</td>\n",
       "      <td>255.000000</td>\n",
       "      <td>255.000000</td>\n",
       "      <td>255.000000</td>\n",
       "      <td>255.000000</td>\n",
       "      <td>255.000000</td>\n",
       "      <td>255.000000</td>\n",
       "      <td>...</td>\n",
       "      <td>255.000000</td>\n",
       "      <td>255.000000</td>\n",
       "      <td>255.000000</td>\n",
       "      <td>255.000000</td>\n",
       "      <td>255.000000</td>\n",
       "      <td>255.000000</td>\n",
       "      <td>255.000000</td>\n",
       "      <td>255.000000</td>\n",
       "      <td>255.000000</td>\n",
       "      <td>0.0</td>\n",
       "    </tr>\n",
       "  </tbody>\n",
       "</table>\n",
       "<p>8 rows × 514 columns</p>\n",
       "</div>"
      ],
      "text/plain": [
       "            flow_id        byte_1        byte_2        byte_3        byte_4  \\\n",
       "count  67660.000000  67660.000000  67660.000000  67660.000000  67660.000000   \n",
       "mean    1692.000000     99.604286    100.760745     99.120160    100.603429   \n",
       "std      976.595155     83.957594     84.446257     83.418713     84.375383   \n",
       "min        1.000000      0.000000      0.000000      0.000000      0.000000   \n",
       "25%      846.000000     10.000000     10.000000     10.000000     10.000000   \n",
       "50%     1692.000000     91.000000     93.000000     91.000000     92.000000   \n",
       "75%     2538.000000    174.000000    175.000000    172.000000    176.000000   \n",
       "max     3383.000000    255.000000    255.000000    255.000000    255.000000   \n",
       "\n",
       "             byte_5        byte_6        byte_7        byte_8        byte_9  \\\n",
       "count  67660.000000  67660.000000  67660.000000  67660.000000  67660.000000   \n",
       "mean      99.594916     99.821135     99.193763    101.406828    127.885619   \n",
       "std       84.510162     84.185546     84.237239     81.720739     73.813978   \n",
       "min        0.000000      0.000000      0.000000      0.000000      0.000000   \n",
       "25%        9.000000     10.000000      9.000000     19.000000     64.000000   \n",
       "50%       92.000000     92.000000     91.000000     91.000000    128.000000   \n",
       "75%      175.000000    175.000000    174.000000    173.000000    192.000000   \n",
       "max      255.000000    255.000000    255.000000    255.000000    255.000000   \n",
       "\n",
       "       ...      byte_504      byte_505      byte_506      byte_507  \\\n",
       "count  ...  67660.000000  67660.000000  67660.000000  67660.000000   \n",
       "mean   ...     81.558971     80.845862     80.837895     80.540866   \n",
       "std    ...     85.257821     85.216818     85.111495     85.070814   \n",
       "min    ...      0.000000      0.000000      0.000000      0.000000   \n",
       "25%    ...      0.000000      0.000000      0.000000      0.000000   \n",
       "50%    ...     54.000000     53.000000     53.000000     53.000000   \n",
       "75%    ...    156.000000    155.000000    155.000000    155.000000   \n",
       "max    ...    255.000000    255.000000    255.000000    255.000000   \n",
       "\n",
       "           byte_508      byte_509      byte_510      byte_511      byte_512  \\\n",
       "count  67660.000000  67660.000000  67660.000000  67660.000000  67660.000000   \n",
       "mean      80.327594     79.852616     80.177195     79.518785     79.307080   \n",
       "std       85.029723     85.013899     85.097603     84.928552     84.932114   \n",
       "min        0.000000      0.000000      0.000000      0.000000      0.000000   \n",
       "25%        0.000000      0.000000      0.000000      0.000000      0.000000   \n",
       "50%       52.000000     51.000000     52.000000     50.000000     50.000000   \n",
       "75%      154.000000    153.000000    154.000000    153.000000    153.000000   \n",
       "max      255.000000    255.000000    255.000000    255.000000    255.000000   \n",
       "\n",
       "         label  \n",
       "count  67660.0  \n",
       "mean       0.0  \n",
       "std        0.0  \n",
       "min        0.0  \n",
       "25%        0.0  \n",
       "50%        0.0  \n",
       "75%        0.0  \n",
       "max        0.0  \n",
       "\n",
       "[8 rows x 514 columns]"
      ]
     },
     "execution_count": 7,
     "metadata": {},
     "output_type": "execute_result"
    }
   ],
   "source": [
    "benign_data.describe()"
   ]
  },
  {
   "cell_type": "code",
   "execution_count": 8,
   "id": "d2ed6ffce3ffbbcf",
   "metadata": {
    "ExecuteTime": {
     "end_time": "2024-04-16T09:03:29.471139Z",
     "start_time": "2024-04-16T09:03:26.402394Z"
    }
   },
   "outputs": [
    {
     "data": {
      "text/html": [
       "<div>\n",
       "<style scoped>\n",
       "    .dataframe tbody tr th:only-of-type {\n",
       "        vertical-align: middle;\n",
       "    }\n",
       "\n",
       "    .dataframe tbody tr th {\n",
       "        vertical-align: top;\n",
       "    }\n",
       "\n",
       "    .dataframe thead th {\n",
       "        text-align: right;\n",
       "    }\n",
       "</style>\n",
       "<table border=\"1\" class=\"dataframe\">\n",
       "  <thead>\n",
       "    <tr style=\"text-align: right;\">\n",
       "      <th></th>\n",
       "      <th>flow_id</th>\n",
       "      <th>byte_1</th>\n",
       "      <th>byte_2</th>\n",
       "      <th>byte_3</th>\n",
       "      <th>byte_4</th>\n",
       "      <th>byte_5</th>\n",
       "      <th>byte_6</th>\n",
       "      <th>byte_7</th>\n",
       "      <th>byte_8</th>\n",
       "      <th>byte_9</th>\n",
       "      <th>...</th>\n",
       "      <th>byte_504</th>\n",
       "      <th>byte_505</th>\n",
       "      <th>byte_506</th>\n",
       "      <th>byte_507</th>\n",
       "      <th>byte_508</th>\n",
       "      <th>byte_509</th>\n",
       "      <th>byte_510</th>\n",
       "      <th>byte_511</th>\n",
       "      <th>byte_512</th>\n",
       "      <th>label</th>\n",
       "    </tr>\n",
       "  </thead>\n",
       "  <tbody>\n",
       "    <tr>\n",
       "      <th>count</th>\n",
       "      <td>195760.00000</td>\n",
       "      <td>195760.000000</td>\n",
       "      <td>195760.000000</td>\n",
       "      <td>195760.000000</td>\n",
       "      <td>195760.000000</td>\n",
       "      <td>195760.000000</td>\n",
       "      <td>195760.000000</td>\n",
       "      <td>195760.000000</td>\n",
       "      <td>195760.000000</td>\n",
       "      <td>195760.000000</td>\n",
       "      <td>...</td>\n",
       "      <td>195760.000000</td>\n",
       "      <td>195760.000000</td>\n",
       "      <td>195760.000000</td>\n",
       "      <td>195760.000000</td>\n",
       "      <td>195760.000000</td>\n",
       "      <td>195760.000000</td>\n",
       "      <td>195760.000000</td>\n",
       "      <td>195760.000000</td>\n",
       "      <td>195760.000000</td>\n",
       "      <td>195760.0</td>\n",
       "    </tr>\n",
       "    <tr>\n",
       "      <th>mean</th>\n",
       "      <td>4894.50000</td>\n",
       "      <td>127.358950</td>\n",
       "      <td>127.508046</td>\n",
       "      <td>127.338833</td>\n",
       "      <td>127.168722</td>\n",
       "      <td>127.408260</td>\n",
       "      <td>127.686989</td>\n",
       "      <td>127.530609</td>\n",
       "      <td>127.392430</td>\n",
       "      <td>127.804495</td>\n",
       "      <td>...</td>\n",
       "      <td>11.575010</td>\n",
       "      <td>9.249862</td>\n",
       "      <td>8.018058</td>\n",
       "      <td>5.735886</td>\n",
       "      <td>4.384108</td>\n",
       "      <td>2.808362</td>\n",
       "      <td>2.201686</td>\n",
       "      <td>1.393043</td>\n",
       "      <td>1.141301</td>\n",
       "      <td>1.0</td>\n",
       "    </tr>\n",
       "    <tr>\n",
       "      <th>std</th>\n",
       "      <td>2825.55942</td>\n",
       "      <td>73.879234</td>\n",
       "      <td>73.927847</td>\n",
       "      <td>74.007058</td>\n",
       "      <td>73.906414</td>\n",
       "      <td>73.934186</td>\n",
       "      <td>74.020141</td>\n",
       "      <td>73.849379</td>\n",
       "      <td>73.795483</td>\n",
       "      <td>73.958254</td>\n",
       "      <td>...</td>\n",
       "      <td>42.916135</td>\n",
       "      <td>38.634433</td>\n",
       "      <td>36.056568</td>\n",
       "      <td>30.743726</td>\n",
       "      <td>26.957805</td>\n",
       "      <td>21.787729</td>\n",
       "      <td>19.249961</td>\n",
       "      <td>15.346175</td>\n",
       "      <td>13.906116</td>\n",
       "      <td>0.0</td>\n",
       "    </tr>\n",
       "    <tr>\n",
       "      <th>min</th>\n",
       "      <td>1.00000</td>\n",
       "      <td>0.000000</td>\n",
       "      <td>0.000000</td>\n",
       "      <td>0.000000</td>\n",
       "      <td>0.000000</td>\n",
       "      <td>0.000000</td>\n",
       "      <td>0.000000</td>\n",
       "      <td>0.000000</td>\n",
       "      <td>0.000000</td>\n",
       "      <td>0.000000</td>\n",
       "      <td>...</td>\n",
       "      <td>0.000000</td>\n",
       "      <td>0.000000</td>\n",
       "      <td>0.000000</td>\n",
       "      <td>0.000000</td>\n",
       "      <td>0.000000</td>\n",
       "      <td>0.000000</td>\n",
       "      <td>0.000000</td>\n",
       "      <td>0.000000</td>\n",
       "      <td>0.000000</td>\n",
       "      <td>1.0</td>\n",
       "    </tr>\n",
       "    <tr>\n",
       "      <th>25%</th>\n",
       "      <td>2447.75000</td>\n",
       "      <td>63.000000</td>\n",
       "      <td>63.000000</td>\n",
       "      <td>63.000000</td>\n",
       "      <td>63.000000</td>\n",
       "      <td>63.000000</td>\n",
       "      <td>64.000000</td>\n",
       "      <td>64.000000</td>\n",
       "      <td>64.000000</td>\n",
       "      <td>64.000000</td>\n",
       "      <td>...</td>\n",
       "      <td>0.000000</td>\n",
       "      <td>0.000000</td>\n",
       "      <td>0.000000</td>\n",
       "      <td>0.000000</td>\n",
       "      <td>0.000000</td>\n",
       "      <td>0.000000</td>\n",
       "      <td>0.000000</td>\n",
       "      <td>0.000000</td>\n",
       "      <td>0.000000</td>\n",
       "      <td>1.0</td>\n",
       "    </tr>\n",
       "    <tr>\n",
       "      <th>50%</th>\n",
       "      <td>4894.50000</td>\n",
       "      <td>127.000000</td>\n",
       "      <td>128.000000</td>\n",
       "      <td>127.000000</td>\n",
       "      <td>127.000000</td>\n",
       "      <td>127.000000</td>\n",
       "      <td>128.000000</td>\n",
       "      <td>128.000000</td>\n",
       "      <td>127.000000</td>\n",
       "      <td>128.000000</td>\n",
       "      <td>...</td>\n",
       "      <td>0.000000</td>\n",
       "      <td>0.000000</td>\n",
       "      <td>0.000000</td>\n",
       "      <td>0.000000</td>\n",
       "      <td>0.000000</td>\n",
       "      <td>0.000000</td>\n",
       "      <td>0.000000</td>\n",
       "      <td>0.000000</td>\n",
       "      <td>0.000000</td>\n",
       "      <td>1.0</td>\n",
       "    </tr>\n",
       "    <tr>\n",
       "      <th>75%</th>\n",
       "      <td>7341.25000</td>\n",
       "      <td>191.000000</td>\n",
       "      <td>192.000000</td>\n",
       "      <td>192.000000</td>\n",
       "      <td>191.000000</td>\n",
       "      <td>191.000000</td>\n",
       "      <td>192.000000</td>\n",
       "      <td>191.000000</td>\n",
       "      <td>191.000000</td>\n",
       "      <td>192.000000</td>\n",
       "      <td>...</td>\n",
       "      <td>0.000000</td>\n",
       "      <td>0.000000</td>\n",
       "      <td>0.000000</td>\n",
       "      <td>0.000000</td>\n",
       "      <td>0.000000</td>\n",
       "      <td>0.000000</td>\n",
       "      <td>0.000000</td>\n",
       "      <td>0.000000</td>\n",
       "      <td>0.000000</td>\n",
       "      <td>1.0</td>\n",
       "    </tr>\n",
       "    <tr>\n",
       "      <th>max</th>\n",
       "      <td>9788.00000</td>\n",
       "      <td>255.000000</td>\n",
       "      <td>255.000000</td>\n",
       "      <td>255.000000</td>\n",
       "      <td>255.000000</td>\n",
       "      <td>255.000000</td>\n",
       "      <td>255.000000</td>\n",
       "      <td>255.000000</td>\n",
       "      <td>255.000000</td>\n",
       "      <td>255.000000</td>\n",
       "      <td>...</td>\n",
       "      <td>255.000000</td>\n",
       "      <td>255.000000</td>\n",
       "      <td>255.000000</td>\n",
       "      <td>255.000000</td>\n",
       "      <td>255.000000</td>\n",
       "      <td>255.000000</td>\n",
       "      <td>255.000000</td>\n",
       "      <td>255.000000</td>\n",
       "      <td>255.000000</td>\n",
       "      <td>1.0</td>\n",
       "    </tr>\n",
       "  </tbody>\n",
       "</table>\n",
       "<p>8 rows × 514 columns</p>\n",
       "</div>"
      ],
      "text/plain": [
       "            flow_id         byte_1         byte_2         byte_3  \\\n",
       "count  195760.00000  195760.000000  195760.000000  195760.000000   \n",
       "mean     4894.50000     127.358950     127.508046     127.338833   \n",
       "std      2825.55942      73.879234      73.927847      74.007058   \n",
       "min         1.00000       0.000000       0.000000       0.000000   \n",
       "25%      2447.75000      63.000000      63.000000      63.000000   \n",
       "50%      4894.50000     127.000000     128.000000     127.000000   \n",
       "75%      7341.25000     191.000000     192.000000     192.000000   \n",
       "max      9788.00000     255.000000     255.000000     255.000000   \n",
       "\n",
       "              byte_4         byte_5         byte_6         byte_7  \\\n",
       "count  195760.000000  195760.000000  195760.000000  195760.000000   \n",
       "mean      127.168722     127.408260     127.686989     127.530609   \n",
       "std        73.906414      73.934186      74.020141      73.849379   \n",
       "min         0.000000       0.000000       0.000000       0.000000   \n",
       "25%        63.000000      63.000000      64.000000      64.000000   \n",
       "50%       127.000000     127.000000     128.000000     128.000000   \n",
       "75%       191.000000     191.000000     192.000000     191.000000   \n",
       "max       255.000000     255.000000     255.000000     255.000000   \n",
       "\n",
       "              byte_8         byte_9  ...       byte_504       byte_505  \\\n",
       "count  195760.000000  195760.000000  ...  195760.000000  195760.000000   \n",
       "mean      127.392430     127.804495  ...      11.575010       9.249862   \n",
       "std        73.795483      73.958254  ...      42.916135      38.634433   \n",
       "min         0.000000       0.000000  ...       0.000000       0.000000   \n",
       "25%        64.000000      64.000000  ...       0.000000       0.000000   \n",
       "50%       127.000000     128.000000  ...       0.000000       0.000000   \n",
       "75%       191.000000     192.000000  ...       0.000000       0.000000   \n",
       "max       255.000000     255.000000  ...     255.000000     255.000000   \n",
       "\n",
       "            byte_506       byte_507       byte_508       byte_509  \\\n",
       "count  195760.000000  195760.000000  195760.000000  195760.000000   \n",
       "mean        8.018058       5.735886       4.384108       2.808362   \n",
       "std        36.056568      30.743726      26.957805      21.787729   \n",
       "min         0.000000       0.000000       0.000000       0.000000   \n",
       "25%         0.000000       0.000000       0.000000       0.000000   \n",
       "50%         0.000000       0.000000       0.000000       0.000000   \n",
       "75%         0.000000       0.000000       0.000000       0.000000   \n",
       "max       255.000000     255.000000     255.000000     255.000000   \n",
       "\n",
       "            byte_510       byte_511       byte_512     label  \n",
       "count  195760.000000  195760.000000  195760.000000  195760.0  \n",
       "mean        2.201686       1.393043       1.141301       1.0  \n",
       "std        19.249961      15.346175      13.906116       0.0  \n",
       "min         0.000000       0.000000       0.000000       1.0  \n",
       "25%         0.000000       0.000000       0.000000       1.0  \n",
       "50%         0.000000       0.000000       0.000000       1.0  \n",
       "75%         0.000000       0.000000       0.000000       1.0  \n",
       "max       255.000000     255.000000     255.000000       1.0  \n",
       "\n",
       "[8 rows x 514 columns]"
      ]
     },
     "execution_count": 8,
     "metadata": {},
     "output_type": "execute_result"
    }
   ],
   "source": [
    "dnscat2_data.describe()"
   ]
  },
  {
   "cell_type": "code",
   "execution_count": 9,
   "id": "ade56ad67ff0de7e",
   "metadata": {
    "ExecuteTime": {
     "end_time": "2024-04-16T09:03:30.867745Z",
     "start_time": "2024-04-16T09:03:29.527806Z"
    }
   },
   "outputs": [
    {
     "data": {
      "text/plain": [
       "3383"
      ]
     },
     "execution_count": 9,
     "metadata": {},
     "output_type": "execute_result"
    }
   ],
   "source": [
    "benign_data.groupby('flow_id').size().count()"
   ]
  },
  {
   "cell_type": "code",
   "execution_count": 10,
   "id": "8618a2d2ac4674cc",
   "metadata": {
    "ExecuteTime": {
     "end_time": "2024-04-16T09:03:31.539227Z",
     "start_time": "2024-04-16T09:03:30.885096Z"
    }
   },
   "outputs": [
    {
     "data": {
      "text/plain": [
       "9788"
      ]
     },
     "execution_count": 10,
     "metadata": {},
     "output_type": "execute_result"
    }
   ],
   "source": [
    "dnscat2_data.groupby('flow_id').size().count()"
   ]
  },
  {
   "cell_type": "markdown",
   "id": "366f78bea191703",
   "metadata": {},
   "source": [
    "# Split data"
   ]
  },
  {
   "cell_type": "code",
   "execution_count": 11,
   "id": "50f46b4f569e2c3",
   "metadata": {
    "ExecuteTime": {
     "end_time": "2024-04-16T09:03:34.722398Z",
     "start_time": "2024-04-16T09:03:31.570704Z"
    }
   },
   "outputs": [],
   "source": [
    "# Split benign data into train and test\n",
    "grouped = benign_data.groupby('flow_id')\n",
    "arranged = np.arange(grouped.ngroups)\n",
    "np.random.shuffle(arranged)\n",
    "\n",
    "train_benign = benign_data[grouped.ngroup().isin(arranged[:int(len(arranged) * 0.8)])]\n",
    "\n",
    "test_benign = benign_data.drop(train_benign.index)\n",
    "test_benign.reset_index(drop=True, inplace=True)"
   ]
  },
  {
   "cell_type": "code",
   "execution_count": 12,
   "id": "95bdb88a3ec81e3a",
   "metadata": {
    "ExecuteTime": {
     "end_time": "2024-04-16T09:03:35.704676Z",
     "start_time": "2024-04-16T09:03:34.735369Z"
    }
   },
   "outputs": [],
   "source": [
    "# Split dnscat2 data into train and test\n",
    "grouped = dnscat2_data.groupby('flow_id')\n",
    "arranged = np.arange(grouped.ngroups)\n",
    "np.random.shuffle(arranged)\n",
    "\n",
    "train_dnscat2 = dnscat2_data[grouped.ngroup().isin(arranged[:int(len(arranged) * 0.8)])]\n",
    "\n",
    "test_dnscat2 = dnscat2_data.drop(train_dnscat2.index)\n",
    "test_dnscat2.reset_index(drop=True, inplace=True)"
   ]
  },
  {
   "cell_type": "code",
   "execution_count": 13,
   "id": "3ce62a21ca056122",
   "metadata": {
    "ExecuteTime": {
     "end_time": "2024-04-16T09:03:37.525800Z",
     "start_time": "2024-04-16T09:03:35.715671Z"
    }
   },
   "outputs": [],
   "source": [
    "# Split benign train data into train and validation\n",
    "temp = train_benign\n",
    "grouped = temp.groupby('flow_id')\n",
    "arranged = np.arange(grouped.ngroups)\n",
    "np.random.shuffle(arranged)\n",
    "\n",
    "train_benign = temp[grouped.ngroup().isin(arranged[:int(len(arranged) * 0.8)])]\n",
    "\n",
    "validate_benign = temp.drop(train_benign.index)\n",
    "validate_benign.reset_index(drop=True, inplace=True)"
   ]
  },
  {
   "cell_type": "code",
   "execution_count": 14,
   "id": "42498161b3005778",
   "metadata": {
    "ExecuteTime": {
     "end_time": "2024-04-16T09:03:49.369259Z",
     "start_time": "2024-04-16T09:03:37.643916Z"
    }
   },
   "outputs": [],
   "source": [
    "# Split dnscat2 train data into train and validation\n",
    "temp = train_dnscat2\n",
    "grouped = temp.groupby('flow_id')\n",
    "arranged = np.arange(grouped.ngroups)\n",
    "np.random.shuffle(arranged)\n",
    "\n",
    "train_dnscat2 = temp[grouped.ngroup().isin(arranged[:int(len(arranged) * 0.8)])]\n",
    "\n",
    "validate_dnscat2 = temp.drop(train_dnscat2.index)\n",
    "validate_dnscat2.reset_index(drop=True, inplace=True)"
   ]
  },
  {
   "cell_type": "markdown",
   "id": "5ea3f70c1791a9e2",
   "metadata": {},
   "source": [
    "# Merge data"
   ]
  },
  {
   "cell_type": "code",
   "execution_count": 15,
   "id": "4ac02a356433a7ea",
   "metadata": {
    "ExecuteTime": {
     "end_time": "2024-04-16T09:03:51.260766Z",
     "start_time": "2024-04-16T09:03:49.374808Z"
    }
   },
   "outputs": [],
   "source": [
    "# Get the last flow_id of train_dnscat2\n",
    "max_flow = train_dnscat2['flow_id'].iloc[-1]\n",
    "# Modify the flow_id of train_benign\n",
    "train_benign['flow_id'] = train_benign['flow_id'] + max_flow\n",
    "# Merge the two dataframes\n",
    "data_train = pd.concat([train_dnscat2, train_benign])"
   ]
  },
  {
   "cell_type": "code",
   "execution_count": 16,
   "id": "3a6dbe407ebd9797",
   "metadata": {
    "ExecuteTime": {
     "end_time": "2024-04-16T09:03:52.547888Z",
     "start_time": "2024-04-16T09:03:51.265089Z"
    }
   },
   "outputs": [],
   "source": [
    "# Get the last flow_id of test_dnscat2\n",
    "max_flow = test_dnscat2['flow_id'].iloc[-1]\n",
    "# Modify the flow_id of test_benign\n",
    "test_benign['flow_id'] = test_benign['flow_id'] + max_flow\n",
    "# Merge the two dataframes\n",
    "data_test = pd.concat([test_dnscat2, test_benign])"
   ]
  },
  {
   "cell_type": "code",
   "execution_count": 17,
   "id": "6b230d51343c99cd",
   "metadata": {
    "ExecuteTime": {
     "end_time": "2024-04-16T09:03:53.606771Z",
     "start_time": "2024-04-16T09:03:52.552713Z"
    }
   },
   "outputs": [],
   "source": [
    "# Get the last flow_id of validate_dnscat2\n",
    "max_flow = validate_dnscat2['flow_id'].iloc[-1]\n",
    "# Modify the flow_id of validate_benign\n",
    "validate_benign['flow_id'] = validate_benign['flow_id'] + max_flow\n",
    "# Merge the two dataframes\n",
    "data_validate = pd.concat([validate_dnscat2, validate_benign])"
   ]
  },
  {
   "cell_type": "markdown",
   "id": "25c973d823f1b77e",
   "metadata": {},
   "source": [
    "# Get label"
   ]
  },
  {
   "cell_type": "code",
   "execution_count": 18,
   "id": "876a62f6200cd7e2",
   "metadata": {
    "ExecuteTime": {
     "end_time": "2024-04-16T09:03:53.825379Z",
     "start_time": "2024-04-16T09:03:53.646399Z"
    }
   },
   "outputs": [],
   "source": [
    "def most_frequent(List):\n",
    "    return max(set(List), key=List.count)"
   ]
  },
  {
   "cell_type": "code",
   "execution_count": 19,
   "id": "2119a524a6ea9fcd",
   "metadata": {
    "ExecuteTime": {
     "end_time": "2024-04-16T09:03:55.905281Z",
     "start_time": "2024-04-16T09:03:53.830052Z"
    }
   },
   "outputs": [],
   "source": [
    "grouped = data_train.groupby('flow_id')['label'].apply(list).to_dict()\n",
    "\n",
    "label_train = []\n",
    "for flow in grouped:\n",
    "    label_train.append(most_frequent(grouped[flow]))"
   ]
  },
  {
   "cell_type": "code",
   "execution_count": 20,
   "id": "3c82e5b39cd8cdb7",
   "metadata": {
    "ExecuteTime": {
     "end_time": "2024-04-16T09:03:55.913560Z",
     "start_time": "2024-04-16T09:03:55.906522Z"
    }
   },
   "outputs": [
    {
     "data": {
      "text/plain": [
       "8428"
      ]
     },
     "execution_count": 20,
     "metadata": {},
     "output_type": "execute_result"
    }
   ],
   "source": [
    "data_train.groupby('flow_id').size().count()"
   ]
  },
  {
   "cell_type": "code",
   "execution_count": 21,
   "id": "99cf9c4efc0259cf",
   "metadata": {
    "ExecuteTime": {
     "end_time": "2024-04-16T09:03:56.455388Z",
     "start_time": "2024-04-16T09:03:55.914897Z"
    }
   },
   "outputs": [],
   "source": [
    "grouped = data_validate.groupby('flow_id')['label'].apply(list).to_dict()\n",
    "\n",
    "label_validate = []\n",
    "for flow in grouped:\n",
    "    label_validate.append(most_frequent(grouped[flow]))"
   ]
  },
  {
   "cell_type": "code",
   "execution_count": 22,
   "id": "e570874157232cbe",
   "metadata": {
    "ExecuteTime": {
     "end_time": "2024-04-16T09:03:56.858325Z",
     "start_time": "2024-04-16T09:03:56.462413Z"
    }
   },
   "outputs": [],
   "source": [
    "grouped = data_test.groupby('flow_id')['label'].apply(list).to_dict()\n",
    "\n",
    "label_test = []\n",
    "for flow in grouped:\n",
    "    label_test.append(most_frequent(grouped[flow]))"
   ]
  },
  {
   "cell_type": "code",
   "execution_count": 23,
   "id": "a2fd144c868b2ecb",
   "metadata": {
    "ExecuteTime": {
     "end_time": "2024-04-16T09:03:57.030498Z",
     "start_time": "2024-04-16T09:03:56.864571Z"
    }
   },
   "outputs": [],
   "source": [
    "label_train = np.array(label_train)\n",
    "label_validate = np.array(label_validate)\n",
    "label_test = np.array(label_test)"
   ]
  },
  {
   "cell_type": "code",
   "execution_count": 24,
   "id": "18e397371b41fb9",
   "metadata": {
    "ExecuteTime": {
     "end_time": "2024-04-16T09:03:57.322321Z",
     "start_time": "2024-04-16T09:03:57.037748Z"
    }
   },
   "outputs": [
    {
     "data": {
      "text/plain": [
       "(8428, 2108, 2635)"
      ]
     },
     "execution_count": 24,
     "metadata": {},
     "output_type": "execute_result"
    }
   ],
   "source": [
    "len(label_train), len(label_validate), len(label_test)"
   ]
  },
  {
   "cell_type": "code",
   "execution_count": 25,
   "id": "25ad963cbdaf43c3",
   "metadata": {
    "ExecuteTime": {
     "end_time": "2024-04-16T09:04:09.451776Z",
     "start_time": "2024-04-16T09:03:57.329018Z"
    }
   },
   "outputs": [
    {
     "data": {
      "text/html": [
       "<div>\n",
       "<style scoped>\n",
       "    .dataframe tbody tr th:only-of-type {\n",
       "        vertical-align: middle;\n",
       "    }\n",
       "\n",
       "    .dataframe tbody tr th {\n",
       "        vertical-align: top;\n",
       "    }\n",
       "\n",
       "    .dataframe thead th {\n",
       "        text-align: right;\n",
       "    }\n",
       "</style>\n",
       "<table border=\"1\" class=\"dataframe\">\n",
       "  <thead>\n",
       "    <tr style=\"text-align: right;\">\n",
       "      <th></th>\n",
       "      <th>flow_id</th>\n",
       "      <th>byte_1</th>\n",
       "      <th>byte_2</th>\n",
       "      <th>byte_3</th>\n",
       "      <th>byte_4</th>\n",
       "      <th>byte_5</th>\n",
       "      <th>byte_6</th>\n",
       "      <th>byte_7</th>\n",
       "      <th>byte_8</th>\n",
       "      <th>byte_9</th>\n",
       "      <th>...</th>\n",
       "      <th>byte_504</th>\n",
       "      <th>byte_505</th>\n",
       "      <th>byte_506</th>\n",
       "      <th>byte_507</th>\n",
       "      <th>byte_508</th>\n",
       "      <th>byte_509</th>\n",
       "      <th>byte_510</th>\n",
       "      <th>byte_511</th>\n",
       "      <th>byte_512</th>\n",
       "      <th>label</th>\n",
       "    </tr>\n",
       "  </thead>\n",
       "  <tbody>\n",
       "    <tr>\n",
       "      <th>count</th>\n",
       "      <td>168560.000000</td>\n",
       "      <td>168560.000000</td>\n",
       "      <td>168560.000000</td>\n",
       "      <td>168560.000000</td>\n",
       "      <td>168560.000000</td>\n",
       "      <td>168560.000000</td>\n",
       "      <td>168560.000000</td>\n",
       "      <td>168560.000000</td>\n",
       "      <td>168560.000000</td>\n",
       "      <td>168560.000000</td>\n",
       "      <td>...</td>\n",
       "      <td>168560.000000</td>\n",
       "      <td>168560.000000</td>\n",
       "      <td>168560.000000</td>\n",
       "      <td>168560.000000</td>\n",
       "      <td>168560.000000</td>\n",
       "      <td>168560.000000</td>\n",
       "      <td>168560.000000</td>\n",
       "      <td>168560.000000</td>\n",
       "      <td>168560.000000</td>\n",
       "      <td>168560.000000</td>\n",
       "    </tr>\n",
       "    <tr>\n",
       "      <th>mean</th>\n",
       "      <td>6597.041647</td>\n",
       "      <td>120.177213</td>\n",
       "      <td>120.452687</td>\n",
       "      <td>119.746820</td>\n",
       "      <td>120.188064</td>\n",
       "      <td>120.186551</td>\n",
       "      <td>120.365781</td>\n",
       "      <td>120.044061</td>\n",
       "      <td>120.639915</td>\n",
       "      <td>127.920402</td>\n",
       "      <td>...</td>\n",
       "      <td>29.495954</td>\n",
       "      <td>27.552248</td>\n",
       "      <td>26.617175</td>\n",
       "      <td>24.855992</td>\n",
       "      <td>23.737850</td>\n",
       "      <td>22.522508</td>\n",
       "      <td>22.119993</td>\n",
       "      <td>21.317513</td>\n",
       "      <td>21.156306</td>\n",
       "      <td>0.743237</td>\n",
       "    </tr>\n",
       "    <tr>\n",
       "      <th>std</th>\n",
       "      <td>3789.792896</td>\n",
       "      <td>77.519513</td>\n",
       "      <td>77.666897</td>\n",
       "      <td>77.499122</td>\n",
       "      <td>77.693793</td>\n",
       "      <td>77.755336</td>\n",
       "      <td>77.738269</td>\n",
       "      <td>77.656192</td>\n",
       "      <td>76.794158</td>\n",
       "      <td>73.935951</td>\n",
       "      <td>...</td>\n",
       "      <td>64.585419</td>\n",
       "      <td>62.752902</td>\n",
       "      <td>61.817897</td>\n",
       "      <td>60.170388</td>\n",
       "      <td>58.937702</td>\n",
       "      <td>57.746679</td>\n",
       "      <td>57.282033</td>\n",
       "      <td>56.282318</td>\n",
       "      <td>56.192083</td>\n",
       "      <td>0.436849</td>\n",
       "    </tr>\n",
       "    <tr>\n",
       "      <th>min</th>\n",
       "      <td>2.000000</td>\n",
       "      <td>0.000000</td>\n",
       "      <td>0.000000</td>\n",
       "      <td>0.000000</td>\n",
       "      <td>0.000000</td>\n",
       "      <td>0.000000</td>\n",
       "      <td>0.000000</td>\n",
       "      <td>0.000000</td>\n",
       "      <td>0.000000</td>\n",
       "      <td>0.000000</td>\n",
       "      <td>...</td>\n",
       "      <td>0.000000</td>\n",
       "      <td>0.000000</td>\n",
       "      <td>0.000000</td>\n",
       "      <td>0.000000</td>\n",
       "      <td>0.000000</td>\n",
       "      <td>0.000000</td>\n",
       "      <td>0.000000</td>\n",
       "      <td>0.000000</td>\n",
       "      <td>0.000000</td>\n",
       "      <td>0.000000</td>\n",
       "    </tr>\n",
       "    <tr>\n",
       "      <th>25%</th>\n",
       "      <td>3345.750000</td>\n",
       "      <td>52.000000</td>\n",
       "      <td>52.000000</td>\n",
       "      <td>51.000000</td>\n",
       "      <td>52.000000</td>\n",
       "      <td>52.000000</td>\n",
       "      <td>52.000000</td>\n",
       "      <td>52.000000</td>\n",
       "      <td>52.000000</td>\n",
       "      <td>64.000000</td>\n",
       "      <td>...</td>\n",
       "      <td>0.000000</td>\n",
       "      <td>0.000000</td>\n",
       "      <td>0.000000</td>\n",
       "      <td>0.000000</td>\n",
       "      <td>0.000000</td>\n",
       "      <td>0.000000</td>\n",
       "      <td>0.000000</td>\n",
       "      <td>0.000000</td>\n",
       "      <td>0.000000</td>\n",
       "      <td>0.000000</td>\n",
       "    </tr>\n",
       "    <tr>\n",
       "      <th>50%</th>\n",
       "      <td>6577.500000</td>\n",
       "      <td>120.000000</td>\n",
       "      <td>120.000000</td>\n",
       "      <td>119.000000</td>\n",
       "      <td>120.000000</td>\n",
       "      <td>120.000000</td>\n",
       "      <td>120.000000</td>\n",
       "      <td>120.000000</td>\n",
       "      <td>120.000000</td>\n",
       "      <td>128.000000</td>\n",
       "      <td>...</td>\n",
       "      <td>0.000000</td>\n",
       "      <td>0.000000</td>\n",
       "      <td>0.000000</td>\n",
       "      <td>0.000000</td>\n",
       "      <td>0.000000</td>\n",
       "      <td>0.000000</td>\n",
       "      <td>0.000000</td>\n",
       "      <td>0.000000</td>\n",
       "      <td>0.000000</td>\n",
       "      <td>1.000000</td>\n",
       "    </tr>\n",
       "    <tr>\n",
       "      <th>75%</th>\n",
       "      <td>9876.500000</td>\n",
       "      <td>187.000000</td>\n",
       "      <td>188.000000</td>\n",
       "      <td>187.000000</td>\n",
       "      <td>188.000000</td>\n",
       "      <td>188.000000</td>\n",
       "      <td>188.000000</td>\n",
       "      <td>188.000000</td>\n",
       "      <td>188.000000</td>\n",
       "      <td>192.000000</td>\n",
       "      <td>...</td>\n",
       "      <td>0.000000</td>\n",
       "      <td>0.000000</td>\n",
       "      <td>0.000000</td>\n",
       "      <td>0.000000</td>\n",
       "      <td>0.000000</td>\n",
       "      <td>0.000000</td>\n",
       "      <td>0.000000</td>\n",
       "      <td>0.000000</td>\n",
       "      <td>0.000000</td>\n",
       "      <td>1.000000</td>\n",
       "    </tr>\n",
       "    <tr>\n",
       "      <th>max</th>\n",
       "      <td>13171.000000</td>\n",
       "      <td>255.000000</td>\n",
       "      <td>255.000000</td>\n",
       "      <td>255.000000</td>\n",
       "      <td>255.000000</td>\n",
       "      <td>255.000000</td>\n",
       "      <td>255.000000</td>\n",
       "      <td>255.000000</td>\n",
       "      <td>255.000000</td>\n",
       "      <td>255.000000</td>\n",
       "      <td>...</td>\n",
       "      <td>255.000000</td>\n",
       "      <td>255.000000</td>\n",
       "      <td>255.000000</td>\n",
       "      <td>255.000000</td>\n",
       "      <td>255.000000</td>\n",
       "      <td>255.000000</td>\n",
       "      <td>255.000000</td>\n",
       "      <td>255.000000</td>\n",
       "      <td>255.000000</td>\n",
       "      <td>1.000000</td>\n",
       "    </tr>\n",
       "  </tbody>\n",
       "</table>\n",
       "<p>8 rows × 514 columns</p>\n",
       "</div>"
      ],
      "text/plain": [
       "             flow_id         byte_1         byte_2         byte_3  \\\n",
       "count  168560.000000  168560.000000  168560.000000  168560.000000   \n",
       "mean     6597.041647     120.177213     120.452687     119.746820   \n",
       "std      3789.792896      77.519513      77.666897      77.499122   \n",
       "min         2.000000       0.000000       0.000000       0.000000   \n",
       "25%      3345.750000      52.000000      52.000000      51.000000   \n",
       "50%      6577.500000     120.000000     120.000000     119.000000   \n",
       "75%      9876.500000     187.000000     188.000000     187.000000   \n",
       "max     13171.000000     255.000000     255.000000     255.000000   \n",
       "\n",
       "              byte_4         byte_5         byte_6         byte_7  \\\n",
       "count  168560.000000  168560.000000  168560.000000  168560.000000   \n",
       "mean      120.188064     120.186551     120.365781     120.044061   \n",
       "std        77.693793      77.755336      77.738269      77.656192   \n",
       "min         0.000000       0.000000       0.000000       0.000000   \n",
       "25%        52.000000      52.000000      52.000000      52.000000   \n",
       "50%       120.000000     120.000000     120.000000     120.000000   \n",
       "75%       188.000000     188.000000     188.000000     188.000000   \n",
       "max       255.000000     255.000000     255.000000     255.000000   \n",
       "\n",
       "              byte_8         byte_9  ...       byte_504       byte_505  \\\n",
       "count  168560.000000  168560.000000  ...  168560.000000  168560.000000   \n",
       "mean      120.639915     127.920402  ...      29.495954      27.552248   \n",
       "std        76.794158      73.935951  ...      64.585419      62.752902   \n",
       "min         0.000000       0.000000  ...       0.000000       0.000000   \n",
       "25%        52.000000      64.000000  ...       0.000000       0.000000   \n",
       "50%       120.000000     128.000000  ...       0.000000       0.000000   \n",
       "75%       188.000000     192.000000  ...       0.000000       0.000000   \n",
       "max       255.000000     255.000000  ...     255.000000     255.000000   \n",
       "\n",
       "            byte_506       byte_507       byte_508       byte_509  \\\n",
       "count  168560.000000  168560.000000  168560.000000  168560.000000   \n",
       "mean       26.617175      24.855992      23.737850      22.522508   \n",
       "std        61.817897      60.170388      58.937702      57.746679   \n",
       "min         0.000000       0.000000       0.000000       0.000000   \n",
       "25%         0.000000       0.000000       0.000000       0.000000   \n",
       "50%         0.000000       0.000000       0.000000       0.000000   \n",
       "75%         0.000000       0.000000       0.000000       0.000000   \n",
       "max       255.000000     255.000000     255.000000     255.000000   \n",
       "\n",
       "            byte_510       byte_511       byte_512          label  \n",
       "count  168560.000000  168560.000000  168560.000000  168560.000000  \n",
       "mean       22.119993      21.317513      21.156306       0.743237  \n",
       "std        57.282033      56.282318      56.192083       0.436849  \n",
       "min         0.000000       0.000000       0.000000       0.000000  \n",
       "25%         0.000000       0.000000       0.000000       0.000000  \n",
       "50%         0.000000       0.000000       0.000000       1.000000  \n",
       "75%         0.000000       0.000000       0.000000       1.000000  \n",
       "max       255.000000     255.000000     255.000000       1.000000  \n",
       "\n",
       "[8 rows x 514 columns]"
      ]
     },
     "execution_count": 25,
     "metadata": {},
     "output_type": "execute_result"
    }
   ],
   "source": [
    "data_train.describe()"
   ]
  },
  {
   "cell_type": "code",
   "execution_count": 26,
   "id": "a471437ddc3d742a",
   "metadata": {
    "ExecuteTime": {
     "end_time": "2024-04-16T09:04:34.252857Z",
     "start_time": "2024-04-16T09:04:09.533414Z"
    }
   },
   "outputs": [],
   "source": [
    "data_train_without_flow = data_train.drop('flow_id', axis=1)\n",
    "data_validate_without_flow = data_validate.drop('flow_id', axis=1)\n",
    "data_test_without_flow = data_test.drop('flow_id', axis=1)"
   ]
  },
  {
   "cell_type": "code",
   "execution_count": 27,
   "id": "622363e0f08973ce",
   "metadata": {
    "ExecuteTime": {
     "end_time": "2024-04-16T09:04:34.571680Z",
     "start_time": "2024-04-16T09:04:34.268352Z"
    }
   },
   "outputs": [
    {
     "name": "stdout",
     "output_type": "stream",
     "text": [
      "512 2\n"
     ]
    }
   ],
   "source": [
    "NUM_FEATURE = len(data_test_without_flow.columns) - 1\n",
    "NUM_CLASSES = len(np.unique(data_test_without_flow['label']))\n",
    "print(NUM_FEATURE, NUM_CLASSES)"
   ]
  },
  {
   "cell_type": "code",
   "execution_count": 28,
   "id": "d0d5ec7a079234f6",
   "metadata": {
    "ExecuteTime": {
     "end_time": "2024-04-16T09:04:37.010638Z",
     "start_time": "2024-04-16T09:04:34.577158Z"
    }
   },
   "outputs": [
    {
     "data": {
      "text/html": [
       "<div>\n",
       "<style scoped>\n",
       "    .dataframe tbody tr th:only-of-type {\n",
       "        vertical-align: middle;\n",
       "    }\n",
       "\n",
       "    .dataframe tbody tr th {\n",
       "        vertical-align: top;\n",
       "    }\n",
       "\n",
       "    .dataframe thead th {\n",
       "        text-align: right;\n",
       "    }\n",
       "</style>\n",
       "<table border=\"1\" class=\"dataframe\">\n",
       "  <thead>\n",
       "    <tr style=\"text-align: right;\">\n",
       "      <th></th>\n",
       "      <th>byte_1</th>\n",
       "      <th>byte_2</th>\n",
       "      <th>byte_3</th>\n",
       "      <th>byte_4</th>\n",
       "      <th>byte_5</th>\n",
       "      <th>byte_6</th>\n",
       "      <th>byte_7</th>\n",
       "      <th>byte_8</th>\n",
       "      <th>byte_9</th>\n",
       "      <th>byte_10</th>\n",
       "      <th>...</th>\n",
       "      <th>byte_504</th>\n",
       "      <th>byte_505</th>\n",
       "      <th>byte_506</th>\n",
       "      <th>byte_507</th>\n",
       "      <th>byte_508</th>\n",
       "      <th>byte_509</th>\n",
       "      <th>byte_510</th>\n",
       "      <th>byte_511</th>\n",
       "      <th>byte_512</th>\n",
       "      <th>label</th>\n",
       "    </tr>\n",
       "  </thead>\n",
       "  <tbody>\n",
       "    <tr>\n",
       "      <th>count</th>\n",
       "      <td>168560.000000</td>\n",
       "      <td>168560.000000</td>\n",
       "      <td>168560.000000</td>\n",
       "      <td>168560.000000</td>\n",
       "      <td>168560.000000</td>\n",
       "      <td>168560.000000</td>\n",
       "      <td>168560.000000</td>\n",
       "      <td>168560.000000</td>\n",
       "      <td>168560.000000</td>\n",
       "      <td>168560.000000</td>\n",
       "      <td>...</td>\n",
       "      <td>168560.000000</td>\n",
       "      <td>168560.000000</td>\n",
       "      <td>168560.000000</td>\n",
       "      <td>168560.000000</td>\n",
       "      <td>168560.000000</td>\n",
       "      <td>168560.000000</td>\n",
       "      <td>168560.000000</td>\n",
       "      <td>168560.000000</td>\n",
       "      <td>168560.000000</td>\n",
       "      <td>168560.000000</td>\n",
       "    </tr>\n",
       "    <tr>\n",
       "      <th>mean</th>\n",
       "      <td>120.177213</td>\n",
       "      <td>120.452687</td>\n",
       "      <td>119.746820</td>\n",
       "      <td>120.188064</td>\n",
       "      <td>120.186551</td>\n",
       "      <td>120.365781</td>\n",
       "      <td>120.044061</td>\n",
       "      <td>120.639915</td>\n",
       "      <td>127.920402</td>\n",
       "      <td>127.424252</td>\n",
       "      <td>...</td>\n",
       "      <td>29.495954</td>\n",
       "      <td>27.552248</td>\n",
       "      <td>26.617175</td>\n",
       "      <td>24.855992</td>\n",
       "      <td>23.737850</td>\n",
       "      <td>22.522508</td>\n",
       "      <td>22.119993</td>\n",
       "      <td>21.317513</td>\n",
       "      <td>21.156306</td>\n",
       "      <td>0.743237</td>\n",
       "    </tr>\n",
       "    <tr>\n",
       "      <th>std</th>\n",
       "      <td>77.519513</td>\n",
       "      <td>77.666897</td>\n",
       "      <td>77.499122</td>\n",
       "      <td>77.693793</td>\n",
       "      <td>77.755336</td>\n",
       "      <td>77.738269</td>\n",
       "      <td>77.656192</td>\n",
       "      <td>76.794158</td>\n",
       "      <td>73.935951</td>\n",
       "      <td>73.893555</td>\n",
       "      <td>...</td>\n",
       "      <td>64.585419</td>\n",
       "      <td>62.752902</td>\n",
       "      <td>61.817897</td>\n",
       "      <td>60.170388</td>\n",
       "      <td>58.937702</td>\n",
       "      <td>57.746679</td>\n",
       "      <td>57.282033</td>\n",
       "      <td>56.282318</td>\n",
       "      <td>56.192083</td>\n",
       "      <td>0.436849</td>\n",
       "    </tr>\n",
       "    <tr>\n",
       "      <th>min</th>\n",
       "      <td>0.000000</td>\n",
       "      <td>0.000000</td>\n",
       "      <td>0.000000</td>\n",
       "      <td>0.000000</td>\n",
       "      <td>0.000000</td>\n",
       "      <td>0.000000</td>\n",
       "      <td>0.000000</td>\n",
       "      <td>0.000000</td>\n",
       "      <td>0.000000</td>\n",
       "      <td>0.000000</td>\n",
       "      <td>...</td>\n",
       "      <td>0.000000</td>\n",
       "      <td>0.000000</td>\n",
       "      <td>0.000000</td>\n",
       "      <td>0.000000</td>\n",
       "      <td>0.000000</td>\n",
       "      <td>0.000000</td>\n",
       "      <td>0.000000</td>\n",
       "      <td>0.000000</td>\n",
       "      <td>0.000000</td>\n",
       "      <td>0.000000</td>\n",
       "    </tr>\n",
       "    <tr>\n",
       "      <th>25%</th>\n",
       "      <td>52.000000</td>\n",
       "      <td>52.000000</td>\n",
       "      <td>51.000000</td>\n",
       "      <td>52.000000</td>\n",
       "      <td>52.000000</td>\n",
       "      <td>52.000000</td>\n",
       "      <td>52.000000</td>\n",
       "      <td>52.000000</td>\n",
       "      <td>64.000000</td>\n",
       "      <td>63.000000</td>\n",
       "      <td>...</td>\n",
       "      <td>0.000000</td>\n",
       "      <td>0.000000</td>\n",
       "      <td>0.000000</td>\n",
       "      <td>0.000000</td>\n",
       "      <td>0.000000</td>\n",
       "      <td>0.000000</td>\n",
       "      <td>0.000000</td>\n",
       "      <td>0.000000</td>\n",
       "      <td>0.000000</td>\n",
       "      <td>0.000000</td>\n",
       "    </tr>\n",
       "    <tr>\n",
       "      <th>50%</th>\n",
       "      <td>120.000000</td>\n",
       "      <td>120.000000</td>\n",
       "      <td>119.000000</td>\n",
       "      <td>120.000000</td>\n",
       "      <td>120.000000</td>\n",
       "      <td>120.000000</td>\n",
       "      <td>120.000000</td>\n",
       "      <td>120.000000</td>\n",
       "      <td>128.000000</td>\n",
       "      <td>127.000000</td>\n",
       "      <td>...</td>\n",
       "      <td>0.000000</td>\n",
       "      <td>0.000000</td>\n",
       "      <td>0.000000</td>\n",
       "      <td>0.000000</td>\n",
       "      <td>0.000000</td>\n",
       "      <td>0.000000</td>\n",
       "      <td>0.000000</td>\n",
       "      <td>0.000000</td>\n",
       "      <td>0.000000</td>\n",
       "      <td>1.000000</td>\n",
       "    </tr>\n",
       "    <tr>\n",
       "      <th>75%</th>\n",
       "      <td>187.000000</td>\n",
       "      <td>188.000000</td>\n",
       "      <td>187.000000</td>\n",
       "      <td>188.000000</td>\n",
       "      <td>188.000000</td>\n",
       "      <td>188.000000</td>\n",
       "      <td>188.000000</td>\n",
       "      <td>188.000000</td>\n",
       "      <td>192.000000</td>\n",
       "      <td>191.000000</td>\n",
       "      <td>...</td>\n",
       "      <td>0.000000</td>\n",
       "      <td>0.000000</td>\n",
       "      <td>0.000000</td>\n",
       "      <td>0.000000</td>\n",
       "      <td>0.000000</td>\n",
       "      <td>0.000000</td>\n",
       "      <td>0.000000</td>\n",
       "      <td>0.000000</td>\n",
       "      <td>0.000000</td>\n",
       "      <td>1.000000</td>\n",
       "    </tr>\n",
       "    <tr>\n",
       "      <th>max</th>\n",
       "      <td>255.000000</td>\n",
       "      <td>255.000000</td>\n",
       "      <td>255.000000</td>\n",
       "      <td>255.000000</td>\n",
       "      <td>255.000000</td>\n",
       "      <td>255.000000</td>\n",
       "      <td>255.000000</td>\n",
       "      <td>255.000000</td>\n",
       "      <td>255.000000</td>\n",
       "      <td>255.000000</td>\n",
       "      <td>...</td>\n",
       "      <td>255.000000</td>\n",
       "      <td>255.000000</td>\n",
       "      <td>255.000000</td>\n",
       "      <td>255.000000</td>\n",
       "      <td>255.000000</td>\n",
       "      <td>255.000000</td>\n",
       "      <td>255.000000</td>\n",
       "      <td>255.000000</td>\n",
       "      <td>255.000000</td>\n",
       "      <td>1.000000</td>\n",
       "    </tr>\n",
       "  </tbody>\n",
       "</table>\n",
       "<p>8 rows × 513 columns</p>\n",
       "</div>"
      ],
      "text/plain": [
       "              byte_1         byte_2         byte_3         byte_4  \\\n",
       "count  168560.000000  168560.000000  168560.000000  168560.000000   \n",
       "mean      120.177213     120.452687     119.746820     120.188064   \n",
       "std        77.519513      77.666897      77.499122      77.693793   \n",
       "min         0.000000       0.000000       0.000000       0.000000   \n",
       "25%        52.000000      52.000000      51.000000      52.000000   \n",
       "50%       120.000000     120.000000     119.000000     120.000000   \n",
       "75%       187.000000     188.000000     187.000000     188.000000   \n",
       "max       255.000000     255.000000     255.000000     255.000000   \n",
       "\n",
       "              byte_5         byte_6         byte_7         byte_8  \\\n",
       "count  168560.000000  168560.000000  168560.000000  168560.000000   \n",
       "mean      120.186551     120.365781     120.044061     120.639915   \n",
       "std        77.755336      77.738269      77.656192      76.794158   \n",
       "min         0.000000       0.000000       0.000000       0.000000   \n",
       "25%        52.000000      52.000000      52.000000      52.000000   \n",
       "50%       120.000000     120.000000     120.000000     120.000000   \n",
       "75%       188.000000     188.000000     188.000000     188.000000   \n",
       "max       255.000000     255.000000     255.000000     255.000000   \n",
       "\n",
       "              byte_9        byte_10  ...       byte_504       byte_505  \\\n",
       "count  168560.000000  168560.000000  ...  168560.000000  168560.000000   \n",
       "mean      127.920402     127.424252  ...      29.495954      27.552248   \n",
       "std        73.935951      73.893555  ...      64.585419      62.752902   \n",
       "min         0.000000       0.000000  ...       0.000000       0.000000   \n",
       "25%        64.000000      63.000000  ...       0.000000       0.000000   \n",
       "50%       128.000000     127.000000  ...       0.000000       0.000000   \n",
       "75%       192.000000     191.000000  ...       0.000000       0.000000   \n",
       "max       255.000000     255.000000  ...     255.000000     255.000000   \n",
       "\n",
       "            byte_506       byte_507       byte_508       byte_509  \\\n",
       "count  168560.000000  168560.000000  168560.000000  168560.000000   \n",
       "mean       26.617175      24.855992      23.737850      22.522508   \n",
       "std        61.817897      60.170388      58.937702      57.746679   \n",
       "min         0.000000       0.000000       0.000000       0.000000   \n",
       "25%         0.000000       0.000000       0.000000       0.000000   \n",
       "50%         0.000000       0.000000       0.000000       0.000000   \n",
       "75%         0.000000       0.000000       0.000000       0.000000   \n",
       "max       255.000000     255.000000     255.000000     255.000000   \n",
       "\n",
       "            byte_510       byte_511       byte_512          label  \n",
       "count  168560.000000  168560.000000  168560.000000  168560.000000  \n",
       "mean       22.119993      21.317513      21.156306       0.743237  \n",
       "std        57.282033      56.282318      56.192083       0.436849  \n",
       "min         0.000000       0.000000       0.000000       0.000000  \n",
       "25%         0.000000       0.000000       0.000000       0.000000  \n",
       "50%         0.000000       0.000000       0.000000       1.000000  \n",
       "75%         0.000000       0.000000       0.000000       1.000000  \n",
       "max       255.000000     255.000000     255.000000       1.000000  \n",
       "\n",
       "[8 rows x 513 columns]"
      ]
     },
     "execution_count": 28,
     "metadata": {},
     "output_type": "execute_result"
    }
   ],
   "source": [
    "data_train_without_flow.describe()"
   ]
  },
  {
   "cell_type": "code",
   "execution_count": 29,
   "id": "96da012d7bc7d2f6",
   "metadata": {},
   "outputs": [
    {
     "data": {
      "text/plain": [
       "8428.0"
      ]
     },
     "execution_count": 29,
     "metadata": {},
     "output_type": "execute_result"
    }
   ],
   "source": [
    "168560 / 20"
   ]
  },
  {
   "cell_type": "code",
   "execution_count": 30,
   "id": "c3a3d38dab2b5799",
   "metadata": {
    "ExecuteTime": {
     "end_time": "2024-04-16T09:04:38.748509Z",
     "start_time": "2024-04-16T09:04:37.092527Z"
    }
   },
   "outputs": [],
   "source": [
    "x_train = (data_train_without_flow.drop('label', axis=1).to_numpy() / 255).reshape(-1, 20, NUM_FEATURE)\n",
    "x_validate = np.expand_dims(\n",
    "    (data_validate_without_flow.drop('label', axis=1).to_numpy() / 255).reshape(-1, 20, NUM_FEATURE), axis=-1)\n",
    "x_test = np.expand_dims((data_test_without_flow.drop('label', axis=1).to_numpy() / 255).reshape(-1, 20, NUM_FEATURE),\n",
    "                        axis=-1)"
   ]
  },
  {
   "cell_type": "code",
   "execution_count": 31,
   "id": "577da4472b5f10b5",
   "metadata": {
    "ExecuteTime": {
     "end_time": "2024-04-16T09:04:39.364488Z",
     "start_time": "2024-04-16T09:04:38.763469Z"
    }
   },
   "outputs": [],
   "source": [
    "x_train = np.array(x_train)"
   ]
  },
  {
   "cell_type": "code",
   "execution_count": 32,
   "id": "a7d23bd3a6c4edc9",
   "metadata": {
    "ExecuteTime": {
     "end_time": "2024-04-16T08:52:20.461003Z",
     "start_time": "2024-04-16T08:52:20.456227Z"
    }
   },
   "outputs": [
    {
     "data": {
      "text/plain": [
       "(8428, 20, 512)"
      ]
     },
     "execution_count": 32,
     "metadata": {},
     "output_type": "execute_result"
    }
   ],
   "source": [
    "x_train.shape"
   ]
  },
  {
   "cell_type": "markdown",
   "id": "a23e5a81e11a14db",
   "metadata": {},
   "source": [
    "# Model training"
   ]
  },
  {
   "cell_type": "code",
   "execution_count": 33,
   "id": "6d3bec2e538a49a7",
   "metadata": {
    "ExecuteTime": {
     "end_time": "2024-04-16T09:23:24.939921Z",
     "start_time": "2024-04-16T09:23:24.156894Z"
    }
   },
   "outputs": [
    {
     "name": "stdout",
     "output_type": "stream",
     "text": [
      "Model: \"sequential\"\n",
      "_________________________________________________________________\n",
      " Layer (type)                Output Shape              Param #   \n",
      "=================================================================\n",
      " conv2d (Conv2D)             (None, 20, 512, 32)       832       \n",
      "                                                                 \n",
      " conv2d_1 (Conv2D)           (None, 20, 512, 32)       25632     \n",
      "                                                                 \n",
      " max_pooling2d (MaxPooling2D  (None, 10, 256, 32)      0         \n",
      " )                                                               \n",
      "                                                                 \n",
      " dropout (Dropout)           (None, 10, 256, 32)       0         \n",
      "                                                                 \n",
      " conv2d_2 (Conv2D)           (None, 10, 256, 64)       18496     \n",
      "                                                                 \n",
      " conv2d_3 (Conv2D)           (None, 10, 256, 64)       36928     \n",
      "                                                                 \n",
      " max_pooling2d_1 (MaxPooling  (None, 5, 128, 64)       0         \n",
      " 2D)                                                             \n",
      "                                                                 \n",
      " dropout_1 (Dropout)         (None, 5, 128, 64)        0         \n",
      "                                                                 \n",
      " flatten (Flatten)           (None, 40960)             0         \n",
      "                                                                 \n",
      " dense (Dense)               (None, 256)               10486016  \n",
      "                                                                 \n",
      " dropout_2 (Dropout)         (None, 256)               0         \n",
      "                                                                 \n",
      " dense_1 (Dense)             (None, 2)                 514       \n",
      "                                                                 \n",
      "=================================================================\n",
      "Total params: 10,568,418\n",
      "Trainable params: 10,568,418\n",
      "Non-trainable params: 0\n",
      "_________________________________________________________________\n"
     ]
    },
    {
     "name": "stderr",
     "output_type": "stream",
     "text": [
      "2024-04-17 13:35:01.462330: I tensorflow/compiler/xla/stream_executor/cuda/cuda_gpu_executor.cc:981] successful NUMA node read from SysFS had negative value (-1), but there must be at least one NUMA node, so returning NUMA node zero\n",
      "2024-04-17 13:35:01.649672: I tensorflow/compiler/xla/stream_executor/cuda/cuda_gpu_executor.cc:981] successful NUMA node read from SysFS had negative value (-1), but there must be at least one NUMA node, so returning NUMA node zero\n",
      "2024-04-17 13:35:01.649837: I tensorflow/compiler/xla/stream_executor/cuda/cuda_gpu_executor.cc:981] successful NUMA node read from SysFS had negative value (-1), but there must be at least one NUMA node, so returning NUMA node zero\n",
      "2024-04-17 13:35:01.650486: I tensorflow/core/platform/cpu_feature_guard.cc:193] This TensorFlow binary is optimized with oneAPI Deep Neural Network Library (oneDNN) to use the following CPU instructions in performance-critical operations:  AVX2 FMA\n",
      "To enable them in other operations, rebuild TensorFlow with the appropriate compiler flags.\n",
      "2024-04-17 13:35:01.651016: I tensorflow/compiler/xla/stream_executor/cuda/cuda_gpu_executor.cc:981] successful NUMA node read from SysFS had negative value (-1), but there must be at least one NUMA node, so returning NUMA node zero\n",
      "2024-04-17 13:35:01.651159: I tensorflow/compiler/xla/stream_executor/cuda/cuda_gpu_executor.cc:981] successful NUMA node read from SysFS had negative value (-1), but there must be at least one NUMA node, so returning NUMA node zero\n",
      "2024-04-17 13:35:01.651286: I tensorflow/compiler/xla/stream_executor/cuda/cuda_gpu_executor.cc:981] successful NUMA node read from SysFS had negative value (-1), but there must be at least one NUMA node, so returning NUMA node zero\n",
      "2024-04-17 13:35:01.742107: I tensorflow/compiler/xla/stream_executor/cuda/cuda_gpu_executor.cc:981] successful NUMA node read from SysFS had negative value (-1), but there must be at least one NUMA node, so returning NUMA node zero\n",
      "2024-04-17 13:35:01.742281: I tensorflow/compiler/xla/stream_executor/cuda/cuda_gpu_executor.cc:981] successful NUMA node read from SysFS had negative value (-1), but there must be at least one NUMA node, so returning NUMA node zero\n",
      "2024-04-17 13:35:01.742448: I tensorflow/compiler/xla/stream_executor/cuda/cuda_gpu_executor.cc:981] successful NUMA node read from SysFS had negative value (-1), but there must be at least one NUMA node, so returning NUMA node zero\n",
      "2024-04-17 13:35:01.742565: I tensorflow/core/common_runtime/gpu/gpu_device.cc:1613] Created device /job:localhost/replica:0/task:0/device:GPU:0 with 10293 MB memory:  -> device: 0, name: NVIDIA GeForce GTX 1080 Ti, pci bus id: 0000:01:00.0, compute capability: 6.1\n"
     ]
    }
   ],
   "source": [
    "# Initialize the model\n",
    "client_lr = 3e-4\n",
    "NUM_ROUNDS = 300\n",
    "BATCH_SIZE = 8\n",
    "\n",
    "model = create_keras_model(NUM_FEATURE, NUM_CLASSES)\n",
    "model.summary()"
   ]
  },
  {
   "cell_type": "code",
   "execution_count": 34,
   "id": "fde12118b8a6f73c",
   "metadata": {
    "ExecuteTime": {
     "end_time": "2024-04-16T09:50:07.582300Z",
     "start_time": "2024-04-16T09:23:34.675204Z"
    }
   },
   "outputs": [
    {
     "name": "stderr",
     "output_type": "stream",
     "text": [
      "2024-04-17 13:35:02.237332: W tensorflow/tsl/framework/cpu_allocator_impl.cc:82] Allocation of 345210880 exceeds 10% of free system memory.\n",
      "2024-04-17 13:35:02.475731: W tensorflow/tsl/framework/cpu_allocator_impl.cc:82] Allocation of 345210880 exceeds 10% of free system memory.\n"
     ]
    },
    {
     "name": "stdout",
     "output_type": "stream",
     "text": [
      "Epoch 1/5\n"
     ]
    },
    {
     "name": "stderr",
     "output_type": "stream",
     "text": [
      "2024-04-17 13:35:03.319972: E tensorflow/core/grappler/optimizers/meta_optimizer.cc:954] layout failed: INVALID_ARGUMENT: Size of values 0 does not match size of permutation 4 @ fanin shape insequential/dropout/dropout/SelectV2-2-TransposeNHWCToNCHW-LayoutOptimizer\n",
      "2024-04-17 13:35:03.581732: I tensorflow/compiler/xla/stream_executor/cuda/cuda_dnn.cc:428] Loaded cuDNN version 8800\n",
      "2024-04-17 13:35:04.076134: I tensorflow/compiler/xla/service/service.cc:173] XLA service 0x7b7bd8021470 initialized for platform CUDA (this does not guarantee that XLA will be used). Devices:\n",
      "2024-04-17 13:35:04.076164: I tensorflow/compiler/xla/service/service.cc:181]   StreamExecutor device (0): NVIDIA GeForce GTX 1080 Ti, Compute Capability 6.1\n",
      "2024-04-17 13:35:04.081690: I tensorflow/compiler/mlir/tensorflow/utils/dump_mlir_util.cc:268] disabling MLIR crash reproducer, set env var `MLIR_CRASH_REPRODUCER_DIRECTORY` to enable.\n",
      "2024-04-17 13:35:04.188029: I tensorflow/compiler/jit/xla_compilation_cache.cc:477] Compiled cluster using XLA!  This line is logged at most once for the lifetime of the process.\n"
     ]
    },
    {
     "name": "stdout",
     "output_type": "stream",
     "text": [
      "1054/1054 [==============================] - 13s 10ms/step - loss: 0.1229 - sparse_categorical_accuracy: 0.9555 - val_loss: 0.0194 - val_sparse_categorical_accuracy: 0.9910\n",
      "Epoch 2/5\n",
      "1054/1054 [==============================] - 10s 10ms/step - loss: 0.0225 - sparse_categorical_accuracy: 0.9926 - val_loss: 0.0147 - val_sparse_categorical_accuracy: 0.9948\n",
      "Epoch 3/5\n",
      "1054/1054 [==============================] - 10s 10ms/step - loss: 0.0152 - sparse_categorical_accuracy: 0.9943 - val_loss: 0.0073 - val_sparse_categorical_accuracy: 0.9981\n",
      "Epoch 4/5\n",
      "1054/1054 [==============================] - 10s 10ms/step - loss: 0.0095 - sparse_categorical_accuracy: 0.9969 - val_loss: 0.0084 - val_sparse_categorical_accuracy: 0.9967\n",
      "Epoch 5/5\n",
      "1054/1054 [==============================] - 10s 10ms/step - loss: 0.0111 - sparse_categorical_accuracy: 0.9962 - val_loss: 0.0078 - val_sparse_categorical_accuracy: 0.9981\n"
     ]
    }
   ],
   "source": [
    "model.compile(optimizer=tf.keras.optimizers.Adam(\n",
    "    learning_rate=client_lr), loss=tf.keras.losses.SparseCategoricalCrossentropy(),\n",
    "    metrics=[tf.keras.metrics.SparseCategoricalAccuracy()])\n",
    "start = time()\n",
    "\n",
    "history = model.fit(x_train, label_train, epochs=5, batch_size=BATCH_SIZE, shuffle=True,\n",
    "                    validation_data=(x_validate, label_validate))\n",
    "end = time() - start"
   ]
  },
  {
   "cell_type": "code",
   "execution_count": 35,
   "id": "1520241f5b85c32a",
   "metadata": {
    "ExecuteTime": {
     "end_time": "2024-04-16T09:51:06.240644Z",
     "start_time": "2024-04-16T09:51:06.224624Z"
    }
   },
   "outputs": [
    {
     "name": "stdout",
     "output_type": "stream",
     "text": [
      "Training time: 55.62347078323364 seconds\n"
     ]
    }
   ],
   "source": [
    "print(f'Training time: {end} seconds')"
   ]
  },
  {
   "cell_type": "markdown",
   "id": "1efd48fb0378069d",
   "metadata": {},
   "source": [
    "# Evaluate the model"
   ]
  },
  {
   "cell_type": "code",
   "execution_count": 36,
   "id": "7e3c2fa3b7374b61",
   "metadata": {
    "ExecuteTime": {
     "end_time": "2024-04-16T09:51:52.826558Z",
     "start_time": "2024-04-16T09:51:52.784120Z"
    }
   },
   "outputs": [],
   "source": [
    "best_model_accuracy = history.history['sparse_categorical_accuracy'][np.argmin(history.history['loss'])]"
   ]
  },
  {
   "cell_type": "code",
   "execution_count": 37,
   "id": "556672cbeeeaa9da",
   "metadata": {
    "ExecuteTime": {
     "end_time": "2024-04-16T09:54:32.191676Z",
     "start_time": "2024-04-16T09:54:29.820454Z"
    }
   },
   "outputs": [
    {
     "name": "stdout",
     "output_type": "stream",
     "text": [
      "330/330 - 1s - loss: 0.0103 - sparse_categorical_accuracy: 0.9966 - 894ms/epoch - 3ms/step\n"
     ]
    }
   ],
   "source": [
    "_, test_acc = model.evaluate(x_test, label_test, verbose=2, batch_size=BATCH_SIZE, use_multiprocessing=True)"
   ]
  },
  {
   "cell_type": "code",
   "execution_count": 38,
   "id": "13f98f3b",
   "metadata": {},
   "outputs": [
    {
     "data": {
      "text/plain": [
       "'100_100'"
      ]
     },
     "execution_count": 38,
     "metadata": {},
     "output_type": "execute_result"
    }
   ],
   "source": [
    "train_val = str(round(best_model_accuracy*100)) + \"_\" + str(round(test_acc*100))\n",
    "train_val"
   ]
  },
  {
   "cell_type": "code",
   "execution_count": 39,
   "id": "e036fc3d",
   "metadata": {},
   "outputs": [],
   "source": [
    "import os\n",
    "\n",
    "model_dir = this_dir / 'saved_models' / EXPERIMENT_NAME\n",
    "output_dir = this_dir / 'results' / EXPERIMENT_NAME\n",
    "\n",
    "if not os.path.exists(model_dir):\n",
    "    os.makedirs(model_dir)\n",
    "\n",
    "if not os.path.exists(output_dir):\n",
    "    os.makedirs(output_dir)"
   ]
  },
  {
   "cell_type": "code",
   "execution_count": 40,
   "id": "700afefd",
   "metadata": {},
   "outputs": [],
   "source": [
    "model.save(model_dir / 'model.h5')"
   ]
  },
  {
   "cell_type": "code",
   "execution_count": 41,
   "id": "4f8b09f5",
   "metadata": {},
   "outputs": [],
   "source": [
    "with open(output_dir / 'parameters.txt', 'w') as f:\n",
    "    print('client_lr: {}\\nEpochs: {}\\nBATCH_SIZE: {}'.format(\n",
    "        client_lr, NUM_ROUNDS, BATCH_SIZE), file=f)\n",
    "    f.close()"
   ]
  },
  {
   "cell_type": "code",
   "execution_count": 42,
   "id": "135804b7",
   "metadata": {},
   "outputs": [],
   "source": [
    "def sec_to_hours(seconds):\n",
    "    a = seconds//3600\n",
    "    b = (seconds % 3600)//60\n",
    "    c = (seconds % 3600) % 60\n",
    "    d = \"{:.0f} hours {:.0f} mins {:.0f} seconds\".format(a, b, c)\n",
    "    return d\n",
    "\n",
    "total_time = \"Time: {}\".format(sec_to_hours(end))\n",
    "\n",
    "text_file = open(output_dir / \"time.txt\", \"w\")\n",
    "n = text_file.write(total_time)\n",
    "text_file.close()"
   ]
  },
  {
   "cell_type": "code",
   "execution_count": 43,
   "id": "47498c23",
   "metadata": {},
   "outputs": [
    {
     "name": "stdout",
     "output_type": "stream",
     "text": [
      "330/330 - 1s - 758ms/epoch - 2ms/step\n"
     ]
    }
   ],
   "source": [
    "start = time()\n",
    "predictions = model.predict(\n",
    "    x_test, verbose=2, use_multiprocessing=True, batch_size=BATCH_SIZE)\n",
    "end = time() - start\n",
    "text_file = open(output_dir / \"time.txt\", \"a\")\n",
    "text_file.write(f'\\nPredict time: {sec_to_hours(end)}')\n",
    "text_file.close()"
   ]
  },
  {
   "cell_type": "code",
   "execution_count": 44,
   "id": "85053eb6",
   "metadata": {},
   "outputs": [],
   "source": [
    "flow_pred = np.argmax(predictions, axis=-1)"
   ]
  },
  {
   "cell_type": "code",
   "execution_count": 45,
   "id": "94d5d7ed",
   "metadata": {},
   "outputs": [],
   "source": [
    "from sklearn.metrics import ConfusionMatrixDisplay\n",
    "from sklearn.metrics import accuracy_score, precision_score, recall_score, f1_score\n",
    "from sklearn.metrics import classification_report\n",
    "\n",
    "# Class_mapping = {'FileTransfer': 0, 'Music': 1, 'VoIP': 2, 'youtube': 3}\n",
    "# Class_mapping = {'FileTransfer': 0, 'Music': 1, 'VoIP': 2, 'Youtube': 3, 'alibaba': 4, 'amazon': 5, 'docs': 6, 'drive': 7, 'ebay': 8, 'facebook': 9, 'photo': 10, 'shopee': 11, 'thegioididong': 12, 'tiki': 13, 'tiktok': 14, 'youtube': 15, 'youtubelive': 16}\n",
    "# Class_list = list(Class_mapping.keys())\n",
    "Class_list = ['Benign', 'DoH']\n",
    "\n",
    "with open(output_dir / 'metrics.txt', 'w') as f:\n",
    "    # importing accuracy_score, precision_score, recall_score, f1_score\n",
    "    print('\\nAccuracy: {:.2f}\\n'.format(\n",
    "        accuracy_score(label_test, flow_pred)), file=f)\n",
    "\n",
    "    print('Micro Precision: {:.2f}'.format(\n",
    "        precision_score(label_test, flow_pred, average='micro')), file=f)\n",
    "    print('Micro Recall: {:.2f}'.format(\n",
    "        recall_score(label_test, flow_pred, average='micro')), file=f)\n",
    "    print(\n",
    "        'Micro F1-score: {:.2f}\\n'.format(f1_score(label_test, flow_pred, average='micro')), file=f)\n",
    "\n",
    "    print('Macro Precision: {:.2f}'.format(\n",
    "        precision_score(label_test, flow_pred, average='macro')), file=f)\n",
    "    print('Macro Recall: {:.2f}'.format(\n",
    "        recall_score(label_test, flow_pred, average='macro')), file=f)\n",
    "    print(\n",
    "        'Macro F1-score: {:.2f}\\n'.format(f1_score(label_test, flow_pred, average='macro')), file=f)\n",
    "\n",
    "    print('Weighted Precision: {:.2f}'.format(\n",
    "        precision_score(label_test, flow_pred, average='weighted')), file=f)\n",
    "    print('Weighted Recall: {:.2f}'.format(\n",
    "        recall_score(label_test, flow_pred, average='weighted')), file=f)\n",
    "    print(\n",
    "        'Weighted F1-score: {:.2f}'.format(f1_score(label_test, flow_pred, average='weighted')), file=f)\n",
    "\n",
    "    print('\\nClassification Report\\n', file=f)\n",
    "    print(classification_report(label_test, flow_pred, target_names=Class_list), file=f)\n",
    "    f.close()\n"
   ]
  },
  {
   "cell_type": "code",
   "execution_count": 46,
   "id": "4b0e4a6b",
   "metadata": {},
   "outputs": [
    {
     "data": {
      "image/png": "[encoded data removed]",
      "text/plain": [
       "<Figure size 1000x1000 with 1 Axes>"
      ]
     },
     "metadata": {},
     "output_type": "display_data"
    }
   ],
   "source": [
    "import matplotlib.pyplot as plt\n",
    "\n",
    "fig, ax = plt.subplots(figsize=(10,10))\n",
    "ConfusionMatrixDisplay.from_predictions(label_test, flow_pred,display_labels=Class_list,xticks_rotation='vertical',ax=ax,colorbar=False)\n",
    "plt.savefig(output_dir / 'ConfusionMatrix.pdf',bbox_inches = \"tight\")"
   ]
  },
  {
   "cell_type": "code",
   "execution_count": 47,
   "id": "40bbe13c",
   "metadata": {},
   "outputs": [],
   "source": [
    "from matplotlib.ticker import PercentFormatter\n",
    "import matplotlib.pyplot as plt\n",
    "import seaborn as sns\n",
    "from sklearn.metrics import confusion_matrix\n",
    "\n",
    "def cm_analysis(y_true, y_pred, filename, labels, classes, ymap=None, figsize=(17,17)):\n",
    "    \"\"\"\n",
    "    Generate matrix plot of confusion matrix with pretty annotations.\n",
    "    The plot image is saved to disk.\n",
    "    args: \n",
    "      y_true:    true label of the data, with shape (nsamples,)\n",
    "      y_pred:    prediction of the data, with shape (nsamples,)\n",
    "      filename:  filename of figure file to save\n",
    "      labels:    string array, name the order of class labels in the confusion matrix.\n",
    "                 use `clf.classes_` if using scikit-learn models.\n",
    "                 with shape (nclass,).\n",
    "      classes:   aliases for the labels. String array to be shown in the cm plot.\n",
    "      ymap:      dict: any -> string, length == nclass.\n",
    "                 if not None, map the labels & ys to more understandable strings.\n",
    "                 Caution: original y_true, y_pred and labels must align.\n",
    "      figsize:   the size of the figure plotted.\n",
    "    \"\"\"\n",
    "    sns.set(font_scale=1)\n",
    "\n",
    "    if ymap is not None:\n",
    "        y_pred = [ymap[yi] for yi in y_pred]\n",
    "        y_true = [ymap[yi] for yi in y_true]\n",
    "        labels = [ymap[yi] for yi in labels]\n",
    "    cm = confusion_matrix(y_true, y_pred, labels=labels)\n",
    "    cm_sum = np.sum(cm, axis=1, keepdims=True)\n",
    "    cm_perc = cm / cm_sum.astype(float) * 100\n",
    "    annot = np.empty_like(cm).astype(str)\n",
    "    nrows, ncols = cm.shape\n",
    "    for i in range(nrows):\n",
    "        for j in range(ncols):\n",
    "            c = cm[i, j]\n",
    "            p = cm_perc[i, j]\n",
    "            if i == j:\n",
    "                s = cm_sum[i]\n",
    "                annot[i, j] = '%.2f%%\\n%d/%d' % (p, c, s)\n",
    "            #elif c == 0:\n",
    "            #    annot[i, j] = ''\n",
    "            else:\n",
    "                annot[i, j] = '%.2f%%\\n%d' % (p, c)\n",
    "    cm = confusion_matrix(y_true, y_pred, labels=labels, normalize='true')\n",
    "    cm = pd.DataFrame(cm, index=labels, columns=labels)\n",
    "    cm = cm * 100\n",
    "    cm.index.name = 'True Label'\n",
    "    cm.columns.name = 'Predicted Label'\n",
    "    fig, ax = plt.subplots(figsize=figsize)\n",
    "    plt.yticks(va='center')\n",
    "\n",
    "    sns.heatmap(cm, annot=annot, fmt='', ax=ax, xticklabels=classes, cbar=True, cbar_kws={'format':PercentFormatter()}, yticklabels=classes, cmap=\"Blues\")\n",
    "    plt.savefig(filename,  bbox_inches='tight')"
   ]
  },
  {
   "cell_type": "code",
   "execution_count": 48,
   "id": "284a479b",
   "metadata": {},
   "outputs": [
    {
     "data": {
      "image/png": "[encoded data removed]",
      "text/plain": [
       "<Figure size 1200x1000 with 2 Axes>"
      ]
     },
     "metadata": {},
     "output_type": "display_data"
    }
   ],
   "source": [
    "cm_analysis(y_true = label_test,y_pred = flow_pred,filename=output_dir / 'ConfusionMatrix_nom.pdf',labels=[0,1],classes=Class_list,figsize=(12,10))"
   ]
  },
  {
   "cell_type": "code",
   "execution_count": 49,
   "id": "5af49d41",
   "metadata": {},
   "outputs": [
    {
     "data": {
      "image/png": "[encoded data removed]",
      "text/plain": [
       "<Figure size 1000x600 with 1 Axes>"
      ]
     },
     "metadata": {},
     "output_type": "display_data"
    }
   ],
   "source": [
    "plt.figure(figsize=(10, 6))\n",
    "plt.plot(history.history['sparse_categorical_accuracy'], label='accuracy')\n",
    "plt.plot(\n",
    "    history.history['val_sparse_categorical_accuracy'], label='val_accuracy')\n",
    "plt.legend()\n",
    "plt.xlabel('Epoch')\n",
    "plt.ylabel('Accuracy')\n",
    "plt.ylim([0, 1])\n",
    "plt.savefig(output_dir / \"normal_model_Accuracy.pdf\")"
   ]
  },
  {
   "cell_type": "code",
   "execution_count": 50,
   "id": "4d574c91",
   "metadata": {},
   "outputs": [
    {
     "data": {
      "image/png": "[encoded data removed]",
      "text/plain": [
       "<Figure size 1000x600 with 1 Axes>"
      ]
     },
     "metadata": {},
     "output_type": "display_data"
    }
   ],
   "source": [
    "plt.figure(figsize=(10, 6))\n",
    "plt.plot(history.history['loss'], label='loss')\n",
    "plt.plot(history.history['val_loss'], label='val_loss')\n",
    "plt.xlabel('Epoch')\n",
    "plt.ylabel('Loss')\n",
    "plt.savefig(output_dir / \"normal_model_Loss.pdf\")\n"
   ]
  }
 ],
 "metadata": {
  "kernelspec": {
   "display_name": "Python 3",
   "language": "python",
   "name": "python3"
  },
  "language_info": {
   "codemirror_mode": {
    "name": "ipython",
    "version": 3
   },
   "file_extension": ".py",
   "mimetype": "text/x-python",
   "name": "python",
   "nbconvert_exporter": "python",
   "pygments_lexer": "ipython3",
   "version": "3.7.12"
  }
 },
 "nbformat": 4,
 "nbformat_minor": 5
}
