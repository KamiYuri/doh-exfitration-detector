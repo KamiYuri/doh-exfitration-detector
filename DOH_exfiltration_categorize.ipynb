{
 "cells": [
  {
   "cell_type": "code",
   "execution_count": 1,
   "id": "2c8532279be5d20f",
   "metadata": {
    "ExecuteTime": {
     "end_time": "2024-06-11T08:50:42.282612Z",
     "start_time": "2024-06-11T08:50:34.848149Z"
    }
   },
   "outputs": [
    {
     "name": "stderr",
     "output_type": "stream",
     "text": [
      "2024-06-18 18:48:50.544737: I external/local_tsl/tsl/cuda/cudart_stub.cc:32] Could not find cuda drivers on your machine, GPU will not be used.\n",
      "2024-06-18 18:48:50.548698: I external/local_tsl/tsl/cuda/cudart_stub.cc:32] Could not find cuda drivers on your machine, GPU will not be used.\n",
      "2024-06-18 18:48:50.602820: I tensorflow/core/platform/cpu_feature_guard.cc:210] This TensorFlow binary is optimized to use available CPU instructions in performance-critical operations.\n",
      "To enable the following instructions: AVX2 FMA, in other operations, rebuild TensorFlow with the appropriate compiler flags.\n",
      "2024-06-18 18:48:51.786806: W tensorflow/compiler/tf2tensorrt/utils/py_utils.cc:38] TF-TRT Warning: Could not find TensorRT\n"
     ]
    },
    {
     "data": {
      "text/plain": [
       "0"
      ]
     },
     "execution_count": 1,
     "metadata": {},
     "output_type": "execute_result"
    }
   ],
   "source": [
    "from time import time\n",
    "from enum import Enum\n",
    "\n",
    "import nest_asyncio\n",
    "import pandas as pd\n",
    "import numpy as np\n",
    "import tensorflow as tf\n",
    "from pathlib import Path\n",
    "\n",
    "nest_asyncio.apply()\n",
    "SEED = 1337\n",
    "tf.random.set_seed(SEED)\n",
    "import gc\n",
    "\n",
    "gc.collect()\n"
   ]
  },
  {
   "cell_type": "code",
   "execution_count": 2,
   "id": "3faf91d5820d8813",
   "metadata": {
    "ExecuteTime": {
     "end_time": "2024-06-11T08:50:42.288332Z",
     "start_time": "2024-06-11T08:50:42.284376Z"
    }
   },
   "outputs": [
    {
     "name": "stdout",
     "output_type": "stream",
     "text": [
      "/home/bkcs/Documents/doh/doh-exfiltration-detector\n",
      "Number of features:  512 , Number of classes:  4 , Number of packets per flow:  15\n"
     ]
    }
   ],
   "source": [
    "\n",
    "this_dir = Path.cwd()\n",
    "print(this_dir)\n",
    "\n",
    "# NUM_FEATURE = len(data_test_without_flow.columns) - 1\n",
    "NUM_FEATURE = 512\n",
    "NUM_PACKETS_PER_FLOW = 20\n",
    "EPOCHS = 10\n",
    "NUM_CLASSES = 4\n",
    "\n",
    "EXPERIMENT_NAME = f\"FINAL_DED-{NUM_PACKETS_PER_FLOW}-{NUM_FEATURE}\"\n",
    "\n",
    "print('Number of features: ', NUM_FEATURE, ', Number of classes: ', NUM_CLASSES, ', Number of packets per flow: ',\n",
    "      NUM_PACKETS_PER_FLOW)"
   ]
  },
  {
   "cell_type": "markdown",
   "id": "63f886de72dc4c5f",
   "metadata": {},
   "source": [
    "# Load data"
   ]
  },
  {
   "cell_type": "code",
   "execution_count": null,
   "id": "5d0ec51d",
   "metadata": {},
   "outputs": [
    {
     "name": "stdout",
     "output_type": "stream",
     "text": [
      "benign_data: 291 , dnscat2_data: 291 , dns2tcp_data: 291 , iodine_data: 291\n"
     ]
    }
   ],
   "source": [
    "\n",
    "data_dir = this_dir / \"dataset\" \n",
    "\n",
    "class Label(Enum):\n",
    "    BENIGN = 0\n",
    "    DNSCAT2 = 1\n",
    "    DNS2TCP = 2\n",
    "    IODINE = 3\n",
    "\n",
    "\n",
    "benign_path = data_dir / \"csv\" / \"benign_reduce.csv\"\n",
    "benign_flows = 20000\n",
    "dnscat2_path = data_dir / \"csv\" / \"dnscat2_reduce.csv\"\n",
    "dnscat2_flows = 10000\n",
    "dns2tcp_path = data_dir / \"csv\" / \"dns2tcp_reduce.csv\"\n",
    "dns2tcp_flows = 30000\n",
    "iodine_path = data_dir / \"csv\" / \"iodine_reduce.csv\"\n",
    "iodine_flows = 12000\n",
    "\n",
    "tung_iodine_data = pd.read_csv(data_dir / \"new\" / \"iodine.csv\")\n",
    "tung_iodine_data['label'] = Label.IODINE.value\n",
    "tung_dnscat2_data = pd.read_csv(data_dir / \"new\" / \"dnscat2.csv\")\n",
    "tung_dnscat2_data['label'] = Label.DNSCAT2.value\n",
    "\n",
    "\n",
    "def nrows(flow_number):\n",
    "    return flow_number * NUM_PACKETS_PER_FLOW\n",
    "\n",
    "\n",
    "benign_data = pd.read_csv(benign_path, nrows=nrows(benign_flows))\n",
    "benign_data['label'] = Label.BENIGN.value\n",
    "dnscat2_data = pd.read_csv(dns2tcp_path, nrows=nrows(dnscat2_flows))\n",
    "dnscat2_data['label'] = Label.DNSCAT2.value\n",
    "dns2tcp_data = pd.read_csv(dns2tcp_path, nrows=nrows(dns2tcp_flows))\n",
    "dns2tcp_data['label'] = Label.DNS2TCP.value\n",
    "iodine_data = pd.read_csv(iodine_path, nrows=nrows(iodine_flows))\n",
    "iodine_data['label'] = Label.IODINE.value\n",
    "\n",
    "\n",
    "iodine_data = pd.concat([iodine_data, tung_iodine_data])\n",
    "dnscat2_data = pd.concat([dnscat2_data, tung_dnscat2_data])\n",
    "\n",
    "print('benign_data: ' + str(benign_data.groupby('flow_id').size().count()),\n",
    "      ', dnscat2_data: ' + str(dnscat2_data.groupby('flow_id').size().count()),\n",
    "      ', dns2tcp_data: ' + str(dns2tcp_data.groupby('flow_id').size().count()),\n",
    "      ', iodine_data: ' + str(iodine_data.groupby('flow_id').size().count()))"
   ]
  },
  {
   "cell_type": "markdown",
   "id": "85dd10fa8cab22c8",
   "metadata": {},
   "source": [
    "# Split data into train, validate and test"
   ]
  },
  {
   "cell_type": "code",
   "execution_count": 5,
   "id": "33dd93130ecc29d5",
   "metadata": {
    "ExecuteTime": {
     "end_time": "2024-06-11T08:50:43.628978Z",
     "start_time": "2024-06-11T08:50:43.468547Z"
    }
   },
   "outputs": [],
   "source": [
    "from sklearn.model_selection import GroupShuffleSplit\n",
    "\n",
    "\n",
    "def split(dataset: pd.DataFrame, split_ratio: float = 0.8) -> tuple[pd.DataFrame, pd.DataFrame]:\n",
    "    \"\"\"\n",
    "    Split a dataset into a training and test dataset.\n",
    "    :param dataset: The dataset to split.\n",
    "    :param split_ratio: The ratio of the split.\n",
    "    :return: A tuple containing the training and test datasets.\n",
    "    \"\"\"\n",
    "    first_inds, next_inds = next(\n",
    "        GroupShuffleSplit(train_size=split_ratio, n_splits=2, random_state=42).split(dataset,\n",
    "                                                                                     groups=dataset['flow_id']))\n",
    "\n",
    "    return dataset.iloc[first_inds], dataset.iloc[next_inds]"
   ]
  },
  {
   "cell_type": "code",
   "execution_count": null,
   "id": "a8764013b3a47b3f",
   "metadata": {
    "ExecuteTime": {
     "end_time": "2024-06-11T08:50:43.736515Z",
     "start_time": "2024-06-11T08:50:43.650382Z"
    }
   },
   "outputs": [],
   "source": [
    "# Split benign data into train, validate and test\n",
    "train_benign, test_benign = split(benign_data, 0.8)\n",
    "train_benign, validate_benign = split(train_benign, 0.8)"
   ]
  },
  {
   "cell_type": "code",
   "execution_count": 8,
   "id": "edb86945",
   "metadata": {},
   "outputs": [
    {
     "data": {
      "text/plain": [
       "0"
      ]
     },
     "execution_count": 8,
     "metadata": {},
     "output_type": "execute_result"
    }
   ],
   "source": [
    "del benign_data\n",
    "gc.collect()"
   ]
  },
  {
   "cell_type": "code",
   "execution_count": null,
   "id": "c59ea3e8c72eb069",
   "metadata": {
    "ExecuteTime": {
     "end_time": "2024-06-11T08:50:43.780491Z",
     "start_time": "2024-06-11T08:50:43.743066Z"
    }
   },
   "outputs": [],
   "source": [
    "train_dnscat2, test_dnscat2 = split(dnscat2_data, 0.8)\n",
    "train_dnscat2, validate_dnscat2 = split(train_dnscat2, 0.8)"
   ]
  },
  {
   "cell_type": "code",
   "execution_count": 11,
   "id": "ccd4812f",
   "metadata": {},
   "outputs": [
    {
     "data": {
      "text/plain": [
       "0"
      ]
     },
     "execution_count": 11,
     "metadata": {},
     "output_type": "execute_result"
    }
   ],
   "source": [
    "del dnscat2_data\n",
    "gc.collect()"
   ]
  },
  {
   "cell_type": "code",
   "execution_count": 12,
   "id": "e313dc3ad9770f36",
   "metadata": {
    "ExecuteTime": {
     "end_time": "2024-06-11T08:50:43.833962Z",
     "start_time": "2024-06-11T08:50:43.782196Z"
    }
   },
   "outputs": [],
   "source": [
    "# Split dns2tcp data into train, validate and test\n",
    "train_dns2tcp, test_dns2tcp = split(dns2tcp_data, 0.8)\n",
    "train_dns2tcp, validate_dns2tcp = split(train_dns2tcp, 0.8)"
   ]
  },
  {
   "cell_type": "code",
   "execution_count": 13,
   "id": "1a82fa8f",
   "metadata": {},
   "outputs": [
    {
     "data": {
      "text/plain": [
       "0"
      ]
     },
     "execution_count": 13,
     "metadata": {},
     "output_type": "execute_result"
    }
   ],
   "source": [
    "del dns2tcp_data\n",
    "gc.collect()"
   ]
  },
  {
   "cell_type": "code",
   "execution_count": 14,
   "id": "58f4cfd43fdcb48d",
   "metadata": {
    "ExecuteTime": {
     "end_time": "2024-06-11T08:50:43.875824Z",
     "start_time": "2024-06-11T08:50:43.837563Z"
    }
   },
   "outputs": [],
   "source": [
    "# Split iodine data into train, validate and test\n",
    "train_iodine, test_iodine = split(iodine_data, 0.8)\n",
    "train_iodine, validate_iodine = split(train_iodine, 0.8)"
   ]
  },
  {
   "cell_type": "code",
   "execution_count": 15,
   "id": "ca996005",
   "metadata": {},
   "outputs": [
    {
     "data": {
      "text/plain": [
       "0"
      ]
     },
     "execution_count": 15,
     "metadata": {},
     "output_type": "execute_result"
    }
   ],
   "source": [
    "del iodine_data\n",
    "gc.collect()"
   ]
  },
  {
   "cell_type": "markdown",
   "id": "be94895e7fcd0691",
   "metadata": {},
   "source": [
    "# Merge data"
   ]
  },
  {
   "cell_type": "code",
   "execution_count": null,
   "id": "ed9ae9d9daa1eef4",
   "metadata": {
    "ExecuteTime": {
     "end_time": "2024-06-11T08:50:43.979076Z",
     "start_time": "2024-06-11T08:50:43.935509Z"
    }
   },
   "outputs": [],
   "source": [
    "data_train = pd.concat([train_benign, train_dnscat2, train_dns2tcp, train_iodine], ignore_index=True, sort=False,\n",
    "                       axis=0)\n",
    "data_validate = pd.concat([validate_benign, validate_dnscat2, validate_dns2tcp, validate_iodine], ignore_index=True,\n",
    "                          sort=False, axis=0)\n",
    "data_test = pd.concat([test_benign, test_dnscat2, test_dns2tcp, test_iodine], ignore_index=True, sort=False, axis=0)"
   ]
  },
  {
   "cell_type": "markdown",
   "id": "8fa702ea31eddceb",
   "metadata": {},
   "source": [
    "# Get label"
   ]
  },
  {
   "cell_type": "code",
   "execution_count": 19,
   "id": "e4b10a58665255bc",
   "metadata": {
    "ExecuteTime": {
     "end_time": "2024-06-11T08:50:43.983766Z",
     "start_time": "2024-06-11T08:50:43.980435Z"
    }
   },
   "outputs": [],
   "source": [
    "def most_frequent(flow):\n",
    "    return max(set(flow), key=flow.count)"
   ]
  },
  {
   "cell_type": "code",
   "execution_count": 20,
   "id": "3e683967aad8bca5",
   "metadata": {
    "ExecuteTime": {
     "end_time": "2024-06-11T08:50:43.989266Z",
     "start_time": "2024-06-11T08:50:43.985423Z"
    }
   },
   "outputs": [],
   "source": [
    "def get_label(data):\n",
    "    grouped = data.groupby('flow_id')['label'].apply(list).to_dict()\n",
    "\n",
    "    label = []\n",
    "    for flow in grouped:\n",
    "        label.append(most_frequent(grouped[flow]))\n",
    "\n",
    "    return np.array(label)"
   ]
  },
  {
   "cell_type": "code",
   "execution_count": 21,
   "id": "b196b19444d13c79",
   "metadata": {
    "ExecuteTime": {
     "end_time": "2024-06-11T08:50:44.161285Z",
     "start_time": "2024-06-11T08:50:43.990878Z"
    }
   },
   "outputs": [
    {
     "name": "stdout",
     "output_type": "stream",
     "text": [
      "Label train:  740 , Label validate:  188 , Label test:  236\n"
     ]
    }
   ],
   "source": [
    "label_train = np.array(get_label(data_train))\n",
    "label_validate = np.array(get_label(data_validate))\n",
    "label_test = np.array(get_label(data_test))\n",
    "\n",
    "print('Label train: ', len(label_train), ', Label validate: ', len(label_validate), ', Label test: ', len(label_test))"
   ]
  },
  {
   "cell_type": "code",
   "execution_count": 22,
   "id": "1a146a34",
   "metadata": {},
   "outputs": [],
   "source": [
    "# Drop number of rows per flow to NUM_PACKETS_PER_FLOW\n",
    "def drop_rows(data):\n",
    "    return data.groupby('flow_id').head(NUM_PACKETS_PER_FLOW)\n",
    "\n",
    "data_train = drop_rows(data_train)\n",
    "data_validate = drop_rows(data_validate)\n",
    "data_test = drop_rows(data_test)"
   ]
  },
  {
   "cell_type": "code",
   "execution_count": 23,
   "id": "61fc0dbd455de603",
   "metadata": {
    "ExecuteTime": {
     "end_time": "2024-06-11T08:50:44.198641Z",
     "start_time": "2024-06-11T08:50:44.162764Z"
    }
   },
   "outputs": [],
   "source": [
    "data_train_without_flow = data_train.drop('flow_id', axis=1)\n",
    "data_validate_without_flow = data_validate.drop('flow_id', axis=1)\n",
    "data_test_without_flow = data_test.drop('flow_id', axis=1)"
   ]
  },
  {
   "cell_type": "code",
   "execution_count": 24,
   "id": "a4457c75db77cd92",
   "metadata": {
    "ExecuteTime": {
     "end_time": "2024-06-11T08:50:44.335290Z",
     "start_time": "2024-06-11T08:50:44.207802Z"
    }
   },
   "outputs": [
    {
     "name": "stdout",
     "output_type": "stream",
     "text": [
      "x_train shape:  (740, 15, 512) , x_validate shape:  (188, 15, 512, 1) , x_test shape:  (236, 15, 512, 1)\n"
     ]
    }
   ],
   "source": [
    "x_train = np.array(\n",
    "    (data_train_without_flow.drop('label', axis=1).iloc[:, :NUM_FEATURE].to_numpy() / 255).reshape(-1, NUM_PACKETS_PER_FLOW, NUM_FEATURE))\n",
    "x_validate = np.expand_dims(\n",
    "    (data_validate_without_flow.drop('label', axis=1).iloc[:, :NUM_FEATURE].to_numpy() / 255).reshape(-1, NUM_PACKETS_PER_FLOW, NUM_FEATURE),\n",
    "    axis=-1)\n",
    "x_test = np.expand_dims(\n",
    "    (data_test_without_flow.drop('label', axis=1).iloc[:, :NUM_FEATURE].to_numpy() / 255).reshape(-1, NUM_PACKETS_PER_FLOW, NUM_FEATURE),\n",
    "    axis=-1)\n",
    "\n",
    "print('x_train shape: ', x_train.shape, ', x_validate shape: ', x_validate.shape, ', x_test shape: ', x_test.shape)"
   ]
  },
  {
   "cell_type": "code",
   "execution_count": 25,
   "id": "a154483f",
   "metadata": {},
   "outputs": [
    {
     "data": {
      "text/plain": [
       "0"
      ]
     },
     "execution_count": 25,
     "metadata": {},
     "output_type": "execute_result"
    }
   ],
   "source": [
    "del data_train_without_flow, data_validate_without_flow, data_test_without_flow\n",
    "gc.collect()"
   ]
  },
  {
   "cell_type": "markdown",
   "id": "3f457492cec3996e",
   "metadata": {},
   "source": [
    "# Model training"
   ]
  },
  {
   "cell_type": "code",
   "execution_count": 26,
   "id": "f630a008b393c78b",
   "metadata": {
    "ExecuteTime": {
     "end_time": "2024-06-11T08:50:44.343235Z",
     "start_time": "2024-06-11T08:50:44.336472Z"
    }
   },
   "outputs": [],
   "source": [
    "from keras.layers import Flatten, Dense, Dropout, Conv2D, MaxPool2D, AvgPool2D\n",
    "from keras.models import Sequential\n",
    "\n",
    "\n",
    "def create_keras_model(num_packet_per_flow, num_features, num_classes):\n",
    "    model = Sequential()\n",
    "\n",
    "    model.add(Conv2D(filters=32, kernel_size=(5, 5), padding='Same',\n",
    "                     activation='relu', input_shape=(num_packet_per_flow, num_features, 1)))\n",
    "    model.add(Conv2D(filters=32, kernel_size=(5, 5), padding='Same',\n",
    "                     activation='relu'))\n",
    "    model.add(AvgPool2D(pool_size=(2, 2)))\n",
    "    model.add(Dropout(0.25))\n",
    "\n",
    "    model.add(Conv2D(filters=64, kernel_size=(3, 3), padding='Same',\n",
    "                     activation='relu'))\n",
    "    model.add(Conv2D(filters=64, kernel_size=(3, 3), padding='Same',\n",
    "                     activation='relu'))\n",
    "    model.add(AvgPool2D(pool_size=(2, 2), strides=(2, 2)))\n",
    "    model.add(Dropout(0.25))\n",
    "    model.add(Flatten())\n",
    "    model.add(Dense(256, activation=\"relu\"))\n",
    "    model.add(Dropout(0.5))\n",
    "    model.add(Dense(num_classes, activation=\"softmax\"))\n",
    "    return model"
   ]
  },
  {
   "cell_type": "code",
   "execution_count": 27,
   "id": "fde12118b8a6f73c",
   "metadata": {
    "ExecuteTime": {
     "end_time": "2024-06-11T08:50:44.582978Z",
     "start_time": "2024-06-11T08:50:44.344886Z"
    }
   },
   "outputs": [
    {
     "name": "stderr",
     "output_type": "stream",
     "text": [
      "/home/bkcs/Documents/doh/doh-exfiltration-detector/.venv/lib/python3.9/site-packages/keras/src/layers/convolutional/base_conv.py:99: UserWarning: Do not pass an `input_shape`/`input_dim` argument to a layer. When using Sequential models, prefer using an `Input(shape)` object as the first layer in the model instead.\n",
      "  super().__init__(\n"
     ]
    },
    {
     "data": {
      "text/html": [
       "<pre style=\"white-space:pre;overflow-x:auto;line-height:normal;font-family:Menlo,'DejaVu Sans Mono',consolas,'Courier New',monospace\"><span style=\"font-weight: bold\">Model: \"sequential\"</span>\n",
       "</pre>\n"
      ],
      "text/plain": [
       "\u001b[1mModel: \"sequential\"\u001b[0m\n"
      ]
     },
     "metadata": {},
     "output_type": "display_data"
    },
    {
     "data": {
      "text/html": [
       "<pre style=\"white-space:pre;overflow-x:auto;line-height:normal;font-family:Menlo,'DejaVu Sans Mono',consolas,'Courier New',monospace\">┏━━━━━━━━━━━━━━━━━━━━━━━━━━━━━━━━━┳━━━━━━━━━━━━━━━━━━━━━━━━┳━━━━━━━━━━━━━━━┓\n",
       "┃<span style=\"font-weight: bold\"> Layer (type)                    </span>┃<span style=\"font-weight: bold\"> Output Shape           </span>┃<span style=\"font-weight: bold\">       Param # </span>┃\n",
       "┡━━━━━━━━━━━━━━━━━━━━━━━━━━━━━━━━━╇━━━━━━━━━━━━━━━━━━━━━━━━╇━━━━━━━━━━━━━━━┩\n",
       "│ conv2d (<span style=\"color: #0087ff; text-decoration-color: #0087ff\">Conv2D</span>)                 │ (<span style=\"color: #00d7ff; text-decoration-color: #00d7ff\">None</span>, <span style=\"color: #00af00; text-decoration-color: #00af00\">15</span>, <span style=\"color: #00af00; text-decoration-color: #00af00\">512</span>, <span style=\"color: #00af00; text-decoration-color: #00af00\">32</span>)    │           <span style=\"color: #00af00; text-decoration-color: #00af00\">832</span> │\n",
       "├─────────────────────────────────┼────────────────────────┼───────────────┤\n",
       "│ conv2d_1 (<span style=\"color: #0087ff; text-decoration-color: #0087ff\">Conv2D</span>)               │ (<span style=\"color: #00d7ff; text-decoration-color: #00d7ff\">None</span>, <span style=\"color: #00af00; text-decoration-color: #00af00\">15</span>, <span style=\"color: #00af00; text-decoration-color: #00af00\">512</span>, <span style=\"color: #00af00; text-decoration-color: #00af00\">32</span>)    │        <span style=\"color: #00af00; text-decoration-color: #00af00\">25,632</span> │\n",
       "├─────────────────────────────────┼────────────────────────┼───────────────┤\n",
       "│ max_pooling2d (<span style=\"color: #0087ff; text-decoration-color: #0087ff\">MaxPooling2D</span>)    │ (<span style=\"color: #00d7ff; text-decoration-color: #00d7ff\">None</span>, <span style=\"color: #00af00; text-decoration-color: #00af00\">7</span>, <span style=\"color: #00af00; text-decoration-color: #00af00\">256</span>, <span style=\"color: #00af00; text-decoration-color: #00af00\">32</span>)     │             <span style=\"color: #00af00; text-decoration-color: #00af00\">0</span> │\n",
       "├─────────────────────────────────┼────────────────────────┼───────────────┤\n",
       "│ dropout (<span style=\"color: #0087ff; text-decoration-color: #0087ff\">Dropout</span>)               │ (<span style=\"color: #00d7ff; text-decoration-color: #00d7ff\">None</span>, <span style=\"color: #00af00; text-decoration-color: #00af00\">7</span>, <span style=\"color: #00af00; text-decoration-color: #00af00\">256</span>, <span style=\"color: #00af00; text-decoration-color: #00af00\">32</span>)     │             <span style=\"color: #00af00; text-decoration-color: #00af00\">0</span> │\n",
       "├─────────────────────────────────┼────────────────────────┼───────────────┤\n",
       "│ conv2d_2 (<span style=\"color: #0087ff; text-decoration-color: #0087ff\">Conv2D</span>)               │ (<span style=\"color: #00d7ff; text-decoration-color: #00d7ff\">None</span>, <span style=\"color: #00af00; text-decoration-color: #00af00\">7</span>, <span style=\"color: #00af00; text-decoration-color: #00af00\">256</span>, <span style=\"color: #00af00; text-decoration-color: #00af00\">64</span>)     │        <span style=\"color: #00af00; text-decoration-color: #00af00\">18,496</span> │\n",
       "├─────────────────────────────────┼────────────────────────┼───────────────┤\n",
       "│ conv2d_3 (<span style=\"color: #0087ff; text-decoration-color: #0087ff\">Conv2D</span>)               │ (<span style=\"color: #00d7ff; text-decoration-color: #00d7ff\">None</span>, <span style=\"color: #00af00; text-decoration-color: #00af00\">7</span>, <span style=\"color: #00af00; text-decoration-color: #00af00\">256</span>, <span style=\"color: #00af00; text-decoration-color: #00af00\">64</span>)     │        <span style=\"color: #00af00; text-decoration-color: #00af00\">36,928</span> │\n",
       "├─────────────────────────────────┼────────────────────────┼───────────────┤\n",
       "│ max_pooling2d_1 (<span style=\"color: #0087ff; text-decoration-color: #0087ff\">MaxPooling2D</span>)  │ (<span style=\"color: #00d7ff; text-decoration-color: #00d7ff\">None</span>, <span style=\"color: #00af00; text-decoration-color: #00af00\">3</span>, <span style=\"color: #00af00; text-decoration-color: #00af00\">128</span>, <span style=\"color: #00af00; text-decoration-color: #00af00\">64</span>)     │             <span style=\"color: #00af00; text-decoration-color: #00af00\">0</span> │\n",
       "├─────────────────────────────────┼────────────────────────┼───────────────┤\n",
       "│ dropout_1 (<span style=\"color: #0087ff; text-decoration-color: #0087ff\">Dropout</span>)             │ (<span style=\"color: #00d7ff; text-decoration-color: #00d7ff\">None</span>, <span style=\"color: #00af00; text-decoration-color: #00af00\">3</span>, <span style=\"color: #00af00; text-decoration-color: #00af00\">128</span>, <span style=\"color: #00af00; text-decoration-color: #00af00\">64</span>)     │             <span style=\"color: #00af00; text-decoration-color: #00af00\">0</span> │\n",
       "├─────────────────────────────────┼────────────────────────┼───────────────┤\n",
       "│ flatten (<span style=\"color: #0087ff; text-decoration-color: #0087ff\">Flatten</span>)               │ (<span style=\"color: #00d7ff; text-decoration-color: #00d7ff\">None</span>, <span style=\"color: #00af00; text-decoration-color: #00af00\">24576</span>)          │             <span style=\"color: #00af00; text-decoration-color: #00af00\">0</span> │\n",
       "├─────────────────────────────────┼────────────────────────┼───────────────┤\n",
       "│ dense (<span style=\"color: #0087ff; text-decoration-color: #0087ff\">Dense</span>)                   │ (<span style=\"color: #00d7ff; text-decoration-color: #00d7ff\">None</span>, <span style=\"color: #00af00; text-decoration-color: #00af00\">256</span>)            │     <span style=\"color: #00af00; text-decoration-color: #00af00\">6,291,712</span> │\n",
       "├─────────────────────────────────┼────────────────────────┼───────────────┤\n",
       "│ dropout_2 (<span style=\"color: #0087ff; text-decoration-color: #0087ff\">Dropout</span>)             │ (<span style=\"color: #00d7ff; text-decoration-color: #00d7ff\">None</span>, <span style=\"color: #00af00; text-decoration-color: #00af00\">256</span>)            │             <span style=\"color: #00af00; text-decoration-color: #00af00\">0</span> │\n",
       "├─────────────────────────────────┼────────────────────────┼───────────────┤\n",
       "│ dense_1 (<span style=\"color: #0087ff; text-decoration-color: #0087ff\">Dense</span>)                 │ (<span style=\"color: #00d7ff; text-decoration-color: #00d7ff\">None</span>, <span style=\"color: #00af00; text-decoration-color: #00af00\">4</span>)              │         <span style=\"color: #00af00; text-decoration-color: #00af00\">1,028</span> │\n",
       "└─────────────────────────────────┴────────────────────────┴───────────────┘\n",
       "</pre>\n"
      ],
      "text/plain": [
       "┏━━━━━━━━━━━━━━━━━━━━━━━━━━━━━━━━━┳━━━━━━━━━━━━━━━━━━━━━━━━┳━━━━━━━━━━━━━━━┓\n",
       "┃\u001b[1m \u001b[0m\u001b[1mLayer (type)                   \u001b[0m\u001b[1m \u001b[0m┃\u001b[1m \u001b[0m\u001b[1mOutput Shape          \u001b[0m\u001b[1m \u001b[0m┃\u001b[1m \u001b[0m\u001b[1m      Param #\u001b[0m\u001b[1m \u001b[0m┃\n",
       "┡━━━━━━━━━━━━━━━━━━━━━━━━━━━━━━━━━╇━━━━━━━━━━━━━━━━━━━━━━━━╇━━━━━━━━━━━━━━━┩\n",
       "│ conv2d (\u001b[38;5;33mConv2D\u001b[0m)                 │ (\u001b[38;5;45mNone\u001b[0m, \u001b[38;5;34m15\u001b[0m, \u001b[38;5;34m512\u001b[0m, \u001b[38;5;34m32\u001b[0m)    │           \u001b[38;5;34m832\u001b[0m │\n",
       "├─────────────────────────────────┼────────────────────────┼───────────────┤\n",
       "│ conv2d_1 (\u001b[38;5;33mConv2D\u001b[0m)               │ (\u001b[38;5;45mNone\u001b[0m, \u001b[38;5;34m15\u001b[0m, \u001b[38;5;34m512\u001b[0m, \u001b[38;5;34m32\u001b[0m)    │        \u001b[38;5;34m25,632\u001b[0m │\n",
       "├─────────────────────────────────┼────────────────────────┼───────────────┤\n",
       "│ max_pooling2d (\u001b[38;5;33mMaxPooling2D\u001b[0m)    │ (\u001b[38;5;45mNone\u001b[0m, \u001b[38;5;34m7\u001b[0m, \u001b[38;5;34m256\u001b[0m, \u001b[38;5;34m32\u001b[0m)     │             \u001b[38;5;34m0\u001b[0m │\n",
       "├─────────────────────────────────┼────────────────────────┼───────────────┤\n",
       "│ dropout (\u001b[38;5;33mDropout\u001b[0m)               │ (\u001b[38;5;45mNone\u001b[0m, \u001b[38;5;34m7\u001b[0m, \u001b[38;5;34m256\u001b[0m, \u001b[38;5;34m32\u001b[0m)     │             \u001b[38;5;34m0\u001b[0m │\n",
       "├─────────────────────────────────┼────────────────────────┼───────────────┤\n",
       "│ conv2d_2 (\u001b[38;5;33mConv2D\u001b[0m)               │ (\u001b[38;5;45mNone\u001b[0m, \u001b[38;5;34m7\u001b[0m, \u001b[38;5;34m256\u001b[0m, \u001b[38;5;34m64\u001b[0m)     │        \u001b[38;5;34m18,496\u001b[0m │\n",
       "├─────────────────────────────────┼────────────────────────┼───────────────┤\n",
       "│ conv2d_3 (\u001b[38;5;33mConv2D\u001b[0m)               │ (\u001b[38;5;45mNone\u001b[0m, \u001b[38;5;34m7\u001b[0m, \u001b[38;5;34m256\u001b[0m, \u001b[38;5;34m64\u001b[0m)     │        \u001b[38;5;34m36,928\u001b[0m │\n",
       "├─────────────────────────────────┼────────────────────────┼───────────────┤\n",
       "│ max_pooling2d_1 (\u001b[38;5;33mMaxPooling2D\u001b[0m)  │ (\u001b[38;5;45mNone\u001b[0m, \u001b[38;5;34m3\u001b[0m, \u001b[38;5;34m128\u001b[0m, \u001b[38;5;34m64\u001b[0m)     │             \u001b[38;5;34m0\u001b[0m │\n",
       "├─────────────────────────────────┼────────────────────────┼───────────────┤\n",
       "│ dropout_1 (\u001b[38;5;33mDropout\u001b[0m)             │ (\u001b[38;5;45mNone\u001b[0m, \u001b[38;5;34m3\u001b[0m, \u001b[38;5;34m128\u001b[0m, \u001b[38;5;34m64\u001b[0m)     │             \u001b[38;5;34m0\u001b[0m │\n",
       "├─────────────────────────────────┼────────────────────────┼───────────────┤\n",
       "│ flatten (\u001b[38;5;33mFlatten\u001b[0m)               │ (\u001b[38;5;45mNone\u001b[0m, \u001b[38;5;34m24576\u001b[0m)          │             \u001b[38;5;34m0\u001b[0m │\n",
       "├─────────────────────────────────┼────────────────────────┼───────────────┤\n",
       "│ dense (\u001b[38;5;33mDense\u001b[0m)                   │ (\u001b[38;5;45mNone\u001b[0m, \u001b[38;5;34m256\u001b[0m)            │     \u001b[38;5;34m6,291,712\u001b[0m │\n",
       "├─────────────────────────────────┼────────────────────────┼───────────────┤\n",
       "│ dropout_2 (\u001b[38;5;33mDropout\u001b[0m)             │ (\u001b[38;5;45mNone\u001b[0m, \u001b[38;5;34m256\u001b[0m)            │             \u001b[38;5;34m0\u001b[0m │\n",
       "├─────────────────────────────────┼────────────────────────┼───────────────┤\n",
       "│ dense_1 (\u001b[38;5;33mDense\u001b[0m)                 │ (\u001b[38;5;45mNone\u001b[0m, \u001b[38;5;34m4\u001b[0m)              │         \u001b[38;5;34m1,028\u001b[0m │\n",
       "└─────────────────────────────────┴────────────────────────┴───────────────┘\n"
      ]
     },
     "metadata": {},
     "output_type": "display_data"
    },
    {
     "data": {
      "text/html": [
       "<pre style=\"white-space:pre;overflow-x:auto;line-height:normal;font-family:Menlo,'DejaVu Sans Mono',consolas,'Courier New',monospace\"><span style=\"font-weight: bold\"> Total params: </span><span style=\"color: #00af00; text-decoration-color: #00af00\">6,374,628</span> (24.32 MB)\n",
       "</pre>\n"
      ],
      "text/plain": [
       "\u001b[1m Total params: \u001b[0m\u001b[38;5;34m6,374,628\u001b[0m (24.32 MB)\n"
      ]
     },
     "metadata": {},
     "output_type": "display_data"
    },
    {
     "data": {
      "text/html": [
       "<pre style=\"white-space:pre;overflow-x:auto;line-height:normal;font-family:Menlo,'DejaVu Sans Mono',consolas,'Courier New',monospace\"><span style=\"font-weight: bold\"> Trainable params: </span><span style=\"color: #00af00; text-decoration-color: #00af00\">6,374,628</span> (24.32 MB)\n",
       "</pre>\n"
      ],
      "text/plain": [
       "\u001b[1m Trainable params: \u001b[0m\u001b[38;5;34m6,374,628\u001b[0m (24.32 MB)\n"
      ]
     },
     "metadata": {},
     "output_type": "display_data"
    },
    {
     "data": {
      "text/html": [
       "<pre style=\"white-space:pre;overflow-x:auto;line-height:normal;font-family:Menlo,'DejaVu Sans Mono',consolas,'Courier New',monospace\"><span style=\"font-weight: bold\"> Non-trainable params: </span><span style=\"color: #00af00; text-decoration-color: #00af00\">0</span> (0.00 B)\n",
       "</pre>\n"
      ],
      "text/plain": [
       "\u001b[1m Non-trainable params: \u001b[0m\u001b[38;5;34m0\u001b[0m (0.00 B)\n"
      ]
     },
     "metadata": {},
     "output_type": "display_data"
    }
   ],
   "source": [
    "# Initialize the model\n",
    "client_lr = 3e-4\n",
    "NUM_ROUNDS = 300\n",
    "BATCH_SIZE = 4\n",
    "\n",
    "model = create_keras_model(NUM_PACKETS_PER_FLOW, NUM_FEATURE, NUM_CLASSES)\n",
    "model.summary()"
   ]
  },
  {
   "cell_type": "code",
   "execution_count": 28,
   "id": "68aceb3ee7c7e8fe",
   "metadata": {
    "ExecuteTime": {
     "end_time": "2024-06-11T08:55:08.168911Z",
     "start_time": "2024-06-11T08:50:44.584739Z"
    }
   },
   "outputs": [
    {
     "name": "stdout",
     "output_type": "stream",
     "text": [
      "Epoch 1/5\n",
      "\u001b[1m185/185\u001b[0m \u001b[32m━━━━━━━━━━━━━━━━━━━━\u001b[0m\u001b[37m\u001b[0m \u001b[1m29s\u001b[0m 148ms/step - loss: 0.9069 - sparse_categorical_accuracy: 0.6604 - val_loss: 0.2473 - val_sparse_categorical_accuracy: 0.9043\n",
      "Epoch 2/5\n",
      "\u001b[1m185/185\u001b[0m \u001b[32m━━━━━━━━━━━━━━━━━━━━\u001b[0m\u001b[37m\u001b[0m \u001b[1m27s\u001b[0m 148ms/step - loss: 0.2708 - sparse_categorical_accuracy: 0.8875 - val_loss: 0.1474 - val_sparse_categorical_accuracy: 0.9309\n",
      "Epoch 3/5\n",
      "\u001b[1m185/185\u001b[0m \u001b[32m━━━━━━━━━━━━━━━━━━━━\u001b[0m\u001b[37m\u001b[0m \u001b[1m27s\u001b[0m 147ms/step - loss: 0.1846 - sparse_categorical_accuracy: 0.9286 - val_loss: 0.0873 - val_sparse_categorical_accuracy: 0.9628\n",
      "Epoch 4/5\n",
      "\u001b[1m185/185\u001b[0m \u001b[32m━━━━━━━━━━━━━━━━━━━━\u001b[0m\u001b[37m\u001b[0m \u001b[1m41s\u001b[0m 146ms/step - loss: 0.1116 - sparse_categorical_accuracy: 0.9582 - val_loss: 0.0716 - val_sparse_categorical_accuracy: 0.9787\n",
      "Epoch 5/5\n",
      "\u001b[1m185/185\u001b[0m \u001b[32m━━━━━━━━━━━━━━━━━━━━\u001b[0m\u001b[37m\u001b[0m \u001b[1m27s\u001b[0m 147ms/step - loss: 0.0820 - sparse_categorical_accuracy: 0.9786 - val_loss: 0.0538 - val_sparse_categorical_accuracy: 0.9840\n",
      "Training time: 151.87494778633118 seconds\n"
     ]
    }
   ],
   "source": [
    "model.compile(optimizer=tf.keras.optimizers.Adam(\n",
    "    learning_rate=client_lr), loss=tf.keras.losses.SparseCategoricalCrossentropy(),\n",
    "    metrics=['sparse_categorical_accuracy'])\n",
    "start = time()\n",
    "\n",
    "history = model.fit(x_train, label_train, epochs=EPOCHS, batch_size=BATCH_SIZE, shuffle=True,\n",
    "                    validation_data=(x_validate, label_validate))\n",
    "end = time() - start\n",
    "\n",
    "print(f'Training time: {end} seconds')"
   ]
  },
  {
   "cell_type": "markdown",
   "id": "b57e97b0d38b0078",
   "metadata": {},
   "source": [
    "# Evaluate the model"
   ]
  },
  {
   "cell_type": "code",
   "execution_count": 29,
   "id": "13f98f3b",
   "metadata": {
    "ExecuteTime": {
     "end_time": "2024-06-11T08:55:08.174988Z",
     "start_time": "2024-06-11T08:55:08.170655Z"
    }
   },
   "outputs": [],
   "source": [
    "import os\n",
    "\n",
    "result_dir = this_dir / 'results'\n",
    "output_dir = result_dir / EXPERIMENT_NAME\n",
    "\n",
    "if not os.path.exists(output_dir):\n",
    "    os.makedirs(output_dir)"
   ]
  },
  {
   "cell_type": "code",
   "execution_count": 30,
   "id": "700afefd",
   "metadata": {
    "ExecuteTime": {
     "end_time": "2024-06-11T08:55:09.974423Z",
     "start_time": "2024-06-11T08:55:08.177003Z"
    }
   },
   "outputs": [
    {
     "name": "stdout",
     "output_type": "stream",
     "text": [
      "47/47 - 1s - 22ms/step - loss: 0.0538 - sparse_categorical_accuracy: 0.9840\n",
      "98_98\n"
     ]
    }
   ],
   "source": [
    "best_model_accuracy = history.history['sparse_categorical_accuracy'][np.argmin(history.history['loss'])]\n",
    "_, test_acc = model.evaluate(x_validate, label_validate, verbose=2, batch_size=BATCH_SIZE)\n",
    "train_val = str(round(best_model_accuracy * 100)) + \"_\" + str(round(test_acc * 100))\n",
    "\n",
    "print(train_val)"
   ]
  },
  {
   "cell_type": "code",
   "execution_count": 31,
   "id": "4f8b09f5",
   "metadata": {
    "ExecuteTime": {
     "end_time": "2024-06-11T08:55:10.234441Z",
     "start_time": "2024-06-11T08:55:09.976136Z"
    }
   },
   "outputs": [],
   "source": [
    "import keras\n",
    "\n",
    "keras.saving.save_model(model, output_dir / 'model.keras')"
   ]
  },
  {
   "cell_type": "code",
   "execution_count": 32,
   "id": "135804b7",
   "metadata": {
    "ExecuteTime": {
     "end_time": "2024-06-11T08:55:10.244095Z",
     "start_time": "2024-06-11T08:55:10.236714Z"
    }
   },
   "outputs": [],
   "source": [
    "with open(output_dir / 'parameters.txt', 'w') as f:\n",
    "    print('client_lr: {}\\nEpochs: {}\\nBATCH_SIZE: {}'.format(\n",
    "        client_lr, NUM_ROUNDS, BATCH_SIZE), file=f)\n",
    "    f.close()"
   ]
  },
  {
   "cell_type": "code",
   "execution_count": 33,
   "id": "47498c23",
   "metadata": {
    "ExecuteTime": {
     "end_time": "2024-06-11T08:55:10.450747Z",
     "start_time": "2024-06-11T08:55:10.248194Z"
    }
   },
   "outputs": [],
   "source": [
    "def sec_to_hours(seconds):\n",
    "    a = seconds // 3600\n",
    "    b = (seconds % 3600) // 60\n",
    "    c = (seconds % 3600) % 60\n",
    "    d = \"{:.0f} hours {:.0f} mins {:.0f} seconds\".format(a, b, c)\n",
    "    return d\n",
    "\n",
    "\n",
    "total_time = \"Time: {}\".format(sec_to_hours(end))\n",
    "\n",
    "text_file = open(output_dir / \"time.txt\", \"w\")\n",
    "n = text_file.write(total_time)\n",
    "text_file.close()"
   ]
  },
  {
   "cell_type": "code",
   "execution_count": 34,
   "id": "85053eb6",
   "metadata": {
    "ExecuteTime": {
     "end_time": "2024-06-11T08:55:12.407385Z",
     "start_time": "2024-06-11T08:55:10.455038Z"
    }
   },
   "outputs": [
    {
     "name": "stdout",
     "output_type": "stream",
     "text": [
      "59/59 - 1s - 24ms/step\n"
     ]
    }
   ],
   "source": [
    "start = time()\n",
    "predictions = model.predict(\n",
    "    x_test, verbose=2, batch_size=BATCH_SIZE)\n",
    "end = time() - start\n",
    "text_file= open(output_dir / \"time.txt\", \"a\")\n",
    "text_file.write(f'\\nPredict time: {sec_to_hours(end)}')\n",
    "text_file.close() "
   ]
  },
  {
   "cell_type": "code",
   "execution_count": 35,
   "id": "94d5d7ed",
   "metadata": {
    "ExecuteTime": {
     "end_time": "2024-06-11T08:55:12.412165Z",
     "start_time": "2024-06-11T08:55:12.408763Z"
    }
   },
   "outputs": [],
   "source": [
    "flow_pred = np.argmax(predictions, axis=-1)"
   ]
  },
  {
   "cell_type": "code",
   "execution_count": 36,
   "id": "4b0e4a6b",
   "metadata": {
    "ExecuteTime": {
     "end_time": "2024-06-11T08:55:12.451704Z",
     "start_time": "2024-06-11T08:55:12.414249Z"
    }
   },
   "outputs": [],
   "source": [
    "from sklearn.metrics import ConfusionMatrixDisplay\n",
    "from sklearn.metrics import accuracy_score, precision_score, recall_score, f1_score\n",
    "from sklearn.metrics import classification_report\n",
    "\n",
    "CLASSES_LIST = ['Benign', 'DNSCat2', 'DNS2TCP', 'Iodine']\n",
    "\n",
    "with open(output_dir / 'metrics.txt', 'w') as f:\n",
    "    # importing accuracy_score, precision_score, recall_score, f1_score\n",
    "    print('\\nAccuracy: {:.2f}\\n'.format(\n",
    "        accuracy_score(label_test, flow_pred)), file=f)\n",
    "\n",
    "    print('Micro Precision: {:.2f}'.format(\n",
    "        precision_score(label_test, flow_pred, average='micro')), file=f)\n",
    "    print('Micro Recall: {:.2f}'.format(\n",
    "        recall_score(label_test, flow_pred, average='micro')), file=f)\n",
    "    print(\n",
    "        'Micro F1-score: {:.2f}\\n'.format(f1_score(label_test, flow_pred, average='micro')), file=f)\n",
    "\n",
    "    print('Macro Precision: {:.2f}'.format(\n",
    "        precision_score(label_test, flow_pred, average='macro')), file=f)\n",
    "    print('Macro Recall: {:.2f}'.format(\n",
    "        recall_score(label_test, flow_pred, average='macro')), file=f)\n",
    "    print(\n",
    "        'Macro F1-score: {:.2f}\\n'.format(f1_score(label_test, flow_pred, average='macro')), file=f)\n",
    "\n",
    "    print('Weighted Precision: {:.2f}'.format(\n",
    "        precision_score(label_test, flow_pred, average='weighted')), file=f)\n",
    "    print('Weighted Recall: {:.2f}'.format(\n",
    "        recall_score(label_test, flow_pred, average='weighted')), file=f)\n",
    "    print(\n",
    "        'Weighted F1-score: {:.2f}'.format(f1_score(label_test, flow_pred, average='weighted')), file=f)\n",
    "\n",
    "    print('\\nClassification Report\\n', file=f)\n",
    "    print(classification_report(label_test, flow_pred, target_names=CLASSES_LIST), file=f)\n",
    "    f.close()\n"
   ]
  },
  {
   "cell_type": "code",
   "execution_count": 37,
   "id": "40bbe13c",
   "metadata": {
    "ExecuteTime": {
     "end_time": "2024-06-11T08:55:12.932552Z",
     "start_time": "2024-06-11T08:55:12.453809Z"
    }
   },
   "outputs": [
    {
     "data": {
      "image/png": "[encoded data removed]",
      "text/plain": [
       "<Figure size 1000x1000 with 1 Axes>"
      ]
     },
     "metadata": {},
     "output_type": "display_data"
    }
   ],
   "source": [
    "import matplotlib.pyplot as plt\n",
    "\n",
    "fig, ax = plt.subplots(figsize=(10, 10))\n",
    "ConfusionMatrixDisplay.from_predictions(label_test, flow_pred, display_labels=CLASSES_LIST, xticks_rotation='vertical',\n",
    "                                        ax=ax, colorbar=False)\n",
    "plt.savefig(output_dir / 'ConfusionMatrix.pdf', bbox_inches=\"tight\")"
   ]
  },
  {
   "cell_type": "code",
   "execution_count": 38,
   "id": "5af49d41",
   "metadata": {
    "ExecuteTime": {
     "end_time": "2024-06-11T08:55:13.434805Z",
     "start_time": "2024-06-11T08:55:12.934301Z"
    }
   },
   "outputs": [
    {
     "data": {
      "image/png": "[encoded data removed]",
      "text/plain": [
       "<Figure size 1200x1000 with 2 Axes>"
      ]
     },
     "metadata": {},
     "output_type": "display_data"
    }
   ],
   "source": [
    "from matplotlib.ticker import PercentFormatter\n",
    "import matplotlib.pyplot as plt\n",
    "import seaborn as sns\n",
    "from sklearn.metrics import confusion_matrix\n",
    "\n",
    "\n",
    "def cm_analysis(y_true, y_pred, filename, labels, classes, ymap=None, figsize=(17, 17)):\n",
    "    \"\"\"\n",
    "    Generate matrix plot of confusion matrix with pretty annotations.\n",
    "    The plot image is saved to disk.\n",
    "    args: \n",
    "      y_true:    true label of the data, with shape (nsamples,)\n",
    "      y_pred:    prediction of the data, with shape (nsamples,)\n",
    "      filename:  filename of figure file to save\n",
    "      labels:    string array, name the order of class labels in the confusion matrix.\n",
    "                 use `clf.classes_` if using scikit-learn models.\n",
    "                 with shape (nclass,).\n",
    "      classes:   aliases for the labels. String array to be shown in the cm plot.\n",
    "      ymap:      dict: any -> string, length == nclass.\n",
    "                 if not None, map the labels & ys to more understandable strings.\n",
    "                 Caution: original y_true, y_pred and labels must align.\n",
    "      figsize:   the size of the figure plotted.\n",
    "    \"\"\"\n",
    "    sns.set(font_scale=1)\n",
    "\n",
    "    if ymap is not None:\n",
    "        y_pred = [ymap[yi] for yi in y_pred]\n",
    "        y_true = [ymap[yi] for yi in y_true]\n",
    "        labels = [ymap[yi] for yi in labels]\n",
    "    cm = confusion_matrix(y_true, y_pred, labels=labels)\n",
    "    cm_sum = np.sum(cm, axis=1, keepdims=True)\n",
    "    cm_perc = cm / cm_sum.astype(float) * 100\n",
    "    annot = np.empty_like(cm).astype(str)\n",
    "    nrows, ncols = cm.shape\n",
    "    for i in range(nrows):\n",
    "        for j in range(ncols):\n",
    "            c = cm[i, j]\n",
    "            p = cm_perc[i, j]\n",
    "            if i == j:\n",
    "                s = cm_sum[i]\n",
    "                annot[i, j] = '%.2f%%\\n%d/%d' % (p, c, s[0])\n",
    "            #elif c == 0:\n",
    "            #    annot[i, j] = ''\n",
    "            else:\n",
    "                annot[i, j] = '%.2f%%\\n%d' % (p, c)\n",
    "    cm = confusion_matrix(y_true, y_pred, labels=labels, normalize='true')\n",
    "    cm = pd.DataFrame(cm, index=labels, columns=labels)\n",
    "    cm = cm * 100\n",
    "    cm.index.name = 'True Label'\n",
    "    cm.columns.name = 'Predicted Label'\n",
    "    fig, ax = plt.subplots(figsize=figsize)\n",
    "    plt.yticks(va='center')\n",
    "\n",
    "    sns.heatmap(cm, annot=annot, fmt='', ax=ax, xticklabels=classes, cbar=True, cbar_kws={'format': PercentFormatter()},\n",
    "                yticklabels=classes, cmap=\"Blues\")\n",
    "    plt.savefig(filename, bbox_inches='tight')\n",
    "\n",
    "\n",
    "cm_analysis(y_true=label_test, y_pred=flow_pred, filename=output_dir / 'ConfusionMatrix_nom.pdf', labels=[0, 1, 2, 3],\n",
    "            classes=CLASSES_LIST, figsize=(12, 10))"
   ]
  },
  {
   "cell_type": "code",
   "execution_count": 39,
   "id": "4d574c91",
   "metadata": {
    "ExecuteTime": {
     "end_time": "2024-06-11T08:55:13.755065Z",
     "start_time": "2024-06-11T08:55:13.436220Z"
    }
   },
   "outputs": [
    {
     "data": {
      "image/png": "[encoded data removed]",
      "text/plain": [
       "<Figure size 1000x600 with 1 Axes>"
      ]
     },
     "metadata": {},
     "output_type": "display_data"
    }
   ],
   "source": [
    "plt.figure(figsize=(10, 6))\n",
    "plt.plot(history.history['sparse_categorical_accuracy'], label='accuracy')\n",
    "plt.plot(\n",
    "    history.history['val_sparse_categorical_accuracy'], label='val_accuracy')\n",
    "plt.legend()\n",
    "plt.xlabel('Epoch')\n",
    "plt.ylabel('Accuracy')\n",
    "plt.ylim([0, 1])\n",
    "plt.savefig(output_dir / \"normal_model_Accuracy.pdf\")"
   ]
  },
  {
   "cell_type": "code",
   "execution_count": 40,
   "id": "d8aa5873a5a165aa",
   "metadata": {
    "ExecuteTime": {
     "end_time": "2024-06-11T08:55:14.060342Z",
     "start_time": "2024-06-11T08:55:13.756535Z"
    }
   },
   "outputs": [
    {
     "data": {
      "image/png": "[encoded data removed]",
      "text/plain": [
       "<Figure size 1000x600 with 1 Axes>"
      ]
     },
     "metadata": {},
     "output_type": "display_data"
    }
   ],
   "source": [
    "plt.figure(figsize=(10, 6))\n",
    "plt.plot(history.history['loss'], label='loss')\n",
    "plt.plot(history.history['val_loss'], label='val_loss')\n",
    "plt.legend()\n",
    "plt.xlabel('Epoch')\n",
    "plt.ylabel('Loss')\n",
    "plt.savefig(output_dir / \"normal_model_Loss.pdf\")\n"
   ]
  }
 ],
 "metadata": {
  "kernelspec": {
   "display_name": "Python 3 (ipykernel)",
   "language": "python",
   "name": "python3"
  },
  "language_info": {
   "codemirror_mode": {
    "name": "ipython",
    "version": 3
   },
   "file_extension": ".py",
   "mimetype": "text/x-python",
   "name": "python",
   "nbconvert_exporter": "python",
   "pygments_lexer": "ipython3",
   "version": "3.10.14"
  }
 },
 "nbformat": 4,
 "nbformat_minor": 5
}
